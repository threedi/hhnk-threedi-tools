{
 "cells": [
  {
   "attachments": {},
   "cell_type": "markdown",
   "metadata": {},
   "source": [
    "# Nabewerking klimaatsommen prep\n",
    "De klimaatsommen hebben rasters nodig.\n",
    "\n",
    "Deze worden uit de 18 gedownloade netcdf bestanden gemaakt. Hiervoor is het nodig \n",
    "- dat er lokaal een wateschadeschatter is geinstalleerd.\n",
    "- panden beschikbaar in 01_source_data\\panden.gpkg. Maak een clip van \"E:\\01.basisgegevens\\Panden\\Panden_HHNK_sampled_v2.gpkg\" met de poldershape"
   ]
  },
  {
   "cell_type": "code",
   "execution_count": null,
   "metadata": {},
   "outputs": [],
   "source": [
    "import os\n",
    "import json\n",
    "try:\n",
    "    with open(os.getcwd() + \"/notebook_data.json\") as f:\n",
    "        notebook_data = json.load(f)\n",
    "except:\n",
    "    pass\n",
    "\n",
    "import geopandas as gpd\n",
    "\n",
    "from hhnk_threedi_tools import Folders\n",
    "import hhnk_research_tools as hrt\n",
    "from hhnk_research_tools.raster_functions import reproject\n",
    "\n",
    "from hhnk_threedi_tools.core.result_rasters.netcdf_to_gridgpkg import ThreediGrid\n",
    "from hhnk_threedi_tools.core.result_rasters.calculate_raster import BaseCalculatorGPKG\n",
    "import ipywidgets as widgets\n",
    "\n",
    "\n",
    "# Folders inladen\n",
    "folder = Folders(notebook_data['polder_folder'])\n",
    "\n",
    "# Of handmatig;\n",
    "# folder=Folders(r\"E:\\02.modellen\\model_test_v2\")\n"
   ]
  },
  {
   "cell_type": "code",
   "execution_count": null,
   "metadata": {},
   "outputs": [],
   "source": [
    "def item_layout(width=\"95%\", grid_area=\"\", **kwargs):\n",
    "    return widgets.Layout(\n",
    "        width=width, grid_area=grid_area, **kwargs\n",
    "    )  # override the default width of the button to 'auto' to let the button grow\n",
    "\n",
    "dem_path = folder.model.schema_base.rasters.dem.path\n",
    "dem = hrt.Raster(dem_path)\n",
    "\n",
    "output_folder_options = [\"\"] + folder.threedi_results.batch.content\n",
    "output_folder_box = widgets.Select(\n",
    "    options=output_folder_options,\n",
    "    rows=len(output_folder_options),\n",
    "    disabled=False,\n",
    "    layout=item_layout(grid_area=\"output_folder_box\"),\n",
    ")\n",
    "\n",
    "print(\"Selecteer map met batch resultaten\")\n",
    "display(output_folder_box)\n"
   ]
  },
  {
   "attachments": {},
   "cell_type": "markdown",
   "metadata": {},
   "source": [
    "## Dem res 0.5m afdwingen"
   ]
  },
  {
   "cell_type": "code",
   "execution_count": null,
   "metadata": {},
   "outputs": [],
   "source": [
    "#When resolution is not 0.5 we reproject DEM so we do all calculations on 0.5m.\n",
    "if output_folder_box.value == \"\":\n",
    "    raise Exception(\"Select batch folder\")\n",
    "\n",
    "batch_fd = folder.threedi_results.batch[output_folder_box.value]\n",
    "        \n",
    "if dem.metadata.pixel_width != 0.5:\n",
    "    new_dem_path = batch_fd.downloads.pl/f\"{dem.pl.stem}_05m.tif\"\n",
    "    if not new_dem_path.exists():\n",
    "        reproject(src = dem, \n",
    "                    target_res = 0.5,\n",
    "                    output_path = new_dem_path\n",
    "        )\n",
    "if dem.metadata.pixel_width != 0.5:\n",
    "    new_dem_path = batch_fd.downloads.pl/f\"{dem.pl.stem}_05m.tif\"\n",
    "    dem = hrt.Raster(new_dem_path)"
   ]
  },
  {
   "attachments": {},
   "cell_type": "markdown",
   "metadata": {},
   "source": [
    "## Klaarzetten grid"
   ]
  },
  {
   "cell_type": "code",
   "execution_count": null,
   "metadata": {},
   "outputs": [],
   "source": [
    "for name in batch_fd.downloads.names:\n",
    "    print(name)\n",
    "    scenario = getattr(batch_fd.downloads, name)\n",
    "\n",
    "    threedi_result = scenario.netcdf\n",
    "\n",
    "    #Select result\n",
    "    threedigrid = ThreediGrid(folder=folder, threedi_result=threedi_result)\n",
    "\n",
    "    #Convert netcdf to grid gpkg\n",
    "    threedigrid.netcdf_to_grid_gpkg()\n",
    "\n",
    "    #Replace waterlevel of selected cells with avg of neighbours.\n",
    "    threedigrid.waterlevel_correction(output_col=\"wlvl_max_replaced\")"
   ]
  },
  {
   "attachments": {},
   "cell_type": "markdown",
   "metadata": {},
   "source": [
    "# Diepterasters"
   ]
  },
  {
   "cell_type": "code",
   "execution_count": null,
   "metadata": {},
   "outputs": [],
   "source": [
    "OVERWRITE=False\n",
    "\n",
    "for name in batch_fd.downloads.names:\n",
    "    print(name)\n",
    "    \n",
    "    scenario = getattr(batch_fd.downloads, name)\n",
    "    \n",
    "    threedi_result = scenario.netcdf\n",
    "\n",
    "\n",
    "    grid_gdf = gpd.read_file(threedi_result.pl/\"grid_corr.gpkg\", driver=\"GPKG\")\n",
    "\n",
    "\n",
    "    calculator_kwargs = {\"dem_path\":dem.source_path,\n",
    "                            \"grid_gdf\":grid_gdf, \n",
    "                            \"wlvl_column\":\"wlvl_max_replaced\"}\n",
    "\n",
    "    #Init calculator\n",
    "    with BaseCalculatorGPKG(**calculator_kwargs) as self:\n",
    "        self.run(output_folder=scenario.depth_max.pl.parent,  \n",
    "                    output_raster_name=scenario.depth_max.pl.name,\n",
    "                    mode=\"MODE_WDEPTH\",\n",
    "                    overwrite=OVERWRITE)\n",
    "        print(\"Done.\")"
   ]
  },
  {
   "attachments": {},
   "cell_type": "markdown",
   "metadata": {},
   "source": [
    "# Schaderasters"
   ]
  },
  {
   "cell_type": "code",
   "execution_count": null,
   "metadata": {},
   "outputs": [],
   "source": [
    "# Schadeschatter heeft wat extra voorbereiding nodig.\n",
    "from pathlib import Path\n",
    "schadeschatter_path = Path(r\"E:\\01.basisgegevens\\hhnk_schadeschatter\")\n",
    "\n",
    "import sys\n",
    "if str(schadeschatter_path) not in sys.path:\n",
    "    sys.path.append(str(schadeschatter_path))\n",
    "import hhnk_schadeschatter as hhnk_wss\n",
    "\n",
    "\n",
    "for name in batch_fd.downloads.names:\n",
    "    print(name)\n",
    "    scenario = getattr(batch_fd.downloads, name)\n",
    "    \n",
    "    #Variables\n",
    "    # cfg_file = schadeschatter_path/'01_data/cfg/cfg_hhnk_2020.cfg'\n",
    "    cfg_file = schadeschatter_path/'01_data/cfg/cfg_lizard.cfg'\n",
    "    landuse_file = r\"E:\\01.basisgegevens\\rasters\\landgebruik/landuse2020_tiles/combined_rasters.vrt\"\n",
    "\n",
    "    depth_file = scenario.depth_max.path\n",
    "    output_raster = scenario.damage_total\n",
    "\n",
    "    wss_settings = {'inundation_period': 48, #uren\n",
    "                    'herstelperiode':'10 dagen',\n",
    "                    'maand':'sep',\n",
    "                    'cfg_file':cfg_file,\n",
    "                    'dmg_type':'gem'}\n",
    "\n",
    "    #Calculation\n",
    "    self = hhnk_wss.wss_main.Waterschadeschatter(depth_file=depth_file, \n",
    "                            landuse_file=landuse_file, \n",
    "                            wss_settings=wss_settings)\n",
    "\n",
    "    # Berekenen schaderaster\n",
    "    self.run(output_raster=output_raster, \n",
    "            calculation_type=\"sum\", \n",
    "            overwrite=False)\n"
   ]
  },
  {
   "attachments": {},
   "cell_type": "markdown",
   "metadata": {},
   "source": [
    "# Waterstandrasters (optioneel)\n",
    "Nog niet nodig voor standaard nabewerking"
   ]
  },
  {
   "cell_type": "code",
   "execution_count": null,
   "metadata": {},
   "outputs": [],
   "source": [
    "OVERWRITE=False\n",
    "\n",
    "\n",
    "for name in batch_fd.downloads.names:\n",
    "    print(name)\n",
    "    \n",
    "    scenario = getattr(batch_fd.downloads, name)\n",
    "    \n",
    "    threedi_result = scenario.netcdf\n",
    "\n",
    "\n",
    "    grid_gdf = gpd.read_file(threedi_result.pl/\"grid_corr.gpkg\", driver=\"GPKG\")\n",
    "\n",
    "\n",
    "    calculator_kwargs = {\"dem_path\":dem.source_path,\n",
    "                            \"grid_gdf\":grid_gdf, \n",
    "                            \"wlvl_column\":\"wlvl_max_replaced\"}\n",
    "\n",
    "    #Init calculator\n",
    "    with BaseCalculatorGPKG(**calculator_kwargs) as self:\n",
    "        self.run(output_folder=scenario.wlvl_max.pl.parent,  \n",
    "                    output_raster_name=scenario.wlvl_max.pl.name,\n",
    "                    mode=\"MODE_WLVL\",\n",
    "                    overwrite=OVERWRITE)\n",
    "        print(\"Done.\")\n"
   ]
  }
 ],
 "metadata": {
  "kernelspec": {
   "display_name": "Python 3.9.5 64-bit",
   "language": "python",
   "name": "python3"
  },
  "language_info": {
   "codemirror_mode": {
    "name": "ipython",
    "version": 3
   },
   "file_extension": ".py",
   "mimetype": "text/x-python",
   "name": "python",
   "nbconvert_exporter": "python",
   "pygments_lexer": "ipython3",
   "version": "3.9.5"
  },
  "orig_nbformat": 4,
  "vscode": {
   "interpreter": {
    "hash": "0fc58e98793cebe35780511f282c58e972a0a95ab91518e7c36af272d26f5fd0"
   }
  }
 },
 "nbformat": 4,
 "nbformat_minor": 2
}
