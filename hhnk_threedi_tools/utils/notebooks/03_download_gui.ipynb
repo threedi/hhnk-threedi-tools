{
 "cells": [
  {
   "cell_type": "markdown",
   "metadata": {},
   "source": [
    "# 03. Downloaden modelresultaten\n",
    "- modelnaam in rasters toevoegen\n",
    "- HTTPError: 504 Server Error: Gateway Time-out oplossen\n",
    "- HTTPError: 503 Server Error: Service Unavailable for url: https://hhnk.lizard.net/api/v3/tasks/92c6b2b8-b841-4fec-b931-87a746892555/"
   ]
  },
  {
   "cell_type": "code",
   "execution_count": 1,
   "metadata": {
    "ExecuteTime": {
     "end_time": "2021-09-22T17:05:51.475637Z",
     "start_time": "2021-09-22T17:05:50.609320Z"
    },
    "scrolled": false
   },
   "outputs": [
    {
     "data": {
      "text/html": [
       "<style>.container {width:90% !important;}</style>"
      ],
      "text/plain": [
       "<IPython.core.display.HTML object>"
      ]
     },
     "metadata": {},
     "output_type": "display_data"
    },
    {
     "data": {
      "application/vnd.jupyter.widget-view+json": {
       "model_id": "3e644e0bbfc6473db38b057e38916885",
       "version_major": 2,
       "version_minor": 0
      },
      "text/plain": [
       "GridBox(children=(HTML(value='<b>1. Login with 3Di account</b>', layout=Layout(grid_area='login_label', width=…"
      ]
     },
     "metadata": {},
     "output_type": "display_data"
    },
    {
     "name": "stdout",
     "output_type": "stream",
     "text": [
      "Kan opgegeven naam niet koppelen aan een output folder\n"
     ]
    }
   ],
   "source": [
    "from threedi_scenario_downloader import downloader as dl\n",
    "import logging\n",
    "import sys\n",
    "import importlib\n",
    "\n",
    "sys.path.append('C:/Users/chris.kerklaan/Documents/Github/hhnk-threedi-tools')\n",
    "\n",
    "\n",
    "import ipywidgets as widgets\n",
    "from IPython.core.display import display, HTML; display(HTML(\"<style>.container {width:90% !important;}</style>\"))\n",
    "%matplotlib inline\n",
    "\n",
    "# local imports\n",
    "from hhnk_threedi_tools.core.api.download_gui import download_gui\n",
    "\n",
    "polders_folder = \"C:/Users/chris.kerklaan/Documents/Github/hhnk-threedi-tools/hhnk_threedi_tools/tests/data/multiple_polders\"\n",
    "\n",
    "download_tab = download_gui(polders_folder); download_tab"
   ]
  },
  {
   "cell_type": "code",
   "execution_count": null,
   "metadata": {
    "ExecuteTime": {
     "end_time": "2021-09-13T11:52:58.465415Z",
     "start_time": "2021-09-13T11:52:58.460262Z"
    },
    "scrolled": false
   },
   "outputs": [],
   "source": []
  },
  {
   "cell_type": "code",
   "execution_count": null,
   "metadata": {
    "ExecuteTime": {
     "end_time": "2021-08-02T08:32:56.128262Z",
     "start_time": "2021-08-02T08:32:55.579323Z"
    },
    "scrolled": false
   },
   "outputs": [],
   "source": []
  },
  {
   "cell_type": "code",
   "execution_count": null,
   "metadata": {
    "ExecuteTime": {
     "end_time": "2021-08-02T08:38:01.298259Z",
     "start_time": "2021-08-02T08:37:47.423370Z"
    }
   },
   "outputs": [],
   "source": [
    "#Resume downloads\n",
    "api_key = input('API key: ')\n",
    "batch_csv_file = '../../07. Poldermodellen/10.tHoekje/03. Model resultaten Hydraulische Toets/2021-08-02 08h34_download_raster_batch.csv'\n",
    "\n",
    "from threedi_scenario_downloader import downloader as dl\n",
    "\n",
    "dl.set_api_key(api_key)\n",
    "dl.resume_download_tasks(batch_csv_file,overwrite=False)"
   ]
  },
  {
   "cell_type": "code",
   "execution_count": null,
   "metadata": {},
   "outputs": [],
   "source": []
  },
  {
   "cell_type": "code",
   "execution_count": null,
   "metadata": {},
   "outputs": [],
   "source": []
  },
  {
   "cell_type": "code",
   "execution_count": null,
   "metadata": {},
   "outputs": [],
   "source": []
  },
  {
   "cell_type": "markdown",
   "metadata": {},
   "source": [
    "## Downloaden van rasters voor hetzelfde model op alle tijdstappen"
   ]
  },
  {
   "cell_type": "code",
   "execution_count": null,
   "metadata": {
    "ExecuteTime": {
     "end_time": "2021-03-24T13:51:01.238511Z",
     "start_time": "2021-03-24T11:56:26.877Z"
    }
   },
   "outputs": [],
   "source": [
    "dl.set_headers(input('username:'), getpass.getpass())"
   ]
  },
  {
   "cell_type": "code",
   "execution_count": null,
   "metadata": {},
   "outputs": [],
   "source": [
    "import os\n",
    "from threedi_scenario_downloader import downloader as dl\n",
    "import getpass\n",
    "#Change three discenario downloader\n",
    "# def new_get_headers():\n",
    "#     \"\"\"Setting the headers in the original toolbox is not easy when using this GUI. \n",
    "#     Therefore we change this function in the toolbox so everything else works.\"\"\"\n",
    "#     headers_results = {\n",
    "#     \"username\": '{}'.format('w.vanesse'),\n",
    "#     \"password\": '{}'.format(''),\n",
    "#     \"Content-Type\": \"application/json\"}\n",
    "#     return headers_results\n",
    "# setattr(dl,'get_headers', new_get_headers)\n",
    "\n",
    "output_folder = '../../07. Poldermodellen/102. Schermerboezem'\n",
    "uuid='555aaeca-ec9b-40e5-ae0b-ebb9f41505cf'\n",
    "resolution=5\n",
    "\n",
    "a=[]\n",
    "for h in range(4,24):\n",
    "    a.append('2016-01-05T{}:14:16'.format(str(h).zfill(2)))\n",
    "    \n",
    "for h in range(0,24):\n",
    "    a.append('2016-01-06T{}:14:16'.format(str(h).zfill(2)))\n",
    "    \n",
    "for h in range(0,4):\n",
    "    a.append('2016-01-07T{}:14:16'.format(str(h).zfill(2)))\n",
    "\n",
    "\n",
    "wdepth_path=[]\n",
    "for index, time in enumerate(a):\n",
    "    time_path = time.replace('-','_')\n",
    "    time_path = time_path.replace(':','_')\n",
    "    \n",
    "    wdepth_path += [os.path.join(output_folder, 'wdepth_'+ time_path +'.tif')]\n",
    "    wdepth_path[index]\n",
    "    if not os.path.exists(wdepth_path[index]):\n",
    "        print('Preparing download: {}'.format(time_path))\n",
    "        dl.download_waterdepth_raster(uuid,\"EPSG:28992\",resolution, time, pathname=wdepth_path[index])"
   ]
  },
  {
   "cell_type": "code",
   "execution_count": null,
   "metadata": {},
   "outputs": [],
   "source": []
  },
  {
   "cell_type": "code",
   "execution_count": null,
   "metadata": {},
   "outputs": [],
   "source": []
  }
 ],
 "metadata": {
  "kernelspec": {
   "display_name": "Python 3 (ipykernel)",
   "language": "python",
   "name": "python3"
  },
  "language_info": {
   "codemirror_mode": {
    "name": "ipython",
    "version": 3
   },
   "file_extension": ".py",
   "mimetype": "text/x-python",
   "name": "python",
   "nbconvert_exporter": "python",
   "pygments_lexer": "ipython3",
   "version": "3.7.10"
  }
 },
 "nbformat": 4,
 "nbformat_minor": 2
}
