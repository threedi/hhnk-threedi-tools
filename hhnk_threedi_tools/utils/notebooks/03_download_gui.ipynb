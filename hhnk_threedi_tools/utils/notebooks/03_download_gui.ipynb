{
 "cells": [
  {
   "cell_type": "markdown",
   "metadata": {},
   "source": [
    "# 03. Downloaden modelresultaten\n",
    "- modelnaam in rasters toevoegen\n",
    "- HTTPError: 504 Server Error: Gateway Time-out oplossen\n",
    "- HTTPError: 503 Server Error: Service Unavailable for url: https://hhnk.lizard.net/api/v3/tasks/92c6b2b8-b841-4fec-b931-87a746892555/"
   ]
  },
  {
   "cell_type": "code",
   "execution_count": 1,
   "metadata": {
    "ExecuteTime": {
     "end_time": "2021-10-15T14:15:42.017573Z",
     "start_time": "2021-10-15T14:15:41.723570Z"
    }
   },
   "outputs": [
    {
     "name": "stderr",
     "output_type": "stream",
     "text": [
      "Disabling notebook extension jupyter-js-widgets/extension...\n",
      "      - Validating: ok\n"
     ]
    }
   ],
   "source": [
    "!jupyter nbextension disable --py --sys-prefix widgetsnbextension"
   ]
  },
  {
   "cell_type": "code",
   "execution_count": 3,
   "metadata": {
    "ExecuteTime": {
     "end_time": "2021-10-18T07:27:41.321541Z",
     "start_time": "2021-10-18T07:27:41.025441Z"
    },
    "scrolled": false
   },
   "outputs": [
    {
     "data": {
      "text/html": [
       "<style>.container {width:90% !important;}</style>"
      ],
      "text/plain": [
       "<IPython.core.display.HTML object>"
      ]
     },
     "metadata": {},
     "output_type": "display_data"
    },
    {
     "data": {
      "application/vnd.jupyter.widget-view+json": {
       "model_id": "a351665ffc7648139e61797ebe4d4518",
       "version_major": 2,
       "version_minor": 0
      },
      "text/plain": [
       "GridBox(children=(HTML(value='<b>1. Login with 3Di account</b>', layout=Layout(grid_area='login_label', width=…"
      ]
     },
     "metadata": {},
     "output_type": "display_data"
    },
    {
     "name": "stdout",
     "output_type": "stream",
     "text": [
      "C:/Users/wvangerwen/Github/hhnk-threedi-tools/hhnk_threedi_tools/tests/data/multiple_polders\\egmond_wo\\03_3di_resultaten\\batch_results not created, parent doesnt exist.\n",
      "Kan opgegeven naam niet koppelen aan een output folder\n"
     ]
    }
   ],
   "source": [
    "from threedi_scenario_downloader import downloader as dl\n",
    "import logging\n",
    "import sys\n",
    "import importlib\n",
    "\n",
    "sys.path.append('C:/Users/chris.kerklaan/Documents/Github/hhnk-threedi-tools')\n",
    "sys.path.append('C:\\\\Users\\wvangerwen\\github\\hhnk-threedi-tools')\n",
    "\n",
    "\n",
    "import ipywidgets as widgets\n",
    "from IPython.core.display import display, HTML; display(HTML(\"<style>.container {width:90% !important;}</style>\"))\n",
    "%matplotlib inline\n",
    "\n",
    "# local imports\n",
    "from hhnk_threedi_tools.core.api.download_gui import download_gui\n",
    "\n",
    "polders_folder = \"C:/Users/chris.kerklaan/Documents/Github/hhnk-threedi-tools/hhnk_threedi_tools/tests/data/multiple_polders\"\n",
    "polders_folder = \"C:/Users/wvangerwen/Github/hhnk-threedi-tools/hhnk_threedi_tools/tests/data/multiple_polders\"\n",
    "\n",
    "download_tab = download_gui(polders_folder); download_tab"
   ]
  },
  {
   "cell_type": "code",
   "execution_count": 2,
   "metadata": {
    "ExecuteTime": {
     "end_time": "2021-10-15T10:39:39.743841Z",
     "start_time": "2021-10-15T10:39:39.737839Z"
    }
   },
   "outputs": [
    {
     "data": {
      "application/vnd.jupyter.widget-view+json": {
       "model_id": "48fc442700064dfab06e07738aae95ce",
       "version_major": 2,
       "version_minor": 0
      },
      "text/plain": [
       "Text(value='DFR4pMJq.LBnAENjQZEpgLbzLD2x4Ybsm4w4QjJYU', description='API key:', disabled=True, layout=Layout(g…"
      ]
     },
     "metadata": {},
     "output_type": "display_data"
    }
   ],
   "source": [
    "download_tab.children[1]"
   ]
  },
  {
   "cell_type": "code",
   "execution_count": 2,
   "metadata": {
    "ExecuteTime": {
     "end_time": "2021-09-29T12:22:07.503017Z",
     "start_time": "2021-09-29T12:22:07.486015Z"
    },
    "scrolled": true
   },
   "outputs": [],
   "source": [
    "import hhnk_threedi_tools as htt\n",
    "import os\n",
    "\n",
    "from hhnk_threedi_tools.core.folders import *\n",
    "\n",
    "folder = htt.Folders(os.path.join(polders_folder, 'poldera'))\n",
    "batch_fd = folder.threedi_results.batch['bwn_test #5 (1) klimaatsommen']\n",
    "\n",
    "\n",
    "# self = batch_fd.downloads\n",
    "# a=ThreediResult(self.full_path('test'))"
   ]
  },
  {
   "cell_type": "code",
   "execution_count": 8,
   "metadata": {},
   "outputs": [
    {
     "data": {
      "text/plain": [
       "'total_damage_piek_GGG_T100'"
      ]
     },
     "execution_count": 8,
     "metadata": {},
     "output_type": "execute_result"
    }
   ],
   "source": [
    "batch_fd.downloads.total_damage_piek_GGG_T100.name"
   ]
  },
  {
   "cell_type": "code",
   "execution_count": null,
   "metadata": {
    "ExecuteTime": {
     "end_time": "2021-09-29T11:26:47.928264Z",
     "start_time": "2021-09-29T11:26:47.924261Z"
    }
   },
   "outputs": [],
   "source": [
    "ho='hi'\n",
    "a=()\n",
    "print(dir(a))\n",
    "print(a)"
   ]
  },
  {
   "cell_type": "code",
   "execution_count": null,
   "metadata": {},
   "outputs": [],
   "source": []
  },
  {
   "cell_type": "code",
   "execution_count": null,
   "metadata": {},
   "outputs": [],
   "source": []
  },
  {
   "cell_type": "code",
   "execution_count": null,
   "metadata": {
    "ExecuteTime": {
     "end_time": "2021-09-29T09:14:40.447706Z",
     "start_time": "2021-09-29T09:13:36.370555Z"
    }
   },
   "outputs": [],
   "source": [
    "#Resume downloads\n",
    "# api_key = input('API key: ')\n",
    "api_key = download_tab.children[1].value\n",
    "# batch_csv_file = '../../07. Poldermodellen/10.tHoekje/03. Model resultaten Hydraulische Toets/2021-08-02 08h34_download_raster_batch.csv'\n",
    "batch_csv_file = r\"C:\\Users\\wvangerwen\\github\\hhnk-threedi-tools\\hhnk_threedi_tools\\tests\\data\\multiple_polders\\poldera\\03_3di_resultaten\\batch_results\\bwn_test #5 (1) klimaatsommen\\2021-09-24 13h48_download_raster_batch.csv\"\n",
    "\n",
    "from threedi_scenario_downloader import downloader as dl\n",
    "\n",
    "dl.set_api_key(api_key)\n",
    "dl.resume_download_tasks(batch_csv_file,overwrite=False)"
   ]
  },
  {
   "cell_type": "code",
   "execution_count": null,
   "metadata": {},
   "outputs": [],
   "source": []
  },
  {
   "cell_type": "code",
   "execution_count": null,
   "metadata": {},
   "outputs": [],
   "source": []
  },
  {
   "cell_type": "code",
   "execution_count": null,
   "metadata": {},
   "outputs": [],
   "source": []
  },
  {
   "cell_type": "markdown",
   "metadata": {},
   "source": [
    "## Downloaden van rasters voor hetzelfde model op alle tijdstappen"
   ]
  },
  {
   "cell_type": "code",
   "execution_count": null,
   "metadata": {
    "ExecuteTime": {
     "end_time": "2021-03-24T13:51:01.238511Z",
     "start_time": "2021-03-24T11:56:26.877Z"
    }
   },
   "outputs": [],
   "source": [
    "dl.set_headers(input('username:'), getpass.getpass())"
   ]
  },
  {
   "cell_type": "code",
   "execution_count": null,
   "metadata": {},
   "outputs": [],
   "source": [
    "import os\n",
    "from threedi_scenario_downloader import downloader as dl\n",
    "import getpass\n",
    "#Change three discenario downloader\n",
    "# def new_get_headers():\n",
    "#     \"\"\"Setting the headers in the original toolbox is not easy when using this GUI. \n",
    "#     Therefore we change this function in the toolbox so everything else works.\"\"\"\n",
    "#     headers_results = {\n",
    "#     \"username\": '{}'.format('w.vanesse'),\n",
    "#     \"password\": '{}'.format(''),\n",
    "#     \"Content-Type\": \"application/json\"}\n",
    "#     return headers_results\n",
    "# setattr(dl,'get_headers', new_get_headers)\n",
    "\n",
    "output_folder = '../../07. Poldermodellen/102. Schermerboezem'\n",
    "uuid='555aaeca-ec9b-40e5-ae0b-ebb9f41505cf'\n",
    "resolution=5\n",
    "\n",
    "a=[]\n",
    "for h in range(4,24):\n",
    "    a.append('2016-01-05T{}:14:16'.format(str(h).zfill(2)))\n",
    "    \n",
    "for h in range(0,24):\n",
    "    a.append('2016-01-06T{}:14:16'.format(str(h).zfill(2)))\n",
    "    \n",
    "for h in range(0,4):\n",
    "    a.append('2016-01-07T{}:14:16'.format(str(h).zfill(2)))\n",
    "\n",
    "\n",
    "wdepth_path=[]\n",
    "for index, time in enumerate(a):\n",
    "    time_path = time.replace('-','_')\n",
    "    time_path = time_path.replace(':','_')\n",
    "    \n",
    "    wdepth_path += [os.path.join(output_folder, 'wdepth_'+ time_path +'.tif')]\n",
    "    wdepth_path[index]\n",
    "    if not os.path.exists(wdepth_path[index]):\n",
    "        print('Preparing download: {}'.format(time_path))\n",
    "        dl.download_waterdepth_raster(uuid,\"EPSG:28992\",resolution, time, pathname=wdepth_path[index])"
   ]
  },
  {
   "cell_type": "code",
   "execution_count": null,
   "metadata": {},
   "outputs": [],
   "source": []
  },
  {
   "cell_type": "code",
   "execution_count": null,
   "metadata": {},
   "outputs": [],
   "source": []
  }
 ],
 "metadata": {
  "interpreter": {
   "hash": "eea3b0fa5359ec1c5e7f02969caa90c878a261929c8203f99e9ee0f1d9a24aeb"
  },
  "kernelspec": {
   "display_name": "Python 3 (ipykernel)",
   "language": "python",
   "name": "python3"
  },
  "language_info": {
   "codemirror_mode": {
    "name": "ipython",
    "version": 3
   },
   "file_extension": ".py",
   "mimetype": "text/x-python",
   "name": "python",
   "nbconvert_exporter": "python",
   "pygments_lexer": "ipython3",
   "version": "3.7.10"
  }
 },
 "nbformat": 4,
 "nbformat_minor": 2
}
