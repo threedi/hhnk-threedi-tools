{
 "cells": [
  {
   "cell_type": "markdown",
   "metadata": {},
   "source": [
    "# 03. Downloaden modelresultaten\n",
    "- modelnaam in rasters toevoegen\n",
    "- HTTPError: 504 Server Error: Gateway Time-out oplossen\n",
    "- HTTPError: 503 Server Error: Service Unavailable for url: https://hhnk.lizard.net/api/v3/tasks/92c6b2b8-b841-4fec-b931-87a746892555/"
   ]
  },
  {
   "cell_type": "code",
   "execution_count": 1,
   "metadata": {
    "ExecuteTime": {
     "end_time": "2021-09-22T17:05:51.475637Z",
     "start_time": "2021-09-22T17:05:50.609320Z"
    },
    "scrolled": false
   },
   "outputs": [
    {
     "data": {
      "text/html": [
       "<style>.container {width:90% !important;}</style>"
      ],
      "text/plain": [
       "<IPython.core.display.HTML object>"
      ]
     },
     "metadata": {},
     "output_type": "display_data"
    },
    {
     "ename": "ModuleNotFoundError",
     "evalue": "No module named 'hhnk_threedi_tools.variabels'",
     "output_type": "error",
     "traceback": [
      "\u001b[1;31m---------------------------------------------------------------------------\u001b[0m",
      "\u001b[1;31mModuleNotFoundError\u001b[0m                       Traceback (most recent call last)",
      "\u001b[1;32m<ipython-input-1-7ffaf4176623>\u001b[0m in \u001b[0;36m<module>\u001b[1;34m\u001b[0m\n\u001b[0;32m     12\u001b[0m \u001b[1;33m\u001b[0m\u001b[0m\n\u001b[0;32m     13\u001b[0m \u001b[1;31m# local imports\u001b[0m\u001b[1;33m\u001b[0m\u001b[1;33m\u001b[0m\u001b[1;33m\u001b[0m\u001b[0m\n\u001b[1;32m---> 14\u001b[1;33m \u001b[1;32mfrom\u001b[0m \u001b[0mhhnk_threedi_tools\u001b[0m\u001b[1;33m.\u001b[0m\u001b[0mcore\u001b[0m\u001b[1;33m.\u001b[0m\u001b[0mapi\u001b[0m\u001b[1;33m.\u001b[0m\u001b[0mdownload_gui\u001b[0m \u001b[1;32mimport\u001b[0m \u001b[0mdownload_gui\u001b[0m\u001b[1;33m\u001b[0m\u001b[1;33m\u001b[0m\u001b[0m\n\u001b[0m\u001b[0;32m     15\u001b[0m \u001b[1;33m\u001b[0m\u001b[0m\n\u001b[0;32m     16\u001b[0m \u001b[0mdownload_tab\u001b[0m \u001b[1;33m=\u001b[0m \u001b[0mdownload_gui\u001b[0m\u001b[1;33m(\u001b[0m\u001b[1;33m)\u001b[0m\u001b[1;33m;\u001b[0m \u001b[0mdownload_tab\u001b[0m\u001b[1;33m\u001b[0m\u001b[1;33m\u001b[0m\u001b[0m\n",
      "\u001b[1;32mC:/Users/chris.kerklaan/Documents/Github/hhnk-threedi-tools\\hhnk_threedi_tools\\core\\api\\download_gui.py\u001b[0m in \u001b[0;36m<module>\u001b[1;34m\u001b[0m\n\u001b[0;32m     18\u001b[0m \u001b[1;32mfrom\u001b[0m \u001b[1;33m.\u001b[0m\u001b[0mdownload_functions\u001b[0m \u001b[1;32mimport\u001b[0m \u001b[0mcreate_download_url\u001b[0m\u001b[1;33m,\u001b[0m \u001b[0mstart_download\u001b[0m\u001b[1;33m\u001b[0m\u001b[1;33m\u001b[0m\u001b[0m\n\u001b[0;32m     19\u001b[0m \u001b[1;33m\u001b[0m\u001b[0m\n\u001b[1;32m---> 20\u001b[1;33m from hhnk_threedi_tools.variabels.api_settings import (\n\u001b[0m\u001b[0;32m     21\u001b[0m     \u001b[0mRAIN_TYPES\u001b[0m\u001b[1;33m,\u001b[0m\u001b[1;33m\u001b[0m\u001b[1;33m\u001b[0m\u001b[0m\n\u001b[0;32m     22\u001b[0m     \u001b[0mGROUNDWATER\u001b[0m\u001b[1;33m,\u001b[0m\u001b[1;33m\u001b[0m\u001b[1;33m\u001b[0m\u001b[0m\n",
      "\u001b[1;31mModuleNotFoundError\u001b[0m: No module named 'hhnk_threedi_tools.variabels'"
     ]
    }
   ],
   "source": [
    "from threedi_scenario_downloader import downloader as dl\n",
    "import logging\n",
    "import sys\n",
    "import importlib\n",
    "\n",
    "sys.path.append('C:/Users/chris.kerklaan/Documents/Github/hhnk-threedi-tools')\n",
    "\n",
    "\n",
    "import ipywidgets as widgets\n",
    "from IPython.core.display import display, HTML; display(HTML(\"<style>.container {width:90% !important;}</style>\"))\n",
    "%matplotlib inline\n",
    "\n",
    "# local imports\n",
    "from hhnk_threedi_tools.core.api.download_gui import download_gui\n",
    "\n",
    "download_tab = download_gui(); download_tab"
   ]
  },
  {
   "cell_type": "code",
   "execution_count": 10,
   "metadata": {
    "ExecuteTime": {
     "end_time": "2021-09-13T11:52:58.465415Z",
     "start_time": "2021-09-13T11:52:58.460262Z"
    },
    "scrolled": false
   },
   "outputs": [],
   "source": []
  },
  {
   "cell_type": "code",
   "execution_count": null,
   "metadata": {
    "ExecuteTime": {
     "end_time": "2021-08-02T08:32:56.128262Z",
     "start_time": "2021-08-02T08:32:55.579323Z"
    },
    "scrolled": false
   },
   "outputs": [],
   "source": []
  },
  {
   "cell_type": "code",
   "execution_count": null,
   "metadata": {
    "ExecuteTime": {
     "end_time": "2021-08-02T08:38:01.298259Z",
     "start_time": "2021-08-02T08:37:47.423370Z"
    }
   },
   "outputs": [],
   "source": [
    "#Resume downloads\n",
    "api_key = input('API key: ')\n",
    "batch_csv_file = '../../07. Poldermodellen/10.tHoekje/03. Model resultaten Hydraulische Toets/2021-08-02 08h34_download_raster_batch.csv'\n",
    "\n",
    "from threedi_scenario_downloader import downloader as dl\n",
    "\n",
    "dl.set_api_key(api_key)\n",
    "dl.resume_download_tasks(batch_csv_file,overwrite=False)"
   ]
  },
  {
   "cell_type": "code",
   "execution_count": null,
   "metadata": {},
   "outputs": [],
   "source": []
  },
  {
   "cell_type": "code",
   "execution_count": null,
   "metadata": {},
   "outputs": [],
   "source": []
  },
  {
   "cell_type": "code",
   "execution_count": null,
   "metadata": {},
   "outputs": [],
   "source": []
  },
  {
   "cell_type": "markdown",
   "metadata": {},
   "source": [
    "## Downloaden van rasters voor hetzelfde model op alle tijdstappen"
   ]
  },
  {
   "cell_type": "code",
   "execution_count": null,
   "metadata": {
    "ExecuteTime": {
     "end_time": "2021-03-24T13:51:01.238511Z",
     "start_time": "2021-03-24T11:56:26.877Z"
    }
   },
   "outputs": [],
   "source": [
    "dl.set_headers(input('username:'), getpass.getpass())"
   ]
  },
  {
   "cell_type": "code",
   "execution_count": null,
   "metadata": {},
   "outputs": [],
   "source": [
    "import os\n",
    "from threedi_scenario_downloader import downloader as dl\n",
    "import getpass\n",
    "#Change three discenario downloader\n",
    "# def new_get_headers():\n",
    "#     \"\"\"Setting the headers in the original toolbox is not easy when using this GUI. \n",
    "#     Therefore we change this function in the toolbox so everything else works.\"\"\"\n",
    "#     headers_results = {\n",
    "#     \"username\": '{}'.format('w.vanesse'),\n",
    "#     \"password\": '{}'.format(''),\n",
    "#     \"Content-Type\": \"application/json\"}\n",
    "#     return headers_results\n",
    "# setattr(dl,'get_headers', new_get_headers)\n",
    "\n",
    "output_folder = '../../07. Poldermodellen/102. Schermerboezem'\n",
    "uuid='555aaeca-ec9b-40e5-ae0b-ebb9f41505cf'\n",
    "resolution=5\n",
    "\n",
    "a=[]\n",
    "for h in range(4,24):\n",
    "    a.append('2016-01-05T{}:14:16'.format(str(h).zfill(2)))\n",
    "    \n",
    "for h in range(0,24):\n",
    "    a.append('2016-01-06T{}:14:16'.format(str(h).zfill(2)))\n",
    "    \n",
    "for h in range(0,4):\n",
    "    a.append('2016-01-07T{}:14:16'.format(str(h).zfill(2)))\n",
    "\n",
    "\n",
    "wdepth_path=[]\n",
    "for index, time in enumerate(a):\n",
    "    time_path = time.replace('-','_')\n",
    "    time_path = time_path.replace(':','_')\n",
    "    \n",
    "    wdepth_path += [os.path.join(output_folder, 'wdepth_'+ time_path +'.tif')]\n",
    "    wdepth_path[index]\n",
    "    if not os.path.exists(wdepth_path[index]):\n",
    "        print('Preparing download: {}'.format(time_path))\n",
    "        dl.download_waterdepth_raster(uuid,\"EPSG:28992\",resolution, time, pathname=wdepth_path[index])"
   ]
  },
  {
   "cell_type": "code",
   "execution_count": null,
   "metadata": {},
   "outputs": [],
   "source": []
  },
  {
   "cell_type": "code",
   "execution_count": null,
   "metadata": {},
   "outputs": [],
   "source": [
    "a=[]\n",
    "for h in range(4,24):\n",
    "    a.append('2016-01-05T{}:14:16'.format(str(h).zfill(2)))\n",
    "    \n",
    "for h in range(0,24):\n",
    "    a.append('2016-01-06T{}:14:16'.format(str(h).zfill(2)))\n",
    "    \n",
    "for h in range(0,4):\n",
    "    a.append('2016-01-07T{}:14:16'.format(str(h).zfill(2)))\n",
    "\n",
    "a"
   ]
  }
 ],
 "metadata": {
  "kernelspec": {
   "display_name": "Python 3 (ipykernel)",
   "language": "python",
   "name": "python3"
  },
  "language_info": {
   "codemirror_mode": {
    "name": "ipython",
    "version": 3
   },
   "file_extension": ".py",
   "mimetype": "text/x-python",
   "name": "python",
   "nbconvert_exporter": "python",
   "pygments_lexer": "ipython3",
   "version": "3.7.10"
  }
 },
 "nbformat": 4,
 "nbformat_minor": 2
}
