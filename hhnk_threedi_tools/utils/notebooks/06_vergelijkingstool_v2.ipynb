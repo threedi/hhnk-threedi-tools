{
 "cells": [
  {
   "cell_type": "code",
   "execution_count": null,
   "id": "6b02bcd0-45f0-4cb5-86fe-553b464fccfd",
   "metadata": {
    "tags": []
   },
   "outputs": [],
   "source": [
    "# from notebook_setup import setup_notebook\n",
    "\n",
    "# notebook_data = setup_notebook()\n",
    "\n",
    "path = r\"E:\\02.modellen\\castricum\"\n",
    "\n",
    "from hhnk_threedi_tools.core.vergelijkingstool.gui.vergelijkingstool_gui import VergelijkingstoolGUI\n",
    "\n",
    "# Launch the GUI\n",
    "VergelijkingstoolGUI()\n"
   ]
  }
 ],
 "metadata": {
  "kernelspec": {
   "display_name": "default",
   "language": "python",
   "name": "python3"
  },
  "language_info": {
   "codemirror_mode": {
    "name": "ipython",
    "version": 3
   },
   "file_extension": ".py",
   "mimetype": "text/x-python",
   "name": "python",
   "nbconvert_exporter": "python",
   "pygments_lexer": "ipython3",
   "version": "3.12.12"
  }
 },
 "nbformat": 4,
 "nbformat_minor": 5
}
