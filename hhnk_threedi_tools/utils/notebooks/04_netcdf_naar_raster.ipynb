{
 "cells": [
  {
   "attachments": {},
   "cell_type": "markdown",
   "id": "a3ececb5",
   "metadata": {},
   "source": [
    "# Naverwerking waterdiepte\n",
    "\n",
    "De waterdiepte kaarten worden geinterpoleerd tussen verschillende waterstand punten. Bij HHNK worden echter watervlakken opgehoogd in het 2D om te voorkomen dat er dubbele berging ontstaat. Als dit vlak binnen een rekencel valt kan het zijn dat er water op dit vlak komt te staan. Dit willen we niet.\n",
    "\n",
    "Dit is opgelost door zelf de rasters te maken op basis van een gpkg. De werkstappen zijn;\n",
    "\n",
    "1. NetCDF omzetten in GPKG met max wlvl\n",
    "2. Cellen selecteren waar:\n",
    "    - DEM minder dan 50% van opp cel\n",
    "    - meer dan 95% water\n",
    "    - meer dan 99% pand\n",
    "2. Max wlvl van geselecteerde cellen vervangen.\n",
    "3. Wlvl/wdepth raster maken op basis van gpkg/kolom.\n"
   ]
  },
  {
   "cell_type": "code",
   "execution_count": null,
   "id": "cb23f2c3",
   "metadata": {},
   "outputs": [],
   "source": [
    "#Add qgis plugin deps to syspath and load notebook_data\n",
    "from notebook_setup import setup_notebook\n",
    "notebook_data = setup_notebook()\n",
    "\n",
    "\n",
    "import xarray \n",
    "import threedi_raster_edits as tre\n",
    "from hhnk_threedi_tools import Folders\n",
    "import hhnk_research_tools as hrt\n",
    "import geopandas as gpd\n",
    "\n",
    "from hhnk_threedi_tools.core.result_rasters.netcdf_to_gridgpkg import ThreediGrid\n",
    "from hhnk_threedi_tools.core.result_rasters.calculate_raster import BaseCalculatorGPKG\n",
    "\n",
    "\n",
    "#User input\n",
    "folder_path = r\"E:\\02.modellen\\model_test_v2\"\n",
    "scenario = \"katvoed #1 piek_ghg_T1000\" #mapnaam\n",
    "\n",
    "\n",
    "folder = Folders(folder_path)\n",
    "\n",
    "dem_path = folder.model.schema_base.rasters.dem.path\n",
    "# dem_path = r'E:\\\\02.modellen\\\\23_Katvoed\\\\02_schematisation\\\\00_basis\\\\rasters/dem_katvoed_ahn3.tif'\n",
    "\n",
    "threedi_result = folder.threedi_results.one_d_two_d[scenario]\n"
   ]
  },
  {
   "attachments": {},
   "cell_type": "markdown",
   "id": "d5ad226c",
   "metadata": {},
   "source": [
    "1. Klaarzetten grid"
   ]
  },
  {
   "cell_type": "code",
   "execution_count": null,
   "id": "091d3215",
   "metadata": {},
   "outputs": [],
   "source": [
    "#Select result\n",
    "threedigrid = ThreediGrid(folder=folder, threedi_result=threedi_result)\n",
    "\n",
    "#Convert netcdf to grid gpkg\n",
    "threedigrid.netcdf_to_grid_gpkg()\n",
    "\n",
    "#Replace waterlevel of selected cells with avg of neighbours.\n",
    "threedigrid.waterlevel_correction(output_col=\"wlvl_max_replaced\")"
   ]
  },
  {
   "attachments": {},
   "cell_type": "markdown",
   "id": "c7b68276",
   "metadata": {},
   "source": [
    "2. Berekenen rasters"
   ]
  },
  {
   "cell_type": "code",
   "execution_count": null,
   "id": "6c094ec3",
   "metadata": {},
   "outputs": [],
   "source": [
    "OVERWRITE=False\n",
    "\n",
    "grid_gdf = gpd.read_file(threedi_result.pl/\"grid_corr.gpkg\", driver=\"GPKG\")\n"
   ]
  },
  {
   "cell_type": "code",
   "execution_count": null,
   "id": "0fc0e6a4",
   "metadata": {},
   "outputs": [],
   "source": [
    "calculator_kwargs = {\"dem_path\":dem_path,\n",
    "                        \"grid_gdf\":grid_gdf, \n",
    "                        \"wlvl_column\":\"wlvl_max_replaced\"}\n",
    "\n",
    "#Init calculator\n",
    "with BaseCalculatorGPKG(**calculator_kwargs) as self:\n",
    "    self.run(output_file=threedi_result.pl/\"wlvl_corr.tif\",  \n",
    "                mode=\"MODE_WLVL\",\n",
    "                overwrite=OVERWRITE)\n",
    "    self.run(output_file=threedi_result.pl/\"wdepth_corr.tif\",  \n",
    "                mode=\"MODE_WDEPTH\",\n",
    "                overwrite=OVERWRITE)\n",
    "    print(\"Done.\")"
   ]
  },
  {
   "cell_type": "code",
   "execution_count": null,
   "id": "09fe6053",
   "metadata": {},
   "outputs": [],
   "source": [
    "calculator_kwargs = {\"dem_path\":dem_path,\n",
    "                        \"grid_gdf\":grid_gdf, \n",
    "                        \"wlvl_column\":\"wlvl_max_orig\"}\n",
    "\n",
    "with BaseCalculatorGPKG(**calculator_kwargs) as self:\n",
    "    self.run(output_file=threedi_result.pl/\"wdepth_orig.tif\",  \n",
    "                mode=\"MODE_WDEPTH\",\n",
    "                overwrite=OVERWRITE)"
   ]
  },
  {
   "attachments": {},
   "cell_type": "markdown",
   "id": "7d6d51f7",
   "metadata": {},
   "source": [
    "3. Berekenen Schaderaster"
   ]
  },
  {
   "cell_type": "code",
   "execution_count": null,
   "id": "2fc5875b",
   "metadata": {},
   "outputs": [],
   "source": [
    "# Schadeschatter heeft wat extra voorbereiding nodig.\n",
    "from pathlib import Path\n",
    "\n",
    "#Variables\n",
    "cfg_file = hrt.get_pkg_resource_path(package_resource=hrt.waterschadeschatter.resources, \n",
    "                                name=\"cfg_lizard.cfg\")\n",
    "landuse_file = r\"E:\\01.basisgegevens\\rasters\\landgebruik\\landuse2019_3di_tiles\\landuse2019_3di_tiles.vrt\"\n",
    "\n",
    "depth_file = threedi_result.pl/\"wdepth_corr.tif\"\n",
    "output_file = threedi_result.pl/\"damage_corr_lizard.tif\"\n",
    "\n",
    "\n",
    "wss_settings = {'inundation_period': 48, #uren\n",
    "                'herstelperiode':'10 dagen',\n",
    "                'maand':'sep',\n",
    "                'cfg_file':cfg_file,\n",
    "                'dmg_type':'gem'}\n",
    "\n",
    "#Calculation\n",
    "self = hrt.Waterschadeschatter(depth_file=depth_file, \n",
    "                        landuse_file=landuse_file, \n",
    "                        wss_settings=wss_settings)\n",
    "\n",
    "# Berkenen schaderaster\n",
    "self.run(output_raster=hrt.Raster(output_file), \n",
    "            calculation_type=\"sum\", \n",
    "            verbose=False, \n",
    "            overwrite=False,\n",
    "            )"
   ]
  }
 ],
 "metadata": {
  "kernelspec": {
   "display_name": "Python 3.9.5 64-bit",
   "language": "python",
   "name": "python3"
  },
  "language_info": {
   "codemirror_mode": {
    "name": "ipython",
    "version": 3
   },
   "file_extension": ".py",
   "mimetype": "text/x-python",
   "name": "python",
   "nbconvert_exporter": "python",
   "pygments_lexer": "ipython3",
   "version": "3.9.5"
  },
  "vscode": {
   "interpreter": {
    "hash": "0fc58e98793cebe35780511f282c58e972a0a95ab91518e7c36af272d26f5fd0"
   }
  }
 },
 "nbformat": 4,
 "nbformat_minor": 5
}
