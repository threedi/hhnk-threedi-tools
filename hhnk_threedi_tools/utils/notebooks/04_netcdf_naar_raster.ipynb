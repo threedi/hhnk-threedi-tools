{
 "cells": [
  {
   "cell_type": "markdown",
   "id": "a3ececb5",
   "metadata": {},
   "source": [
    "# Naverwerking waterdiepte\n",
    "\n",
    "De waterdiepte kaarten worden geinterpoleerd tussen verschillende waterstand punten. Bij HHNK worden echter watervlakken opgehoogd in het 2D om te voorkomen dat er dubbele berging ontstaat. Als dit vlak binnen een rekencel valt kan het zijn dat er water op dit vlak komt te staan. Dit willen we niet.\n",
    "\n",
    "Dit is opgelost door zelf de rasters te maken op basis van een gpkg. De werkstappen zijn;\n",
    "\n",
    "1. NetCDF omzetten in GPKG met max wlvl\n",
    "2. Cellen selecteren waar:\n",
    "    - DEM minder dan 50% van opp cel\n",
    "    - meer dan 95% water\n",
    "    - meer dan 99% pand\n",
    "2. Max wlvl van geselecteerde cellen vervangen.\n",
    "3. Wlvl/wdepth raster maken op basis van gpkg/kolom.\n"
   ]
  },
  {
   "cell_type": "code",
   "execution_count": 4,
   "id": "cb23f2c3",
   "metadata": {},
   "outputs": [
    {
     "name": "stdout",
     "output_type": "stream",
     "text": [
      "v11\n"
     ]
    }
   ],
   "source": [
    "import xarray \n",
    "import threedi_raster_edits as tre\n",
    "from hhnk_threedi_tools import Folders\n",
    "import geopandas as gpd\n",
    "\n",
    "from hhnk_threedi_tools.core.result_rasters.netcdf_to_gridgpkg import ThreediGrid\n",
    "from hhnk_threedi_tools.core.result_rasters.calculate_raster import BaseCalculatorGPKG\n",
    "\n",
    "\n",
    "#User input\n",
    "folder_path = r\"E:\\02.modellen\\23_Katvoed\"\n",
    "scenario = \"piek_GHG_T1000\" #mapnaam\n",
    "\n",
    "\n",
    "folder = Folders(folder_path)\n",
    "\n",
    "dem_path = folder.model.schema_base.rasters.dem.path\n",
    "threedi_result = folder.threedi_results.one_d_two_d[scenario]\n"
   ]
  },
  {
   "cell_type": "markdown",
   "id": "d5ad226c",
   "metadata": {},
   "source": [
    "1. Klaarzetten grid"
   ]
  },
  {
   "cell_type": "code",
   "execution_count": 5,
   "id": "091d3215",
   "metadata": {},
   "outputs": [
    {
     "name": "stderr",
     "output_type": "stream",
     "text": [
      "¯\\_(ツ)_/¯ (Warning):__len__ for multi-part geometries is deprecated and will be removed in Shapely 2.0. Check the length of the `geoms` property instead to get the  number of parts of a multi-part geometry.\n",
      "¯\\_(ツ)_/¯ (Warning):__len__ for multi-part geometries is deprecated and will be removed in Shapely 2.0. Check the length of the `geoms` property instead to get the  number of parts of a multi-part geometry.\n",
      "¯\\_(ツ)_/¯ (Warning):__len__ for multi-part geometries is deprecated and will be removed in Shapely 2.0. Check the length of the `geoms` property instead to get the  number of parts of a multi-part geometry.\n"
     ]
    }
   ],
   "source": [
    "#Select result\n",
    "threedigrid = ThreediGrid(folder=folder, threedi_result=threedi_result)\n",
    "\n",
    "#Convert netcdf to grid gpkg\n",
    "threedigrid.netcdf_to_grid_gpkg()\n",
    "\n",
    "#Replace waterlevel of selected cells with avg of neighbours.\n",
    "threedigrid.waterlevel_correction(output_col=\"wlvl_max_replaced\")"
   ]
  },
  {
   "cell_type": "markdown",
   "id": "c7b68276",
   "metadata": {},
   "source": [
    "2. Berekenen rasters"
   ]
  },
  {
   "cell_type": "code",
   "execution_count": 6,
   "id": "0fc0e6a4",
   "metadata": {},
   "outputs": [
    {
     "name": "stdout",
     "output_type": "stream",
     "text": [
      "creating output raster: E:\\02.modellen\\23_Katvoed\\03_3di_results\\1d2d_results\\piek_GHG_T1000\\wlvl_corr.tif\n"
     ]
    },
    {
     "name": "stderr",
     "output_type": "stream",
     "text": [
      "¯\\_(ツ)_/¯ (Warning):The array interface is deprecated and will no longer work in Shapely 2.0. Convert the '.coords' to a numpy array instead.\n"
     ]
    },
    {
     "name": "stdout",
     "output_type": "stream",
     "text": [
      "creating output raster: E:\\02.modellen\\23_Katvoed\\03_3di_results\\1d2d_results\\piek_GHG_T1000\\wdepth_corr.tif\n",
      "Done.\n"
     ]
    }
   ],
   "source": [
    "OVERWRITE=False\n",
    "\n",
    "grid_gdf = gpd.read_file(threedi_result.pl/\"grid_corr.gpkg\", driver=\"GPKG\")\n",
    "\n",
    "\n",
    "calculator_kwargs = {\"dem_path\":dem_path,\n",
    "                        \"grid_gdf\":grid_gdf, \n",
    "                        \"wlvl_column\":\"wlvl_max_replaced\"}\n",
    "\n",
    "#Init calculator\n",
    "with BaseCalculatorGPKG(**calculator_kwargs) as self:\n",
    "    self.run(output_folder=threedi_result.pl,  \n",
    "                output_raster_name=\"wlvl_corr.tif\",\n",
    "                mode=\"MODE_WLVL\",\n",
    "                overwrite=OVERWRITE)\n",
    "    self.run(output_folder=threedi_result.pl,  \n",
    "                output_raster_name=\"wdepth_corr.tif\",\n",
    "                mode=\"MODE_WDEPTH\",\n",
    "                overwrite=OVERWRITE)\n",
    "    print(\"Done.\")"
   ]
  },
  {
   "cell_type": "code",
   "execution_count": 7,
   "id": "09fe6053",
   "metadata": {},
   "outputs": [
    {
     "name": "stdout",
     "output_type": "stream",
     "text": [
      "creating output raster: E:\\02.modellen\\23_Katvoed\\03_3di_results\\1d2d_results\\piek_GHG_T1000\\wdepth_orig.tif\n"
     ]
    },
    {
     "name": "stderr",
     "output_type": "stream",
     "text": [
      "¯\\_(ツ)_/¯ (Warning):The array interface is deprecated and will no longer work in Shapely 2.0. Convert the '.coords' to a numpy array instead.\n"
     ]
    }
   ],
   "source": [
    "calculator_kwargs = {\"dem_path\":dem_path,\n",
    "                        \"grid_gdf\":grid_gdf, \n",
    "                        \"wlvl_column\":\"wlvl_max_orig\"}\n",
    "\n",
    "with BaseCalculatorGPKG(**calculator_kwargs) as self:\n",
    "    self.run(output_folder=threedi_result.pl,  \n",
    "                output_raster_name=\"wdepth_orig.tif\",\n",
    "                mode=\"MODE_WDEPTH\",\n",
    "                overwrite=OVERWRITE)"
   ]
  },
  {
   "cell_type": "markdown",
   "id": "7d6d51f7",
   "metadata": {},
   "source": [
    "3. Berekenen Schaderaster"
   ]
  },
  {
   "cell_type": "code",
   "execution_count": 10,
   "id": "2fc5875b",
   "metadata": {},
   "outputs": [
    {
     "name": "stdout",
     "output_type": "stream",
     "text": [
      "Uitzondering - Gamma herstelperiode voor lizard config is vermenigvuldigd met herstelperiode.\n",
      "creating output raster: E:\\02.modellen\\23_Katvoed\\03_3di_results\\1d2d_results\\piek_GHG_T1000\\damage_orig_lizard.tif\n",
      "30 / 30\r"
     ]
    }
   ],
   "source": [
    "# Schadeschatter heeft wat extra voorbereiding nodig.\n",
    "from pathlib import Path\n",
    "schadeschatter_path = Path(r\"E:\\01.basisgegevens\\hhnk_schadeschatter\")\n",
    "\n",
    "import sys\n",
    "if str(schadeschatter_path) not in sys.path:\n",
    "    sys.path.append(str(schadeschatter_path))\n",
    "import hhnk_schadeschatter as hhnk_wss\n",
    "\n",
    "\n",
    "#Variables\n",
    "# cfg_file = schadeschatter_path/'01_data/cfg/cfg_hhnk_2020.cfg'\n",
    "cfg_file = schadeschatter_path/'01_data/cfg/cfg_lizard.cfg'\n",
    "landuse_file = schadeschatter_path/'01_data/landuse2020_tiles/combined_rasters.vrt'\n",
    "\n",
    "depth_file = threedi_result.pl/\"wdepth_orig.tif\"\n",
    "output_file = threedi_result.pl/\"damage_orig_lizard.tif\"\n",
    "\n",
    "\n",
    "\n",
    "\n",
    "wss_settings = {'duur_uur': 48, #uren\n",
    "                'herstelperiode':'10 dagen',\n",
    "                'maand':'sep',\n",
    "                'cfg_file':cfg_file,\n",
    "                'dmg_type':'gem'}\n",
    "\n",
    "#Calculation\n",
    "self = hhnk_wss.wss_main.Waterschadeschatter(depth_file=depth_file, \n",
    "                        landuse_file=landuse_file, \n",
    "                        output_file=output_file,\n",
    "                        wss_settings=wss_settings)\n",
    "\n",
    "# Aanmaken leeg output raster.\n",
    "self.create_output_raster()\n",
    "\n",
    "# Berkenen schaderaster\n",
    "self.run(initialize_output=False)"
   ]
  },
  {
   "cell_type": "code",
   "execution_count": 10,
   "id": "8f29716c",
   "metadata": {},
   "outputs": [
    {
     "ename": "NameError",
     "evalue": "name 'wss_local' is not defined",
     "output_type": "error",
     "traceback": [
      "\u001b[1;31m---------------------------------------------------------------------------\u001b[0m",
      "\u001b[1;31mNameError\u001b[0m                                 Traceback (most recent call last)",
      "\u001b[1;32me:\\github\\wvangerwen\\hhnk-threedi-tools\\hhnk_threedi_tools\\utils\\notebooks\\04_netcdf_naar_raster.ipynb Cell 9\u001b[0m in \u001b[0;36m<cell line: 1>\u001b[1;34m()\u001b[0m\n\u001b[1;32m----> <a href='vscode-notebook-cell:/e%3A/github/wvangerwen/hhnk-threedi-tools/hhnk_threedi_tools/utils/notebooks/04_netcdf_naar_raster.ipynb#X13sZmlsZQ%3D%3D?line=0'>1</a>\u001b[0m wss_local\n",
      "\u001b[1;31mNameError\u001b[0m: name 'wss_local' is not defined"
     ]
    }
   ],
   "source": [
    "wss_local"
   ]
  }
 ],
 "metadata": {
  "kernelspec": {
   "display_name": "Python 3.9.5 64-bit",
   "language": "python",
   "name": "python3"
  },
  "language_info": {
   "codemirror_mode": {
    "name": "ipython",
    "version": 3
   },
   "file_extension": ".py",
   "mimetype": "text/x-python",
   "name": "python",
   "nbconvert_exporter": "python",
   "pygments_lexer": "ipython3",
   "version": "3.9.5"
  },
  "vscode": {
   "interpreter": {
    "hash": "0fc58e98793cebe35780511f282c58e972a0a95ab91518e7c36af272d26f5fd0"
   }
  }
 },
 "nbformat": 4,
 "nbformat_minor": 5
}
