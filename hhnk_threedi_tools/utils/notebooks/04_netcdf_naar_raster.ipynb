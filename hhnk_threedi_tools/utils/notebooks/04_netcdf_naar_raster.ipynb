{
 "cells": [
  {
   "cell_type": "markdown",
   "id": "a3ececb5",
   "metadata": {},
   "source": [
    "# Naverwerking waterdiepte\n",
    "\n",
    "De waterdiepte kaarten worden geinterpoleerd tussen verschillende waterstand punten. Bij HHNK worden echter watervlakken opgehoogd in het 2D om te voorkomen dat er dubbele berging ontstaat. Als dit vlak binnen een rekencel valt kan het zijn dat er water op dit vlak komt te staan. Dit willen we niet.\n",
    "\n",
    "Dit is opgelost door zelf de rasters te maken op basis van een gpkg. De werkstappen zijn;\n",
    "\n",
    "1. NetCDF omzetten in GPKG met max wlvl\n",
    "2. Cellen selecteren waar:\n",
    "    - DEM minder dan 50% van opp cel\n",
    "    - meer dan 95% water\n",
    "    - meer dan 99% pand\n",
    "2. Max wlvl van geselecteerde cellen vervangen.\n",
    "3. Wlvl/wdepth raster maken op basis van gpkg/kolom.\n"
   ]
  },
  {
   "cell_type": "code",
   "execution_count": 1,
   "id": "cb23f2c3",
   "metadata": {},
   "outputs": [
    {
     "name": "stdout",
     "output_type": "stream",
     "text": [
      "DEBUG:threedi_raster_edits.utils.dependencies:Dependency package(name='rtree', installed_version=None, installed=False, minimum_required_version=(0, 9, 7)) not available!\n",
      "DEBUG:shapely.geos:Trying `CDLL(c:\\PROGRA~1\\3DIMOD~1.22\\bin\\geos_c.dll)`\n",
      "DEBUG:shapely.geos:Library path: 'c:\\\\PROGRA~1\\\\3DIMOD~1.22\\\\bin\\\\geos_c.dll'\n",
      "DEBUG:shapely.geos:DLL: <CDLL 'c:\\PROGRA~1\\3DIMOD~1.22\\bin\\geos_c.dll', handle 7ff9e5cb0000 at 0x22fae7eb910>\n",
      "DEBUG:fiona.env:Entering env context: <fiona.env.Env object at 0x0000022FAEAE52B0>\n",
      "DEBUG:fiona.env:Starting outermost env\n",
      "DEBUG:fiona.env:No GDAL environment exists\n",
      "DEBUG:fiona.env:New GDAL environment <fiona._env.GDALEnv object at 0x0000022FAEAE5A00> created\n",
      "DEBUG:fiona._env:GDAL_DATA found in environment.\n",
      "DEBUG:fiona._env:PROJ_LIB found in environment.\n",
      "DEBUG:fiona._env:Started GDALEnv: self=<fiona._env.GDALEnv object at 0x0000022FAEAE5A00>.\n",
      "DEBUG:fiona.env:Updated existing <fiona._env.GDALEnv object at 0x0000022FAEAE5A00> with options {}\n",
      "DEBUG:fiona.env:Entered env context: <fiona.env.Env object at 0x0000022FAEAE52B0>\n",
      "DEBUG:fiona.env:Exiting env context: <fiona.env.Env object at 0x0000022FAEAE52B0>\n",
      "DEBUG:fiona.env:Cleared existing <fiona._env.GDALEnv object at 0x0000022FAEAE5A00> options\n",
      "DEBUG:fiona._env:Stopping GDALEnv <fiona._env.GDALEnv object at 0x0000022FAEAE5A00>.\n",
      "DEBUG:fiona._env:Error handler popped.\n",
      "DEBUG:fiona._env:Stopped GDALEnv <fiona._env.GDALEnv object at 0x0000022FAEAE5A00>.\n",
      "DEBUG:fiona.env:Exiting outermost env\n",
      "DEBUG:fiona.env:Exited env context: <fiona.env.Env object at 0x0000022FAEAE52B0>\n"
     ]
    },
    {
     "name": "stderr",
     "output_type": "stream",
     "text": [
      "¯\\_(ツ)_/¯ (Warning):The Shapely GEOS version (3.10.2-CAPI-1.16.0) is incompatible with the GEOS version PyGEOS was compiled with (3.10.1-CAPI-1.16.0). Conversions between both will be slow.\n"
     ]
    },
    {
     "name": "stdout",
     "output_type": "stream",
     "text": [
      "DEBUG:matplotlib:matplotlib data path: C:\\PROGRA~1\\3DIMOD~1.22\\apps\\Python39\\lib\\site-packages\\matplotlib\\mpl-data\n",
      "DEBUG:matplotlib:CONFIGDIR=C:\\Users\\wvangerwen\\.matplotlib\n",
      "DEBUG:matplotlib:interactive is False\n",
      "DEBUG:matplotlib:platform is win32\n",
      "DEBUG:matplotlib:loaded modules: ['sys', 'builtins', '_frozen_importlib', '_imp', '_thread', '_warnings', '_weakref', '_io', 'marshal', 'nt', 'winreg', '_frozen_importlib_external', 'time', 'zipimport', '_codecs', 'codecs', 'encodings.aliases', 'encodings', 'encodings.utf_8', '_signal', 'encodings.latin_1', '_abc', 'abc', 'io', '__main__', '_stat', 'stat', '_collections_abc', 'genericpath', 'ntpath', 'os.path', 'os', '_sitebuiltins', '_locale', '_bootlocale', 'types', 'importlib._bootstrap', 'importlib._bootstrap_external', 'warnings', 'importlib', 'importlib.machinery', '_heapq', 'heapq', 'itertools', 'keyword', '_operator', 'operator', 'reprlib', '_collections', 'collections', 'collections.abc', '_functools', 'functools', 'contextlib', 'enum', '_sre', 'sre_constants', 'sre_parse', 'sre_compile', 'copyreg', 're', 'typing.io', 'typing.re', 'typing', 'importlib.abc', 'importlib.util', 'sphinxcontrib', 'mpl_toolkits', 'pywin32_bootstrap', 'site', '_weakrefset', 'weakref', 'pkgutil', 'runpy', 'ipykernel._version', '_json', 'json.scanner', 'json.decoder', 'json.encoder', 'json', 'errno', 'signal', 'threading', 'msvcrt', '_winapi', 'subprocess', 'jupyter_client._version', '_ast', 'ast', '_opcode', 'opcode', 'dis', 'token', 'tokenize', 'linecache', 'inspect', 'traitlets.utils', 'traitlets.utils.bunch', 'traitlets.utils.descriptions', 'traitlets.utils.getargspec', 'traitlets.utils.importstring', 'traitlets.utils.sentinel', 'traitlets.traitlets', 'traitlets._version', 'copy', 'traitlets.utils.decorators', 'traitlets', 'concurrent', 'traceback', '_string', 'string', 'atexit', 'logging', 'concurrent.futures._base', 'concurrent.futures', '_socket', 'math', 'select', 'selectors', 'socket', '_ssl', '_struct', 'struct', 'binascii', 'base64', 'ssl', 'asyncio.constants', 'asyncio.format_helpers', 'asyncio.base_futures', 'asyncio.log', 'asyncio.coroutines', '_contextvars', 'contextvars', 'asyncio.exceptions', 'asyncio.base_tasks', '_asyncio', 'asyncio.events', 'asyncio.futures', 'asyncio.protocols', 'asyncio.transports', 'asyncio.sslproto', 'asyncio.locks', 'asyncio.tasks', 'asyncio.staggered', 'asyncio.trsock', 'asyncio.base_events', 'asyncio.runners', 'asyncio.queues', 'asyncio.streams', 'asyncio.subprocess', 'asyncio.threads', '_overlapped', 'asyncio.base_subprocess', 'asyncio.proactor_events', 'asyncio.selector_events', 'posixpath', 'fnmatch', 'zlib', '_compression', '_bz2', 'bz2', '_lzma', 'lzma', 'shutil', '_bisect', 'bisect', '_random', '_sha512', 'random', 'tempfile', 'asyncio.windows_utils', 'asyncio.windows_events', 'asyncio', '_queue', 'queue', 'platform', 'zmq.backend.select', '_cython_0_29_32', 'cython_runtime', 'zmq.error', 'zmq.backend.cython.context', 'zmq.backend.cython.message', '_compat_pickle', '_pickle', 'pickle', 'zmq.constants', 'zmq.backend.cython.socket', 'zmq.backend.cython._device', 'zmq.backend.cython._poll', 'zmq.backend.cython._proxy_steerable', 'zmq.backend.cython._version', 'zmq.backend.cython.error', 'zmq.backend.cython.utils', 'zmq.backend.cython', 'zmq.backend', 'zmq.sugar.attrsettr', 'zmq._typing', 'zmq.utils', 'zmq.utils.jsonapi', 'zmq.sugar.poll', 'zmq.sugar.socket', 'zmq.sugar.context', 'zmq.sugar.frame', 'zmq.sugar.tracker', 'zmq.sugar.version', 'zmq.sugar.stopwatch', 'zmq.sugar', 'zmq', 'zmq._future', 'zmq.asyncio', 'jupyter_client.channelsabc', '_hashlib', '_blake2', 'hashlib', 'hmac', 'pprint', '_datetime', 'datetime', 'logging.handlers', 'socketserver', 'logging.config', 'textwrap', 'traitlets.utils.text', 'gettext', 'argparse', 'traitlets.config.loader', 'traitlets.config.configurable', 'traitlets.utils.nested_update', 'traitlets.config.application', 'traitlets.config', 'traitlets.log', 'tornado', 'numbers', 'html.entities', 'html', 'urllib', 'urllib.parse', 'array', 'tornado.speedups', 'tornado.util', 'tornado.escape', 'colorama.ansi', '_ctypes', 'ctypes._endian', 'ctypes', 'ctypes.wintypes', 'colorama.win32', 'colorama.winterm', 'colorama.ansitowin32', 'colorama.initialise', 'colorama', 'tornado.log', 'tornado.concurrent', 'tornado.ioloop', 'tornado.platform', 'tornado.gen', 'tornado.platform.asyncio', 'zmq.eventloop.ioloop', 'zmq.eventloop', 'zmq.eventloop.zmqstream', 'jupyter_client.adapter', 'dateutil._version', 'dateutil', '__future__', 'locale', 'calendar', 'six', '_decimal', 'decimal', 'dateutil._common', 'dateutil.relativedelta', 'six.moves', 'dateutil.tz._common', 'dateutil.tz._factories', 'dateutil.tz.win', 'dateutil.tz.tz', 'dateutil.tz', 'dateutil.parser._parser', 'dateutil.parser.isoparser', 'dateutil.parser', '_strptime', 'jupyter_client.jsonutil', 'jupyter_client.session', 'jupyter_client.channels', 'getpass', 'jupyter_client.clientabc', 'glob', 'jupyter_core.version', 'jupyter_core', 'pathlib', 'jupyter_core.paths', 'jupyter_client.localinterfaces', 'jupyter_client.utils', 'jupyter_client.connect', 'jupyter_client.client', 'jupyter_client.asynchronous.client', 'jupyter_client.asynchronous', 'jupyter_client.blocking.client', 'jupyter_client.blocking', 'jupyter_client.launcher', '_uuid', 'uuid', 'jupyter_client.managerabc', 'zipfile', 'configparser', 'entrypoints', 'jupyter_client.provisioning.provisioner_base', 'jupyter_client.provisioning.factory', 'jupyter_client.provisioning.local_provisioner', 'jupyter_client.provisioning', 'jupyter_client.kernelspec', 'jupyter_client.manager', 'jupyter_client.multikernelmanager', 'jupyter_client', 'ipykernel.connect', 'ipykernel', 'IPython.core', 'IPython.core.getipython', 'IPython.core.release', 'sysconfig', 'pydoc', 'executing.executing', 'executing.version', 'executing', 'asttokens.line_numbers', 'asttokens.util', 'asttokens.asttokens', 'asttokens', 'fractions', 'pure_eval.utils', 'pure_eval.my_getattr_static', 'pure_eval.core', 'pure_eval.version', 'pure_eval', 'stack_data.utils', 'stack_data.core', 'stack_data.formatting', 'stack_data.serializing', 'stack_data.version', 'stack_data', 'pygments', 'pygments.formatters._mapping', 'pygments.plugin', 'pygments.util', 'pygments.formatters', 'pygments.styles', 'pygments.formatter', 'pygments.console', 'pygments.token', 'pygments.style', 'pygments.formatters.terminal256', 'IPython.utils', 'IPython.utils.ipstruct', 'IPython.utils.coloransi', 'IPython.utils.colorable', 'IPython.utils.PyColorize', 'IPython.utils.encoding', 'IPython.utils.py3compat', 'IPython.core.excolors', 'cmd', 'bdb', 'codeop', 'code', 'pdb', 'IPython.core.debugger', 'IPython.core.display_trap', 'shlex', 'IPython.utils._process_common', 'IPython.utils._process_win32', 'IPython.utils.process', 'IPython.utils.decorators', 'IPython.utils.path', 'IPython.utils.terminal', 'IPython.core.ultratb', 'IPython.utils._sysinfo', 'IPython.utils.sysinfo', 'IPython.core.crashhandler', 'IPython.utils.importstring', 'IPython.paths', 'IPython.core.profiledir', 'IPython.core.application', 'IPython.terminal', 'IPython.core.compilerop', 'IPython.core.error', 'IPython.utils.text', 'IPython.core.magic_arguments', 'getopt', 'IPython.core.display_functions', 'mimetypes', 'IPython.testing', 'IPython.testing.skipdoctest', 'IPython.core.display', 'IPython.lib', 'IPython.lib.display', 'IPython.display', 'IPython.utils.data', 'IPython.core.page', 'IPython.lib.pretty', 'IPython.utils.openpy', 'IPython.utils.dir2', 'IPython.utils.wildcard', 'pygments.lexers._mapping', 'pygments.modeline', 'pygments.lexers', 'pygments.filter', 'pygments.filters', 'pygments.regexopt', 'pygments.lexer', 'pygments.unistring', 'pygments.lexers.python', 'pygments.formatters.html', 'IPython.core.oinspect', 'IPython.core.inputtransformer2', 'IPython.core.magic', 'pickleshare', 'IPython.core.hooks', 'IPython.core.autocall', 'IPython.core.macro', 'IPython.core.splitinput', 'IPython.core.prefilter', 'IPython.core.alias', 'IPython.core.builtin_trap', 'IPython.core.displayhook', 'IPython.core.displaypub', 'backcall.backcall', 'backcall', 'IPython.core.events', 'IPython.core.extensions', 'decorator', 'IPython.utils.sentinel', 'IPython.core.formatters', '_sqlite3', 'sqlite3.dbapi2', 'sqlite3', 'IPython.core.history', 'IPython.core.logger', 'IPython.core.payload', 'IPython.core.usage', 'IPython.utils.capture', 'IPython.utils.io', 'IPython.utils.strdispatch', 'IPython.utils.syspathcontext', 'IPython.core.async_helpers', 'IPython.core.interactiveshell', 'prompt_toolkit.application.current', 'prompt_toolkit.eventloop.utils', 'prompt_toolkit.eventloop.async_generator', 'prompt_toolkit.eventloop.inputhook', 'prompt_toolkit.eventloop', 'prompt_toolkit.application.run_in_terminal', 'prompt_toolkit.selection', 'prompt_toolkit.clipboard.base', 'prompt_toolkit.clipboard.in_memory', 'prompt_toolkit.clipboard', 'prompt_toolkit.cache', 'prompt_toolkit.enums', 'prompt_toolkit.filters.base', 'prompt_toolkit.filters.app', 'prompt_toolkit.filters.cli', 'prompt_toolkit.filters.utils', 'prompt_toolkit.filters', 'prompt_toolkit.document', 'prompt_toolkit.auto_suggest', 'prompt_toolkit.keys', 'prompt_toolkit.key_binding.key_bindings', 'wcwidth.table_wide', 'wcwidth.table_zero', 'wcwidth.unicode_versions', 'wcwidth.wcwidth', 'wcwidth', 'prompt_toolkit.utils', 'prompt_toolkit.key_binding.key_processor', 'prompt_toolkit.key_binding', 'prompt_toolkit.key_binding.vi_state', 'prompt_toolkit.cursor_shapes', 'prompt_toolkit.data_structures', 'prompt_toolkit.styles.base', 'prompt_toolkit.styles.named_colors', 'prompt_toolkit.styles.style', 'prompt_toolkit.styles.defaults', 'prompt_toolkit.styles.pygments', 'colorsys', 'prompt_toolkit.styles.style_transformation', 'prompt_toolkit.styles', 'prompt_toolkit.output.color_depth', 'prompt_toolkit.output.base', 'prompt_toolkit.output.flush_stdout', 'prompt_toolkit.output.plain_text', 'prompt_toolkit.output.defaults', 'prompt_toolkit.output', 'prompt_toolkit.output.vt100', 'prompt_toolkit.mouse_events', 'prompt_toolkit.formatted_text.base', 'prompt_toolkit.formatted_text.ansi', 'xml', 'xml.dom.domreg', 'xml.dom', 'xml.dom.minicompat', 'xml.dom.NodeFilter', 'xml.dom.xmlbuilder', 'xml.dom.minidom', 'prompt_toolkit.formatted_text.html', 'prompt_toolkit.formatted_text.pygments', 'prompt_toolkit.formatted_text.utils', 'prompt_toolkit.formatted_text', 'prompt_toolkit.completion.base', 'prompt_toolkit.completion.deduplicate', 'prompt_toolkit.completion.filesystem', 'prompt_toolkit.completion.word_completer', 'prompt_toolkit.completion.fuzzy_completer', 'prompt_toolkit.completion.nested', 'prompt_toolkit.completion', 'prompt_toolkit.history', 'prompt_toolkit.search', 'prompt_toolkit.validation', 'prompt_toolkit.buffer', 'prompt_toolkit.input.base', 'prompt_toolkit.input.defaults', 'prompt_toolkit.input', 'prompt_toolkit.input.typeahead', 'prompt_toolkit.key_binding.bindings', 'prompt_toolkit.key_binding.bindings.scroll', 'prompt_toolkit.key_binding.bindings.page_navigation', 'prompt_toolkit.lexers.base', 'prompt_toolkit.lexers.pygments', 'prompt_toolkit.lexers', 'prompt_toolkit.layout.utils', 'prompt_toolkit.layout.processors', 'prompt_toolkit.layout.controls', 'prompt_toolkit.layout.dimension', 'prompt_toolkit.layout.margins', 'prompt_toolkit.layout.mouse_handlers', 'prompt_toolkit.layout.screen', 'prompt_toolkit.layout.containers', 'prompt_toolkit.layout.layout', 'prompt_toolkit.layout.menus', 'prompt_toolkit.layout.scrollable_pane', 'prompt_toolkit.layout', 'prompt_toolkit.key_binding.bindings.completion', 'prompt_toolkit.key_binding.bindings.named_commands', 'prompt_toolkit.key_binding.bindings.basic', 'prompt_toolkit.key_binding.bindings.cpr', 'prompt_toolkit.key_binding.bindings.emacs', 'prompt_toolkit.key_binding.bindings.mouse', 'prompt_toolkit.input.ansi_escape_sequences', 'prompt_toolkit.input.vt100_parser', 'prompt_toolkit.key_binding.digraphs', 'prompt_toolkit.key_binding.bindings.vi', 'prompt_toolkit.key_binding.defaults', 'prompt_toolkit.key_binding.emacs_state', 'prompt_toolkit.layout.dummy', 'prompt_toolkit.renderer', 'prompt_toolkit.application.application', 'prompt_toolkit.application.dummy', 'prompt_toolkit.application', 'prompt_toolkit.key_binding.bindings.focus', 'prompt_toolkit.widgets.toolbars', 'prompt_toolkit.widgets.base', 'prompt_toolkit.widgets.dialogs', 'prompt_toolkit.widgets.menus', 'prompt_toolkit.widgets', 'prompt_toolkit.shortcuts.dialogs', 'prompt_toolkit.shortcuts.progress_bar.formatters', 'prompt_toolkit.shortcuts.progress_bar.base', 'prompt_toolkit.shortcuts.progress_bar', 'prompt_toolkit.key_binding.bindings.auto_suggest', 'prompt_toolkit.key_binding.bindings.open_in_editor', 'prompt_toolkit.shortcuts.prompt', 'prompt_toolkit.shortcuts.utils', 'prompt_toolkit.shortcuts', 'prompt_toolkit', 'prompt_toolkit.patch_stdout', 'unicodedata', 'IPython.core.latex_symbols', 'IPython.utils.generics', 'parso.utils', 'parso.tree', 'parso.python', 'parso.python.token', 'parso.python.tokenize', 'parso.pgen2.grammar_parser', 'parso.pgen2.generator', 'parso.pgen2', 'parso.parser', 'parso._compatibility', 'difflib', 'parso.python.prefix', 'parso.python.tree', 'parso.python.parser', 'parso.python.diff', 'gc', 'parso.cache', 'parso.normalizer', 'parso.python.errors', 'parso.python.pep8', 'parso.file_io', 'parso.grammar', 'parso', 'jedi.parser_utils', 'jedi.debug', 'jedi.settings', 'jedi.cache', 'jedi.file_io', 'jedi.inference.cache', 'jedi.inference.helpers', 'jedi.inference.utils', 'jedi.inference.base_value', 'jedi.inference.sys_path', 'jedi.inference.recursion', 'jedi.inference.flow_analysis', 'jedi.common', 'jedi.inference.lazy_value', 'jedi.inference.docstrings', 'jedi.plugins', 'jedi.inference.names', 'jedi.inference.filters', 'jedi.inference.compiled.getattr_static', 'jedi.inference.compiled.access', 'jedi.inference.signature', 'jedi.inference.context', 'jedi.inference.compiled.value', 'jedi.inference.compiled', 'jedi.inference.analysis', 'jedi.inference.gradual', 'jedi.inference.value.module', 'jedi.inference.value.dynamic_arrays', 'jedi.inference.value.iterable', 'jedi.inference.arguments', 'jedi.inference.parser_cache', 'jedi.inference.gradual.generics', 'jedi.inference.value.function', 'jedi.inference.value.klass', 'jedi.inference.value.instance', 'jedi.inference.value', 'jedi.inference.gradual.base', 'jedi.inference.gradual.type_var', 'jedi.inference.gradual.typing', 'jedi.inference.gradual.stub_value', 'jedi.inference.gradual.typeshed', 'jedi._compatibility', 'jedi.inference.compiled.subprocess.functions', 'jedi.api.exceptions', 'jedi.inference.compiled.subprocess', 'jedi.inference.imports', 'jedi.inference.param', 'jedi.inference.gradual.annotation', 'jedi.inference.value.decorator', 'jedi.inference.syntax_tree', 'jedi.inference', 'jedi.inference.gradual.conversion', 'jedi.inference.compiled.mixed', 'pydoc_data', 'pydoc_data.topics', 'jedi.api.keywords', 'jedi.api.completion_cache', 'jedi.api.helpers', 'jedi.api.classes', 'jedi.api.interpreter', 'jedi.api.strings', 'jedi.api.file_name', 'jedi.inference.docstring_utils', 'jedi.api.completion', 'filecmp', 'jedi.api.environment', 'jedi.inference.references', 'jedi.api.project', 'jedi.api.errors', 'jedi.api.refactoring', 'jedi.api.refactoring.extract', 'jedi.inference.gradual.utils', 'jedi.api', 'jedi.plugins.stdlib', 'jedi.plugins.flask', 'jedi.plugins.pytest', 'jedi.plugins.django', 'jedi.plugins.registry', 'jedi', 'IPython.core.completer', 'IPython.terminal.ptutils', 'IPython.lib.clipboard', 'IPython.terminal.shortcuts', 'concurrent.futures.thread', 'IPython.terminal.debugger', 'IPython.terminal.magics', 'IPython.terminal.pt_inputhooks', 'IPython.terminal.prompts', 'IPython.terminal.interactiveshell', 'IPython.core.magics.auto', 'IPython.core.magics.basic', 'email', 'http', 'email.errors', 'email.quoprimime', 'email.base64mime', 'quopri', 'email.encoders', 'email.charset', 'email.header', 'email._parseaddr', 'email.utils', 'email._policybase', 'email.feedparser', 'email.parser', 'uu', 'email._encoded_words', 'email.iterators', 'email.message', 'http.client', 'urllib.response', 'urllib.error', 'nturl2path', 'urllib.request', 'IPython.utils.contexts', 'IPython.core.magics.code', 'IPython.core.magics.config', 'IPython.core.magics.display', '_lsprof', 'profile', 'cProfile', 'dataclasses', 'pstats', 'timeit', 'IPython.utils.module_paths', 'IPython.utils.timing', 'IPython.core.magics.execution', 'IPython.core.magics.extension', 'IPython.core.magics.history', 'IPython.core.magics.logging', 'IPython.core.magics.namespace', 'IPython.core.magics.osm', 'IPython.core.magics.packaging', 'IPython.core.pylabtools', 'IPython.core.magics.pylab', 'IPython.core.magics.script', 'IPython.core.magics', 'IPython.core.shellapp', 'IPython.extensions', 'IPython.extensions.storemagic', 'IPython.terminal.ipapp', 'IPython.terminal.embed', 'IPython.utils.frame', 'IPython', 'ipykernel.control', 'ipykernel.heartbeat', 'ipykernel.iostream', 'IPython.utils.tokenutil', 'ipykernel.jsonutil', 'psutil._common', 'psutil._compat', 'psutil._psutil_windows', 'psutil._pswindows', 'psutil', 'tornado.locks', 'tornado.queues', 'ipykernel.kernelbase', 'ipykernel.comm.comm', 'ipykernel.comm.manager', 'ipykernel.comm', 'ipykernel.compiler', 'debugpy._version', 'debugpy.public_api', 'debugpy', 'debugpy._vendored._util', 'debugpy._vendored', '_pydevd_bundle', 'encodings.ascii', 'stringprep', 'encodings.idna', '_pydevd_bundle.pydevd_vm_type', '_pydev_bundle', 'xmlrpc', 'xml.parsers', 'pyexpat.errors', 'pyexpat.model', 'pyexpat', 'xml.parsers.expat.model', 'xml.parsers.expat.errors', 'xml.parsers.expat', 'gzip', 'xmlrpc.client', 'http.server', 'xmlrpc.server', '_pydev_bundle._pydev_saved_modules', '_pydevd_bundle.pydevd_constants', '_pydev_runfiles', '_pydevd_frame_eval', 'pydev_ipython', 'plistlib', 'pkg_resources.extern', 'pkg_resources._vendor', 'win32api', 'imp', '_win32sysloader', 'pywintypes', 'pythoncom', 'win32com.gen_py', 'win32com', 'win32com.shell', 'pkg_resources._vendor.appdirs', 'pkg_resources.extern.appdirs', 'pkg_resources._vendor.packaging.__about__', 'pkg_resources._vendor.packaging', 'pkg_resources.extern.packaging', 'pkg_resources.extern.packaging._structures', 'pkg_resources.extern.packaging._typing', 'pkg_resources.extern.packaging.version', 'pkg_resources.extern.packaging._compat', 'pkg_resources.extern.packaging.utils', 'pkg_resources.extern.packaging.specifiers', 'pkg_resources._vendor.pyparsing', 'pkg_resources.extern.pyparsing', 'pkg_resources.extern.packaging.markers', 'pkg_resources.extern.packaging.requirements', 'pkg_resources', 'pydevd_plugins', '_pydev_bundle.pydev_log', '_pydev_bundle._pydev_filesystem_encoding', '_pydevd_bundle.pydevd_comm_constants', 'pydevd_file_utils', '_pydev_bundle._pydev_execfile', '_pydevd_bundle.pydevd_exec2', '_pydev_bundle.pydev_imports', '_pydev_bundle.pydev_is_thread_alive', '_pydev_bundle.pydev_override', 'pydevd_plugins.extensions', '_pydevd_bundle.pydevd_extension_utils', '_pydevd_bundle.pydevd_frame_utils', '_pydevd_bundle.pydevd_filtering', '_pydevd_bundle.pydevd_io', '_pydevd_bundle.pydevd_utils', '_pydevd_bundle.pydevd_runpy', '_pydev_bundle._pydev_tipper_common', '_pydev_bundle._pydev_imports_tipper', '_pydev_bundle._pydev_calltip_util', '_pydevd_bundle.pydevd_safe_repr', '_pydevd_bundle.pydevd_resolver', '_pydevd_bundle.pydevd_extension_api', '_pydevd_bundle.pydevd_xml', '_pydevd_bundle.pydevd_dont_trace', '_pydevd_frame_eval.vendored', '_pydevd_frame_eval.vendored.bytecode.flags', '_pydevd_frame_eval.vendored.bytecode.instr', '_pydevd_frame_eval.vendored.bytecode.bytecode', '_pydevd_frame_eval.vendored.bytecode.concrete', '_pydevd_frame_eval.vendored.bytecode.cfg', '_pydevd_frame_eval.vendored.bytecode', '_pydevd_bundle.pydevd_bytecode_utils', '_pydevd_bundle.pydevd_cython', '_pydevd_bundle.pydevd_cython_wrapper', '_pydevd_bundle.pydevd_additional_thread_info', '_pydevd_bundle.pydevd_thread_lifecycle', '_pydevd_bundle.pydevd_save_locals', '_pydevd_bundle.pydevd_defaults', '_pydev_bundle.pydev_monkey', 'pydevd_tracing', '_pydevd_bundle.pydevd_collect_bytecode_info', '_pydevd_bundle.pydevd_daemon_thread', '_pydevd_bundle.pydevd_timeout', '_pydevd_bundle.pydevd_vars', '_pydev_bundle.pydev_console_utils', '_pydevd_bundle.pydevd_import_class', '_pydevd_bundle.pydevd_breakpoints', '_pydevd_bundle.pydevd_custom_frames', '_pydevd_bundle.pydevd_dont_trace_files', '_pydevd_bundle.pydevd_net_command', '_pydev_bundle.pydev_umd', 'pydevconsole', '_pydev_bundle._pydev_completer', '_pydevd_bundle.pydevd_net_command_factory_xml', '_pydevd_bundle.pydevd_frame', '_pydevd_bundle.pydevd_additional_thread_info_regular', '_pydevd_bundle.pydevd_trace_dispatch', '_pydevd_bundle._debug_adapter', '_pydevd_bundle._debug_adapter.pydevd_schema_log', '_pydevd_bundle._debug_adapter.pydevd_base_schema', '_pydevd_bundle._debug_adapter.pydevd_schema', '_pydevd_bundle.pydevd_reload', '_pydev_bundle.fsnotify', '_pydevd_bundle.pydevd_console', '_pydevd_bundle.pydevd_comm', '_pydevd_frame_eval.pydevd_frame_tracing', '_pydevd_frame_eval.pydevd_modify_bytecode', '_pydevd_frame_eval.pydevd_frame_evaluator', '_pydevd_frame_eval.pydevd_frame_eval_cython_wrapper', '_pydevd_frame_eval.pydevd_frame_eval_main', '_pydevd_bundle.pydevd_source_mapping', '_pydevd_bundle.pydevd_concurrency_analyser', '_pydevd_bundle.pydevd_concurrency_analyser.pydevd_thread_wrappers', '_pydevd_bundle.pydevd_concurrency_analyser.pydevd_concurrency_logger', '_pydevd_bundle.pydevd_net_command_factory_json', '_pydevd_bundle.pydevd_api', '_pydevd_bundle.pydevd_json_debug_options', '_pydevd_bundle.pydevd_process_net_command_json', '_pydevd_bundle.pydevd_traceproperty', '_pydevd_bundle.pydevd_process_net_command', '_pydevd_bundle.pydevd_suspended_frames', '_pydevd_bundle.pydevd_trace_api', 'pydevd_plugins.pydevd_line_validation', 'pydevd_plugins.django_debug', 'pydevd_plugins.jinja2_debug', '_pydevd_bundle.pydevd_plugin_utils', 'pydevd_plugins.extensions.types', 'pydevd_plugins.extensions.types.pydevd_helpers', 'pydevd_plugins.extensions.types.pydevd_plugin_numpy_types', 'pydevd_plugins.extensions.types.pydevd_plugin_pandas_types', 'pydevd_plugins.extensions.types.pydevd_plugins_django_form_str', 'pydevd', 'debugpy._vendored.force_pydevd', 'debugpy.server', 'debugpy.adapter', 'debugpy.common', 'debugpy.common.json', 'debugpy.common.timestamp', 'debugpy.common.util', 'debugpy.common.log', 'debugpy.common.sockets', 'debugpy.server.api', 'ipykernel.debugger', 'packaging.__about__', 'packaging', 'packaging._structures', 'packaging.version', 'ipykernel.eventloops', 'IPython.core.payloadpage', 'ipykernel.displayhook', 'ipykernel.zmqshell', 'ipykernel.ipkernel', 'ipykernel.parentpoller', 'ipykernel.kernelapp', 'ntsecuritycon', 'win32security', 'faulthandler', 'IPython.core.completerlib', 'jedi.inference.finder', 'numpy._globals', 'numpy.__config__', 'numpy.version', 'numpy._distributor_init', 'numpy.core._multiarray_umath', 'numpy.compat._inspect', 'numpy.compat.py3k', 'numpy.compat', 'numpy.core.overrides', 'numpy.core.multiarray', 'numpy.core.umath', 'numpy.core._string_helpers', 'numpy.core._dtype', 'numpy.core._type_aliases', 'numpy.core.numerictypes', 'numpy.core._asarray', 'numpy.core._exceptions', 'numpy.core._methods', 'numpy.core.fromnumeric', 'numpy.core.shape_base', 'numpy.core._ufunc_config', 'numpy.core.arrayprint', 'numpy.core.numeric', 'numpy.core.defchararray', 'numpy.core.records', 'numpy.core.memmap', 'numpy.core.function_base', 'numpy.core.machar', 'numpy.core.getlimits', 'numpy.core.einsumfunc', 'numpy.core._multiarray_tests', 'numpy.core._add_newdocs', 'numpy.core._add_newdocs_scalars', 'numpy.core._dtype_ctypes', 'numpy.core._internal', 'numpy._pytesttester', 'numpy.core', 'numpy.lib.mixins', 'numpy.lib.ufunclike', 'numpy.lib.type_check', 'numpy.lib.scimath', 'numpy.lib.twodim_base', 'numpy.linalg.lapack_lite', 'numpy.linalg._umath_linalg', 'numpy.linalg.linalg', 'numpy.linalg', 'numpy.matrixlib.defmatrix', 'numpy.matrixlib', 'numpy.lib.histograms', 'numpy.lib.function_base', 'numpy.lib.stride_tricks', 'numpy.lib.index_tricks', 'numpy.lib.nanfunctions', 'numpy.lib.shape_base', 'numpy.lib.polynomial', 'numpy.lib.utils', 'numpy.lib.arraysetops', 'numpy.lib.format', 'numpy.lib._datasource', 'numpy.lib._iotools', 'numpy.lib.npyio', 'numpy.lib.arrayterator', 'numpy.lib.arraypad', 'numpy.lib._version', 'numpy.lib', 'numpy.fft._pocketfft_internal', 'numpy.fft._pocketfft', 'numpy.fft.helper', 'numpy.fft', 'numpy.polynomial.polyutils', 'numpy.polynomial._polybase', 'numpy.polynomial.polynomial', 'numpy.polynomial.chebyshev', 'numpy.polynomial.legendre', 'numpy.polynomial.hermite', 'numpy.polynomial.hermite_e', 'numpy.polynomial.laguerre', 'numpy.polynomial', '_cython_0_29_22', 'numpy.random._common', 'secrets', 'numpy.random.bit_generator', 'numpy.random._bounded_integers', 'numpy.random._mt19937', 'numpy.random.mtrand', 'numpy.random._philox', 'numpy.random._pcg64', 'numpy.random._sfc64', 'numpy.random._generator', 'numpy.random._pickle', 'numpy.random', 'numpy.ctypeslib', 'numpy.ma.core', 'numpy.ma.extras', 'numpy.ma', 'numpy', 'xarray.core', 'pytz.exceptions', 'pytz.lazy', 'pytz.tzinfo', 'pytz.tzfile', 'pytz', 'pandas._typing', 'pandas.compat', 'distutils', 'distutils.version', 'pandas.compat.numpy', '_cython_0_29_21', 'pandas._libs.tslibs.dtypes', 'pandas._libs.tslibs.base', 'pandas._libs.tslibs.np_datetime', 'pandas._libs.tslibs.nattype', 'pandas._libs.tslibs.timezones', 'pandas._libs.tslibs.ccalendar', 'pandas._libs.tslibs.tzconversion', 'pandas._libs.tslibs.timedeltas', 'pandas._config.config', 'pandas._config.dates', 'pandas._config.display', 'pandas._config', 'pandas._config.localization', 'pandas._libs.tslibs.strptime', 'pandas._libs.tslibs.fields', 'pandas._libs.tslibs.timestamps', 'dateutil.easter', 'pandas._libs.properties', 'pandas._libs.tslibs.offsets', 'pandas._libs.tslibs.parsing', 'pandas._libs.tslibs.conversion', 'pandas._libs.tslibs.period', 'pandas._libs.tslibs.vectorized', 'pandas._libs.tslibs', 'pandas._libs.ops_dispatch', 'pandas._libs.missing', 'pandas._libs.hashtable', 'pandas._libs.algos', 'pandas._libs.interval', 'pandas._libs', 'pandas._libs.tslib', 'pandas._libs.lib', 'pandas.core', 'pandas.core.config_init', 'pandas.core.dtypes', 'pandas.errors', 'pandas.core.dtypes.generic', 'pandas.core.dtypes.base', 'pandas.core.dtypes.inference', 'pandas.core.dtypes.dtypes', 'pandas.core.dtypes.common', 'pandas.core.dtypes.missing', 'pandas.util._decorators', 'pandas.core.util', 'pandas._libs.hashing', 'pandas.core.util.hashing', 'pandas.util', 'pandas.util._validators', 'pandas.core.dtypes.cast', 'pandas.core.common', 'pandas.core.construction', 'pandas.core.indexers', 'pandas.core.algorithms', 'pandas.compat.numpy.function', 'pandas._libs.ops', 'pandas.core.ops.roperator', 'pandas.core.ops.missing', 'pandas.core.ops.dispatch', 'pandas.core.ops.invalid', 'pandas.core.ops.array_ops', 'pandas.core.ops.common', 'pandas.core.ops.docstrings', 'pandas.core.ops.mask_ops', 'pandas.core.ops.methods', 'pandas.core.ops', 'pandas.compat._optional', 'pandas.core.missing', 'pandas.core.sorting', 'pandas.core.arrays.base', 'pandas.core.nanops', 'pandas.core.array_algos', 'pandas.core.array_algos.masked_reductions', 'pandas.core.arrays.masked', 'pandas.core.arrays.boolean', '_csv', 'csv', 'pandas.core.accessor', 'pandas.core.array_algos.transforms', 'pandas.core.arrays._mixins', 'pandas.core.base', 'pandas.io', 'pandas.io.formats', 'pandas.io.formats.console', 'pandas.core.arrays.categorical', 'pandas.tseries', 'pandas.tseries.frequencies', 'pandas.core.arrays.datetimelike', 'pandas.core.arrays._ranges', 'pandas.tseries.offsets', 'pandas.core.arrays.datetimes', 'pandas.core.tools', 'pandas.core.tools.numeric', 'pandas.core.arrays.integer', 'pandas.core.indexes', 'pandas._libs.index', 'pandas._libs.join', 'pandas._libs.sparse', 'pandas.core.arrays.sparse.dtype', 'pandas.io.formats.printing', 'pandas.core.arrays.sparse.array', 'pandas.core.arrays.sparse.accessor', 'pandas.core.arrays.sparse', 'pandas.core.dtypes.concat', 'pandas.core.indexes.frozen', 'pandas.core.strings', 'pandas.core.indexes.base', 'pandas.core.arrays.interval', 'pandas.core.arrays.numpy_', 'pandas.core.arrays.period', 'pandas.core.arrays.string_', 'pandas.core.arrays.timedeltas', 'pandas.core.arrays', 'pandas.core.indexes.extension', 'pandas.core.indexes.category', 'pandas.core.indexes.numeric', 'pandas.core.tools.timedeltas', 'pandas.core.indexes.datetimelike', 'pandas.core.tools.times', 'pandas.core.indexes.datetimes', 'pandas.util._exceptions', 'pandas.core.indexes.multi', 'pandas.core.indexes.timedeltas', 'pandas.core.indexes.interval', 'pandas.core.indexes.period', 'pandas.core.indexes.range', 'pandas.core.indexes.api', 'pandas._libs.reshape', 'pandas._libs.indexing', 'pandas.core.indexing', 'pandas._libs.writers', 'pandas._libs.internals', 'pandas.core.internals.blocks', 'pandas.core.internals.ops', 'pandas.core.internals.managers', 'pandas.core.internals.concat', 'pandas.core.internals', 'pandas.core.shared_docs', 'mmap', 'pandas.io.common', 'pandas.io.formats.format', 'pandas.core.generic', 'pandas.core.indexes.accessors', 'pandas.arrays', 'pandas.core.tools.datetimes', 'pandas.plotting._core', 'pandas.plotting._misc', 'pandas.plotting', 'pandas._libs.window', 'pandas._libs.window.aggregations', 'pandas.core.groupby.base', 'pandas.core.window.common', 'pandas.core.util.numba_', 'pandas._libs.window.indexers', 'pandas.core.window.indexers', 'pandas.core.window.numba_', 'pandas.core.window.rolling', 'pandas.core.window.ewm', 'pandas.core.window.expanding', 'pandas.core.window', 'pandas.core.series', 'pandas.core.aggregation', 'pandas.core.internals.construction', 'pandas.core.reshape', 'pandas.core.reshape.concat', 'pandas.core.reshape.util', 'pandas.core.reshape.melt', 'pandas.io.formats.info', 'pandas.core.frame', 'pandas._libs.groupby', 'pandas._libs.reduction', 'pandas.core.groupby.categorical', 'pandas.core.groupby.grouper', 'pandas.core.groupby.ops', 'pandas.core.groupby.groupby', 'pandas.core.groupby.generic', 'pandas.core.groupby', 'pandas.core.api', 'pandas.tseries.api', 'pandas.core.computation', 'pandas.core.computation.common', 'pandas.core.computation.align', 'pandas.compat.chainmap', 'pandas.core.computation.scope', 'pandas.core.computation.ops', 'pandas.core.computation.engines', 'pandas.core.computation.parsing', 'pandas.core.computation.expr', 'pandas.core.computation.eval', 'pandas.core.computation.api', 'pandas.core.reshape.merge', 'pandas.core.reshape.pivot', 'pandas.core.reshape.reshape', 'pandas.core.reshape.tile', 'pandas.core.reshape.api', 'pandas.api.extensions', 'pandas.api.indexers', 'pandas.core.dtypes.api', 'pandas.api.types', 'pandas.api', 'pandas.util._print_versions', 'pandas.io.clipboards', 'pandas._libs.parsers', 'pandas.io.excel._util', 'pandas.io.date_converters', 'pandas.io.parsers', 'pandas.io.excel._odfreader', 'pandas.io.excel._openpyxl', 'pandas.io.excel._pyxlsb', 'pandas.io.excel._xlrd', 'pandas.io.excel._base', 'pandas._libs.json', 'pandas.io.formats.css', 'pandas.io.formats.excel', 'pandas.io.excel._odswriter', 'pandas.io.excel._xlsxwriter', 'pandas.io.excel._xlwt', 'pandas.io.excel', 'pandas.io.feather_format', 'pandas.io.gbq', 'pandas.io.html', 'pandas.io.json._normalize', 'pandas.io.json._table_schema', 'pandas.io.json._json', 'pandas.io.json', 'pandas.io.orc', 'pandas.io.parquet', 'pandas.compat.pickle_compat', 'pandas.io.pickle', 'pandas.core.computation.pytables', 'pandas.io.pytables', 'pandas.io.sas.sasreader', 'pandas.io.sas', 'pandas.io.spss', 'pandas.io.sql', 'pandas.io.stata', 'pandas.io.api', 'pandas.util._tester', 'pandas._libs.testing', 'pandas._testing', 'pandas.testing', 'pandas._version', 'pandas', 'xarray.core.utils', 'xarray.core.pycompat', 'xarray.core.dask_array_compat', 'xarray.core.dtypes', 'xarray.core.options', 'xarray.core.nputils', 'xarray.core.dask_array_ops', 'numpy.typing._scalars', 'numpy.typing._shape', 'numpy.typing._dtype_like', 'numpy.typing._array_like', 'numpy.typing._add_docstring', 'numpy.typing', 'xarray.core.npcompat', 'xarray.core.nanops', 'xarray.core.duck_array_ops', 'xarray.core.indexing', 'xarray.core.formatting', 'xarray.coding', 'importlib._common', 'importlib.resources', 'xarray.core.formatting_html', 'xarray.core.ops', 'xarray.core.pdcompat', 'xarray.core.types', 'xarray.core.rolling_exp', '_cython_0_29_23', 'cftime._cftime', 'cftime', 'xarray.core.common', 'xarray.core._typed_ops', 'xarray.core.arithmetic', 'xarray.core.indexes', 'xarray.core.variable', 'xarray.coding.variables', 'xarray.coding.times', 'xarray.coding.cftimeindex', 'xarray.coding.cftime_offsets', 'xarray.coding.calendar_ops', 'xarray.core.alignment', 'xarray.plot.utils', 'xarray.plot.facetgrid', 'xarray.plot.dataset_plot', 'xarray.plot.plot', 'xarray.plot', 'xarray.core.merge', 'xarray.core.computation', 'xarray.core._reductions', 'xarray.core.concat', 'xarray.core.groupby', 'xarray.core.resample', 'xarray.core.rolling', 'xarray.core.weighted', 'xarray.core.accessor_dt', 'xarray.core.accessor_str', 'xarray.core.coordinates', 'xarray.core.missing', 'xarray.core.dataset', 'xarray.core.dataarray', 'xarray.testing', 'xarray.coding.strings', 'xarray.conventions', 'xarray.backends.common', 'multiprocessing.process', 'multiprocessing.reduction', 'multiprocessing.context', '__mp_main__', 'multiprocessing', 'xarray.backends.locks', 'xarray.backends.store', 'xarray.backends.cfgrib_', 'xarray.backends.lru_cache', 'xarray.backends.file_manager', 'xarray.backends.netcdf3', 'netCDF4.utils', 'netCDF4._netCDF4', 'netCDF4', 'xarray.backends.netCDF4_', 'xarray.backends.h5netcdf_', 'xarray.backends.memory', 'importlib.metadata', 'xarray.backends.plugins', 'xarray.backends.pseudonetcdf_', 'xarray.backends.pydap_', 'xarray.backends.pynio_', 'scipy._lib._testutils', 'scipy._lib', 'scipy._lib.deprecation', 'scipy.__config__', 'scipy.version', 'scipy._distributor_init', 'scipy._lib._pep440', 'scipy._lib._ccallback_c', 'scipy._lib._ccallback', 'scipy', 'scipy._lib.doccer', 'scipy.io.matlab.byteordercodes', 'scipy.io.matlab.miobase', 'scipy._lib._util', 'scipy.sparse.sputils', 'scipy.sparse.base', 'scipy.sparse._sparsetools', 'scipy.sparse.data', 'scipy.sparse.dia', 'scipy.sparse._index', 'scipy.sparse.compressed', 'scipy.sparse.csr', 'scipy.sparse.csc', 'scipy.sparse._csparsetools', 'scipy.sparse.lil', 'scipy.sparse.dok', 'scipy.sparse.coo', 'scipy.sparse.bsr', 'scipy.sparse.construct', 'scipy.sparse.extract', 'scipy.sparse._matrix_io', 'scipy.sparse.csgraph._laplacian', 'scipy.sparse.csgraph._tools', 'scipy.sparse.csgraph._validation', 'scipy.sparse.csgraph._shortest_path', 'scipy.sparse.csgraph._traversal', 'scipy.sparse.csgraph._min_spanning_tree', 'scipy.sparse.csgraph._flow', 'scipy.sparse.csgraph._matching', 'scipy.sparse.csgraph._reordering', 'scipy.sparse.csgraph', 'scipy.sparse', 'scipy.io.matlab.mio_utils', 'scipy.io.matlab.mio4', 'scipy.io.matlab.streams', 'scipy.io.matlab.mio5_params', 'scipy.io.matlab.mio5_utils', 'scipy.io.matlab.mio5', 'scipy.io.matlab.mio', 'scipy.io.matlab', 'scipy.io.netcdf', 'scipy.io._fortran', 'scipy.io.mmio', 'scipy.io.idl', 'scipy.io.harwell_boeing._fortran_format_parser', 'scipy.io.harwell_boeing.hb', 'scipy.io.harwell_boeing', 'scipy.io', 'xarray.backends.scipy_', 'xarray.backends.zarr', 'xarray.backends', 'xarray.core.combine', 'xarray.backends.api', 'xarray.backends.rasterio_', 'xarray.tutorial', 'xarray.ufuncs', 'xarray.coding.frequencies', 'xarray.core.extensions', 'xarray.core.parallel', 'xarray.util', 'xarray.util.print_versions', 'xarray', 'threedi_raster_edits.utils.logging', 'threedi_raster_edits.utils.project', 'threedi_raster_edits.utils', 'swig_runtime_data4', 'osgeo._gdal', 'osgeo', 'osgeo._ogr', 'osgeo._osr', 'osgeo.osr', 'osgeo.ogr', 'threedi_scenario_downloader', 'cached_property', 'threedi_raster_edits.utils.dependencies', 'osgeo._gdalconst', 'osgeo.gdalconst', 'osgeo.gdal', 'threedi_raster_edits.utils.cache', 'scipy.spatial.ckdtree', 'scipy.spatial.kdtree', 'scipy._lib.messagestream', 'scipy.spatial.qhull', 'scipy.spatial._voronoi', 'scipy.spatial._spherical_voronoi', 'scipy._lib.decorator', 'scipy.spatial._plotutils', 'scipy.linalg._fblas', 'scipy.linalg.blas', 'scipy.linalg._flapack', 'scipy.linalg.lapack', 'scipy.linalg.misc', 'scipy.linalg._flinalg', 'scipy.linalg.flinalg', 'scipy.linalg.decomp', 'scipy.linalg.decomp_svd', 'scipy.linalg._solve_toeplitz', 'scipy.linalg.basic', 'scipy.linalg.decomp_lu', 'scipy.linalg._decomp_ldl', 'scipy.linalg.decomp_cholesky', 'scipy.linalg.decomp_qr', 'scipy.linalg._decomp_qz', 'scipy.linalg.decomp_schur', 'scipy.linalg._decomp_polar', 'scipy.linalg.special_matrices', 'scipy.linalg._expm_frechet', 'scipy.linalg._matfuncs_sqrtm_triu', 'scipy.linalg._matfuncs_sqrtm', 'scipy.linalg.matfuncs', 'scipy.linalg._solvers', 'scipy.linalg._procrustes', 'scipy.linalg.cython_blas', 'scipy.linalg.cython_lapack', 'scipy.linalg._decomp_update', 'scipy.linalg._sketches', 'scipy.linalg._decomp_cossin', 'scipy.linalg', 'scipy.spatial._procrustes', 'scipy.spatial._distance_wrap', 'scipy.spatial._hausdorff', 'scipy.special.sf_error', 'scipy.special._ufuncs_cxx', 'scipy.special._ufuncs', 'scipy.special.specfun', 'scipy.special.orthogonal', 'scipy.special._comb', 'scipy.special._basic', 'scipy.special._logsumexp', 'scipy.special.spfun_stats', 'scipy.special._ellip_harm_2', 'scipy.special._ellip_harm', 'scipy.special._lambertw', 'scipy.special._spherical_bessel', 'scipy.special', 'scipy.spatial.distance', 'scipy.spatial._geometric_slerp', 'scipy.constants.codata', 'scipy.constants.constants', 'scipy.constants', 'scipy.spatial.transform._rotation_groups', 'scipy.spatial.transform.rotation', 'scipy.spatial.transform._rotation_spline', 'scipy.spatial.transform', 'scipy.spatial', 'threedi_raster_edits.gis.spatial_reference', 'threedi_raster_edits.gis.geometry', 'threedi_raster_edits.gis.point', 'threedi_raster_edits.gis.linestring', 'threedi_raster_edits.gis.polygon', 'threedi_raster_edits.gis.geometries', 'threedi_raster_edits.gis.fields', 'threedi_raster_edits.gis.feature', 'threedi_raster_edits.utils.progress', 'threedi_raster_edits.gis.vector', 'osgeo._gdal_array', 'osgeo.gdal_array', 'threedi_raster_edits.gis.dataset', 'threedi_raster_edits.gis.geotransform', 'threedi_raster_edits.gis.layer', 'threedi_raster_edits.gis.raster', 'threedi_raster_edits.gis.rastergroup', 'threedi_raster_edits.gis.vectorgroup', 'threedi_raster_edits.gis', 'threedi_raster_edits.threedi.rastergroup', 'threedi_raster_edits.threedi.tables', 'threedi_raster_edits.threedi.tables.constants', 'threedi_raster_edits.threedi.tables.templates', 'threedi_raster_edits.threedi.utils', 'threedi_raster_edits.threedi.utils.exceptions', 'threedi_raster_edits.threedi.feature', 'threedi_raster_edits.threedi.vector', 'threedi_raster_edits.threedi.tables.models', 'threedi_raster_edits.threedi.vectorgroup', 'threedi_raster_edits.threedi.edits', 'threedi_raster_edits.threedi', 'urllib3.packages', 'urllib3.packages.six', 'urllib3.packages.six.moves', 'urllib3.packages.six.moves.http_client', 'urllib3.exceptions', 'urllib3._version', 'urllib3.contrib', 'urllib3.contrib._appengine_environ', 'urllib3.util.wait', 'urllib3.util.connection', 'urllib3.util.request', 'urllib3.util.response', 'urllib3.util.retry', 'urllib3.util.url', 'urllib3.util.ssltransport', 'urllib3.util.ssl_', 'urllib3.util.timeout', 'urllib3.util', 'urllib3.util.proxy', 'urllib3._collections', 'ipaddress', 'urllib3.util.ssl_match_hostname', 'urllib3.connection', 'urllib3.fields', 'urllib3.filepost', 'urllib3.packages.six.moves.urllib', 'urllib3.packages.six.moves.urllib.parse', 'urllib3.request', 'urllib3.response', 'urllib3.util.queue', 'urllib3.connectionpool', 'urllib3.poolmanager', 'urllib3', 'chardet.compat', 'chardet.enums', 'chardet.charsetprober', 'chardet.charsetgroupprober', 'chardet.codingstatemachine', 'chardet.escsm', 'chardet.escprober', 'chardet.latin1prober', 'chardet.mbcssm', 'chardet.utf8prober', 'chardet.mbcharsetprober', 'chardet.euctwfreq', 'chardet.euckrfreq', 'chardet.gb2312freq', 'chardet.big5freq', 'chardet.jisfreq', 'chardet.chardistribution', 'chardet.jpcntx', 'chardet.sjisprober', 'chardet.eucjpprober', 'chardet.gb2312prober', 'chardet.euckrprober', 'chardet.cp949prober', 'chardet.big5prober', 'chardet.euctwprober', 'chardet.mbcsgroupprober', 'chardet.sbcharsetprober', 'chardet.langcyrillicmodel', 'chardet.langgreekmodel', 'chardet.langbulgarianmodel', 'chardet.langthaimodel', 'chardet.langhebrewmodel', 'chardet.hebrewprober', 'chardet.langturkishmodel', 'chardet.sbcsgroupprober', 'chardet.universaldetector', 'chardet.version', 'chardet', 'simplejson.errors', 'simplejson.raw_json', 'simplejson.compat', 'simplejson._speedups', 'simplejson.scanner', 'simplejson.decoder', 'simplejson.encoder', 'simplejson', 'http.cookiejar', 'http.cookies', 'requests.compat', 'requests.exceptions', 'charset_normalizer.assets', 'charset_normalizer.constant', '_multibytecodec', 'charset_normalizer.utils', 'charset_normalizer.md', 'charset_normalizer.models', 'charset_normalizer.cd', 'charset_normalizer.api', 'charset_normalizer.legacy', 'charset_normalizer.version', 'charset_normalizer', 'requests.packages.urllib3.packages', 'requests.packages.urllib3.packages.six', 'requests.packages.urllib3.packages.six.moves', 'requests.packages.urllib3.packages.six.moves.http_client', 'requests.packages.urllib3.exceptions', 'requests.packages.urllib3._version', 'requests.packages.urllib3.contrib', 'requests.packages.urllib3.contrib._appengine_environ', 'requests.packages.urllib3.util.wait', 'requests.packages.urllib3.util.connection', 'requests.packages.urllib3.util.request', 'requests.packages.urllib3.util.response', 'requests.packages.urllib3.util.retry', 'requests.packages.urllib3.util.url', 'requests.packages.urllib3.util.ssltransport', 'requests.packages.urllib3.util.ssl_', 'requests.packages.urllib3.util.timeout', 'requests.packages.urllib3.util', 'requests.packages.urllib3.util.proxy', 'requests.packages.urllib3._collections', 'requests.packages.urllib3.util.ssl_match_hostname', 'requests.packages.urllib3.connection', 'requests.packages.urllib3.fields', 'requests.packages.urllib3.filepost', 'requests.packages.urllib3.packages.six.moves.urllib', 'requests.packages.urllib3.packages.six.moves.urllib.parse', 'requests.packages.urllib3.request', 'requests.packages.urllib3.response', 'requests.packages.urllib3.util.queue', 'requests.packages.urllib3.connectionpool', 'requests.packages.urllib3.poolmanager', 'requests.packages.urllib3', 'idna.package_data', 'idna.idnadata', 'idna.intranges', 'idna.core', 'idna', 'requests.packages.idna.package_data', 'requests.packages.idna.idnadata', 'requests.packages.idna.intranges', 'requests.packages.idna.core', 'requests.packages.idna', 'requests.packages.chardet', 'requests.packages', 'certifi.core', 'certifi', 'requests.certs', 'requests.__version__', 'requests._internal_utils', 'requests.cookies', 'requests.structures', 'requests.utils', 'requests.auth', 'requests.hooks', 'requests.status_codes', 'requests.models', 'requests.adapters', 'requests.sessions', 'requests.api', 'requests', 'threedi_raster_edits.lizard.rextract', 'threedi_raster_edits.lizard', 'threedi_raster_edits.lizard.uuid', 'pyproj._compat', 'pyproj.exceptions', 'pyproj.utils', 'pyproj._datadir', 'pyproj._network', 'pyproj.network', 'pyproj._show_versions', '_cython_0_29_28', 'pyproj.aoi', 'pyproj.crs.datum', 'pyproj.enums', 'pyproj.crs.enums', 'pyproj._geod', 'pyproj.list', 'pyproj.geod', 'pyproj._crs', 'pyproj._transformer', 'pyproj.crs.coordinate_operation', 'pyproj.crs._cf1x8', 'pyproj.crs.coordinate_system', 'pyproj.crs.crs', 'pyproj.crs', 'pyproj.database', 'pyproj.datadir', 'pyproj._sync', 'pyproj.sync', 'pyproj.transformer', 'pyproj.proj', 'pyproj', 'shapely', 'threedi_scenario_downloader.downloader', 'threedi_raster_edits.lizard.scenarios', 'threedi_raster_edits.examples', 'threedi_raster_edits', 'hhnk_threedi_tools', 'hhnk_threedi_tools.core.climate_scenarios', 'hhnk_threedi_tools.core', 'hhnk_threedi_tools.core.folders', 'threedigrid', 'threedigrid.admin', 'h5py._hl', 'h5py._hl.compat', 'h5py._errors', 'h5py.defs', 'h5py._objects', 'h5py.h5', 'h5py.version', 'h5py.h5r', 'h5py.utils', 'h5py.h5py_warnings', 'h5py.h5t', 'h5py._conv', 'h5py.h5z', 'h5py.h5s', 'h5py.h5ac', 'h5py.h5p', 'h5py._proxy', 'h5py.h5a', 'h5py.h5d', 'h5py.h5ds', 'h5py.h5g', 'h5py.h5i', 'h5py.h5fd', 'h5py.h5f', 'h5py.h5pl', 'h5py._hl.filters', 'h5py._hl.base', 'h5py.h5o', 'h5py.h5l', 'h5py._hl.selections', 'h5py._hl.selections2', 'h5py._hl.datatype', 'h5py._hl.vds', 'h5py._hl.dataset', 'h5py._hl.group', 'h5py._hl.files', 'h5py._hl.attrs', 'h5py', 'threedigrid.admin.breaches', 'threedigrid.admin.constants', 'threedigrid.admin.exporter_constants', 'threedigrid.admin.utils', 'shapely.errors', 'shapely.affinity', 'ctypes.util', 'shapely.ctypes_declarations', 'shapely.geos', 'shapely.topology', 'shapely.coords', 'shapely.algorithms', 'shapely.algorithms.cga', 'shapely.linref', 'shapely.predicates', 'shapely.impl', 'shapely.geometry.base', 'shapely.geometry.proxy', 'shapely.geometry.point', 'shapely.geometry.linestring', 'shapely.geometry.polygon', 'shapely.geometry.multipoint', 'shapely.geometry.multilinestring', 'shapely.geometry.multipolygon', 'shapely.geometry.collection', 'shapely.geometry.geo', 'shapely.speedups', 'shapely.geometry', 'shapely.strtree', 'shapely.wkt', 'threedigrid.numpy_utils', 'threedigrid.geo_utils', 'threedigrid.orm', 'threedigrid.orm.base', 'threedigrid.orm.constants', 'threedigrid.orm.base.exceptions', 'threedigrid.orm.base.exporters', 'threedigrid.admin.breaches.exporters', 'threedigrid.orm.base.fields', 'threedigrid.orm.fields', 'threedigrid.admin.exporters', 'threedigrid.admin.exporters.geopackage.default', 'threedigrid.admin.exporters.geopackage', 'threedigrid.admin.exporters.geopackage.exporter', 'threedigrid.orm.base.encoder', 'threedigrid.orm.base.filters', 'threedigrid.orm.base.utils', 'threedigrid.orm.base.options', 'threedigrid.orm.base.models', 'threedigrid.admin.serializers', 'threedigrid.orm.filters', 'threedigrid.orm.models', 'threedigrid.admin.breaches.models', 'threedigrid.admin.crosssections', 'threedigrid.admin.crosssections.models', 'threedigrid.admin.h5py_swmr', 'threedigrid.orm.base.datasource', 'threedigrid.admin.h5py_datasource', 'threedigrid.admin.levees', 'threedigrid.admin.levees.exporters', 'threedigrid.admin.levees.models', 'threedigrid.admin.lines', 'threedigrid.admin.lines.exporters', 'threedigrid.admin.lines.subsets', 'threedigrid.admin.lines.models', 'threedigrid.admin.nodes', 'threedigrid.admin.nodes.exporters', 'threedigrid.admin.nodes.subsets', 'threedigrid.admin.nodes.models', 'threedigrid.admin.pumps', 'threedigrid.admin.pumps.models', 'threedigrid.admin.gridadmin', 'threedigrid.orm.base.timeseries_mixin', 'threedigrid.admin.breaches.timeseries_mixin', 'threedigrid.admin.lines.timeseries_mixin', 'threedigrid.admin.nodes.timeseries_mixin', 'threedigrid.admin.pumps.timeseries_mixin', 'threedigrid.admin.gridresultadmin', 'hhnk_research_tools', 'hhnk_research_tools.variables', 'hhnk_research_tools.gis', 'pygeos.lib', 'pygeos.decorators', 'pygeos._geos', 'pygeos._geometry', 'pygeos.enum', 'pygeos.geometry', 'pygeos.creation', 'pygeos.constructive', 'pygeos.predicates', 'pygeos.measurement', 'pygeos.set_operations', 'pygeos.linear', 'pygeos.coordinates', 'pygeos.strtree', 'pygeos.io', 'pygeos._version', 'pygeos', 'geopandas._compat', 'geopandas._config', 'shapely.prepared', 'shapely.algorithms.polylabel', 'shapely.ops', 'shapely.wkb', 'geopandas._vectorized', 'geopandas.array', 'geopandas.sindex', 'geopandas.base', 'geopandas.plotting', 'geopandas.geoseries', 'geopandas.io', 'geopandas.geodataframe', 'fiona._loading', 'fiona.compat', 'fiona.vfs', '_cython_0_29_30', 'fiona._err', 'fiona.errors', 'fiona._geometry', 'fiona._shim', 'fiona._env', 'attr._compat', 'attr._config', 'attr.exceptions', 'attr.setters', 'attr._make', 'attr.converters', 'attr.filters', 'attr.validators', 'attr._cmp', 'attr._funcs', 'attr._version_info', 'attr._next_gen', 'attr', 'fiona.path', 'fiona.session', 'fiona.env', 'fiona.rfc3339', 'fiona.schema', 'fiona.drvsupport', 'fiona.ogrext', 'fiona.logutils', 'fiona._crs', 'fiona.collection', 'fiona.io', 'fiona._show_versions', 'fiona', 'geopandas.io.file', 'geopandas.io.arrow', 'geopandas.io.sql', 'geopandas.tools.crs', 'geopandas.tools.geocoding', 'geopandas.tools.overlay', 'geopandas.tools.sjoin', 'geopandas.tools.util', 'geopandas.tools.clip', 'geopandas.tools', 'geopandas.tools._show_versions', 'geopandas.datasets', 'geopandas._version', 'geopandas', 'hhnk_research_tools.general_functions', 'hhnk_research_tools.dataframe_functions', 'hhnk_research_tools.sql_functions', 'hhnk_research_tools.raster_functions', 'hhnk_research_tools.gis.raster', 'matplotlib', 'matplotlib._api.deprecation', 'matplotlib._api', 'matplotlib._version', 'matplotlib._c_internal_utils', 'matplotlib.cbook', 'matplotlib.docstring', 'PIL._version', 'PIL', 'xml.etree', 'xml.etree.ElementPath', '_elementtree', 'xml.etree.ElementTree', 'PIL.ImageMode', 'PIL.TiffTags', 'PIL._binary', 'PIL._util', 'PIL._imaging', 'cffi.lock', 'cffi.error', 'cffi.model', 'cffi.api', 'cffi', 'PIL.Image', 'PIL.ImageChops', 'PIL.ImageFile', 'PIL.GimpGradientFile', 'PIL.GimpPaletteFile', 'PIL.ImageColor', 'PIL.PaletteFile', 'PIL.ImagePalette', 'PIL.ImageSequence', 'PIL.PngImagePlugin', 'matplotlib._path', 'matplotlib.bezier', 'matplotlib.path', 'matplotlib.transforms', 'matplotlib.ticker', 'matplotlib.scale', 'matplotlib._color_data', 'matplotlib.colors', 'pyparsing.util', 'pyparsing.unicode', 'pyparsing.exceptions', 'pyparsing.actions', 'pyparsing.results', 'pyparsing.core', 'pyparsing.helpers', 'pyparsing.testing', 'pyparsing.common', 'pyparsing', 'matplotlib.fontconfig_pattern', 'matplotlib._enums', 'cycler', 'matplotlib.rcsetup', 'matplotlib.ft2font', 'kiwisolver']\n",
      "DEBUG:matplotlib:CACHEDIR=C:\\Users\\wvangerwen\\.matplotlib\n",
      "DEBUG:matplotlib.font_manager:Using fontManager instance from C:\\Users\\wvangerwen\\.matplotlib\\fontlist-v330.json\n",
      "DEBUG:matplotlib.pyplot:Loaded backend module://matplotlib_inline.backend_inline version unknown.\n",
      "DEBUG:matplotlib.pyplot:Loaded backend module://matplotlib_inline.backend_inline version unknown.\n",
      "v11\n"
     ]
    }
   ],
   "source": [
    "import xarray \n",
    "import threedi_raster_edits as tre\n",
    "from hhnk_threedi_tools import Folders\n",
    "import geopandas as gpd\n",
    "\n",
    "from hhnk_threedi_tools.core.result_rasters.netcdf_to_gridgpkg import ThreediGrid\n",
    "from hhnk_threedi_tools.core.result_rasters.calculate_raster import BaseCalculatorGPKG\n",
    "\n",
    "\n",
    "#User input\n",
    "folder_path = r\"E:\\02.modellen\\23_Katvoed\"\n",
    "scenario = \"katvoed #1 piek_ghg_T1000\" #mapnaam\n",
    "\n",
    "\n",
    "folder = Folders(folder_path)\n",
    "\n",
    "dem_path = folder.model.schema_base.rasters.dem.path\n",
    "dem_path = r'E:\\\\02.modellen\\\\23_Katvoed\\\\02_schematisation\\\\00_basis\\\\rasters/dem_katvoed_ahn3.tif'\n",
    "\n",
    "threedi_result = folder.threedi_results.one_d_two_d[scenario]\n"
   ]
  },
  {
   "cell_type": "markdown",
   "id": "d5ad226c",
   "metadata": {},
   "source": [
    "1. Klaarzetten grid"
   ]
  },
  {
   "cell_type": "code",
   "execution_count": 5,
   "id": "091d3215",
   "metadata": {},
   "outputs": [
    {
     "name": "stderr",
     "output_type": "stream",
     "text": [
      "¯\\_(ツ)_/¯ (Warning):__len__ for multi-part geometries is deprecated and will be removed in Shapely 2.0. Check the length of the `geoms` property instead to get the  number of parts of a multi-part geometry.\n",
      "¯\\_(ツ)_/¯ (Warning):__len__ for multi-part geometries is deprecated and will be removed in Shapely 2.0. Check the length of the `geoms` property instead to get the  number of parts of a multi-part geometry.\n",
      "¯\\_(ツ)_/¯ (Warning):__len__ for multi-part geometries is deprecated and will be removed in Shapely 2.0. Check the length of the `geoms` property instead to get the  number of parts of a multi-part geometry.\n"
     ]
    }
   ],
   "source": [
    "#Select result\n",
    "threedigrid = ThreediGrid(folder=folder, threedi_result=threedi_result)\n",
    "\n",
    "#Convert netcdf to grid gpkg\n",
    "threedigrid.netcdf_to_grid_gpkg()\n",
    "\n",
    "#Replace waterlevel of selected cells with avg of neighbours.\n",
    "threedigrid.waterlevel_correction(output_col=\"wlvl_max_replaced\")"
   ]
  },
  {
   "cell_type": "markdown",
   "id": "c7b68276",
   "metadata": {},
   "source": [
    "2. Berekenen rasters"
   ]
  },
  {
   "cell_type": "code",
   "execution_count": null,
   "id": "6c094ec3",
   "metadata": {},
   "outputs": [],
   "source": [
    "OVERWRITE=False\n",
    "\n",
    "grid_gdf = gpd.read_file(threedi_result.pl/\"grid_corr.gpkg\", driver=\"GPKG\")\n"
   ]
  },
  {
   "cell_type": "code",
   "execution_count": 6,
   "id": "0fc0e6a4",
   "metadata": {},
   "outputs": [
    {
     "name": "stdout",
     "output_type": "stream",
     "text": [
      "creating output raster: E:\\02.modellen\\23_Katvoed\\03_3di_results\\1d2d_results\\piek_GHG_T1000\\wlvl_corr.tif\n"
     ]
    },
    {
     "name": "stderr",
     "output_type": "stream",
     "text": [
      "¯\\_(ツ)_/¯ (Warning):The array interface is deprecated and will no longer work in Shapely 2.0. Convert the '.coords' to a numpy array instead.\n"
     ]
    },
    {
     "name": "stdout",
     "output_type": "stream",
     "text": [
      "creating output raster: E:\\02.modellen\\23_Katvoed\\03_3di_results\\1d2d_results\\piek_GHG_T1000\\wdepth_corr.tif\n",
      "Done.\n"
     ]
    }
   ],
   "source": [
    "calculator_kwargs = {\"dem_path\":dem_path,\n",
    "                        \"grid_gdf\":grid_gdf, \n",
    "                        \"wlvl_column\":\"wlvl_max_replaced\"}\n",
    "\n",
    "#Init calculator\n",
    "with BaseCalculatorGPKG(**calculator_kwargs) as self:\n",
    "    self.run(output_folder=threedi_result.pl,  \n",
    "                output_raster_name=\"wlvl_corr.tif\",\n",
    "                mode=\"MODE_WLVL\",\n",
    "                overwrite=OVERWRITE)\n",
    "    self.run(output_folder=threedi_result.pl,  \n",
    "                output_raster_name=\"wdepth_corr.tif\",\n",
    "                mode=\"MODE_WDEPTH\",\n",
    "                overwrite=OVERWRITE)\n",
    "    print(\"Done.\")"
   ]
  },
  {
   "cell_type": "code",
   "execution_count": 7,
   "id": "09fe6053",
   "metadata": {},
   "outputs": [
    {
     "name": "stdout",
     "output_type": "stream",
     "text": [
      "creating output raster: E:\\02.modellen\\23_Katvoed\\03_3di_results\\1d2d_results\\piek_GHG_T1000\\wdepth_orig.tif\n"
     ]
    },
    {
     "name": "stderr",
     "output_type": "stream",
     "text": [
      "¯\\_(ツ)_/¯ (Warning):The array interface is deprecated and will no longer work in Shapely 2.0. Convert the '.coords' to a numpy array instead.\n"
     ]
    }
   ],
   "source": [
    "calculator_kwargs = {\"dem_path\":dem_path,\n",
    "                        \"grid_gdf\":grid_gdf, \n",
    "                        \"wlvl_column\":\"wlvl_max_orig\"}\n",
    "\n",
    "with BaseCalculatorGPKG(**calculator_kwargs) as self:\n",
    "    self.run(output_folder=threedi_result.pl,  \n",
    "                output_raster_name=\"wdepth_orig.tif\",\n",
    "                mode=\"MODE_WDEPTH\",\n",
    "                overwrite=OVERWRITE)"
   ]
  },
  {
   "cell_type": "markdown",
   "id": "7d6d51f7",
   "metadata": {},
   "source": [
    "3. Berekenen Schaderaster"
   ]
  },
  {
   "cell_type": "code",
   "execution_count": 10,
   "id": "2fc5875b",
   "metadata": {},
   "outputs": [
    {
     "name": "stdout",
     "output_type": "stream",
     "text": [
      "Uitzondering - Gamma herstelperiode voor lizard config is vermenigvuldigd met herstelperiode.\n",
      "creating output raster: E:\\02.modellen\\23_Katvoed\\03_3di_results\\1d2d_results\\piek_GHG_T1000\\damage_orig_lizard.tif\n",
      "30 / 30\r"
     ]
    }
   ],
   "source": [
    "# Schadeschatter heeft wat extra voorbereiding nodig.\n",
    "from pathlib import Path\n",
    "schadeschatter_path = Path(r\"E:\\01.basisgegevens\\hhnk_schadeschatter\")\n",
    "\n",
    "import sys\n",
    "if str(schadeschatter_path) not in sys.path:\n",
    "    sys.path.append(str(schadeschatter_path))\n",
    "import hhnk_schadeschatter as hhnk_wss\n",
    "\n",
    "\n",
    "#Variables\n",
    "# cfg_file = schadeschatter_path/'01_data/cfg/cfg_hhnk_2020.cfg'\n",
    "cfg_file = schadeschatter_path/'01_data/cfg/cfg_lizard.cfg'\n",
    "landuse_file = schadeschatter_path/'01_data/landuse2020_tiles/combined_rasters.vrt'\n",
    "\n",
    "depth_file = threedi_result.pl/\"wdepth_orig.tif\"\n",
    "output_file = threedi_result.pl/\"damage_orig_lizard.tif\"\n",
    "\n",
    "\n",
    "\n",
    "\n",
    "wss_settings = {'duur_uur': 48, #uren\n",
    "                'herstelperiode':'10 dagen',\n",
    "                'maand':'sep',\n",
    "                'cfg_file':cfg_file,\n",
    "                'dmg_type':'gem'}\n",
    "\n",
    "#Calculation\n",
    "self = hhnk_wss.wss_main.Waterschadeschatter(depth_file=depth_file, \n",
    "                        landuse_file=landuse_file, \n",
    "                        output_file=output_file,\n",
    "                        wss_settings=wss_settings)\n",
    "\n",
    "# Aanmaken leeg output raster.\n",
    "self.create_output_raster()\n",
    "\n",
    "# Berkenen schaderaster\n",
    "self.run(initialize_output=False)"
   ]
  },
  {
   "cell_type": "code",
   "execution_count": 10,
   "id": "8f29716c",
   "metadata": {},
   "outputs": [
    {
     "ename": "NameError",
     "evalue": "name 'wss_local' is not defined",
     "output_type": "error",
     "traceback": [
      "\u001b[1;31m---------------------------------------------------------------------------\u001b[0m",
      "\u001b[1;31mNameError\u001b[0m                                 Traceback (most recent call last)",
      "\u001b[1;32me:\\github\\wvangerwen\\hhnk-threedi-tools\\hhnk_threedi_tools\\utils\\notebooks\\04_netcdf_naar_raster.ipynb Cell 9\u001b[0m in \u001b[0;36m<cell line: 1>\u001b[1;34m()\u001b[0m\n\u001b[1;32m----> <a href='vscode-notebook-cell:/e%3A/github/wvangerwen/hhnk-threedi-tools/hhnk_threedi_tools/utils/notebooks/04_netcdf_naar_raster.ipynb#X13sZmlsZQ%3D%3D?line=0'>1</a>\u001b[0m wss_local\n",
      "\u001b[1;31mNameError\u001b[0m: name 'wss_local' is not defined"
     ]
    }
   ],
   "source": [
    "wss_local"
   ]
  }
 ],
 "metadata": {
  "kernelspec": {
   "display_name": "Python 3.9.5 64-bit",
   "language": "python",
   "name": "python3"
  },
  "language_info": {
   "codemirror_mode": {
    "name": "ipython",
    "version": 3
   },
   "file_extension": ".py",
   "mimetype": "text/x-python",
   "name": "python",
   "nbconvert_exporter": "python",
   "pygments_lexer": "ipython3",
   "version": "3.9.5"
  },
  "vscode": {
   "interpreter": {
    "hash": "0fc58e98793cebe35780511f282c58e972a0a95ab91518e7c36af272d26f5fd0"
   }
  }
 },
 "nbformat": 4,
 "nbformat_minor": 5
}
