{
 "cells": [
  {
   "cell_type": "markdown",
   "metadata": {
    "ExecuteTime": {
     "end_time": "2021-09-09T15:04:32.766713Z",
     "start_time": "2021-09-09T15:04:32.628077Z"
    }
   },
   "source": [
    "# Steps:\n",
    "1. Laadt imports\n",
    "2. Vul variabelen in\n",
    "3. Draai start_calculation tab\n"
   ]
  },
  {
   "cell_type": "code",
   "execution_count": 4,
   "metadata": {
    "ExecuteTime": {
     "end_time": "2021-10-15T22:52:50.428346Z",
     "start_time": "2021-10-15T22:52:46.818054Z"
    },
    "scrolled": false
   },
   "outputs": [
    {
     "name": "stderr",
     "output_type": "stream",
     "text": [
      "C:\\Users\\wvangerwen\\AppData\\Local\\Temp\\3\\ipykernel_11988\\109302294.py:10: DeprecationWarning: Importing display from IPython.core.display is deprecated since IPython 7.14, please import from IPython display\n",
      "  from IPython.core.display import display, HTML\n"
     ]
    },
    {
     "data": {
      "text/html": [
       "<style>.container {width:90% !important;}</style>"
      ],
      "text/plain": [
       "<IPython.core.display.HTML object>"
      ]
     },
     "metadata": {},
     "output_type": "display_data"
    },
    {
     "name": "stderr",
     "output_type": "stream",
     "text": [
      "Enabling notebook extension jupyter-js-widgets/extension...\n",
      "Traceback (most recent call last):\n",
      "  File \"C:\\PROGRA~1\\3DIMOD~1.22\\apps\\Python39\\lib\\runpy.py\", line 197, in _run_module_as_main\n",
      "    return _run_code(code, main_globals, None,\n",
      "  File \"C:\\PROGRA~1\\3DIMOD~1.22\\apps\\Python39\\lib\\runpy.py\", line 87, in _run_code\n",
      "    exec(code, run_globals)\n",
      "  File \"C:\\Users\\wvangerwen\\AppData\\Roaming\\Python\\Python39\\Scripts\\jupyter-nbextension.EXE\\__main__.py\", line 7, in <module>\n",
      "  File \"C:\\Users\\wvangerwen\\AppData\\Roaming\\Python\\Python39\\site-packages\\jupyter_core\\application.py\", line 269, in launch_instance\n",
      "    return super().launch_instance(argv=argv, **kwargs)\n",
      "  File \"C:\\Users\\wvangerwen\\AppData\\Roaming\\Python\\Python39\\site-packages\\traitlets\\config\\application.py\", line 976, in launch_instance\n",
      "    app.start()\n",
      "  File \"C:\\Users\\wvangerwen\\AppData\\Roaming\\Python\\Python39\\site-packages\\notebook\\nbextensions.py\", line 972, in start\n",
      "    super().start()\n",
      "  File \"C:\\Users\\wvangerwen\\AppData\\Roaming\\Python\\Python39\\site-packages\\jupyter_core\\application.py\", line 258, in start\n",
      "    self.subapp.start()\n",
      "  File \"C:\\Users\\wvangerwen\\AppData\\Roaming\\Python\\Python39\\site-packages\\notebook\\nbextensions.py\", line 882, in start\n",
      "    self.toggle_nbextension_python(self.extra_args[0])\n",
      "  File \"C:\\Users\\wvangerwen\\AppData\\Roaming\\Python\\Python39\\site-packages\\notebook\\nbextensions.py\", line 855, in toggle_nbextension_python\n",
      "    return toggle(module,\n",
      "  File \"C:\\Users\\wvangerwen\\AppData\\Roaming\\Python\\Python39\\site-packages\\notebook\\nbextensions.py\", line 470, in enable_nbextension_python\n",
      "    return _set_nbextension_state_python(True, module, user, sys_prefix,\n",
      "  File \"C:\\Users\\wvangerwen\\AppData\\Roaming\\Python\\Python39\\site-packages\\notebook\\nbextensions.py\", line 369, in _set_nbextension_state_python\n",
      "    return [_set_nbextension_state(section=nbext[\"section\"],\n",
      "  File \"C:\\Users\\wvangerwen\\AppData\\Roaming\\Python\\Python39\\site-packages\\notebook\\nbextensions.py\", line 369, in <listcomp>\n",
      "    return [_set_nbextension_state(section=nbext[\"section\"],\n",
      "  File \"C:\\Users\\wvangerwen\\AppData\\Roaming\\Python\\Python39\\site-packages\\notebook\\nbextensions.py\", line 339, in _set_nbextension_state\n",
      "    cm.update(section, {\"load_extensions\": {require: state}})\n",
      "  File \"C:\\Users\\wvangerwen\\AppData\\Roaming\\Python\\Python39\\site-packages\\notebook\\config_manager.py\", line 130, in update\n",
      "    self.set(section_name, data)\n",
      "  File \"C:\\Users\\wvangerwen\\AppData\\Roaming\\Python\\Python39\\site-packages\\notebook\\config_manager.py\", line 119, in set\n",
      "    f = open(filename, 'w', encoding='utf-8')\n",
      "PermissionError: [Errno 13] Permission denied: 'C:\\\\PROGRA~1\\\\3DIMOD~1.22\\\\apps\\\\Python39\\\\etc\\\\jupyter\\\\nbconfig\\\\notebook.json'\n"
     ]
    },
    {
     "name": "stdout",
     "output_type": "stream",
     "text": [
      "v11\n"
     ]
    },
    {
     "data": {
      "application/vnd.jupyter.widget-view+json": {
       "model_id": "50566a51e9f4446abf55e299281368d5",
       "version_major": 2,
       "version_minor": 0
      },
      "text/plain": [
       "Tab(children=(GridBox(children=(HTML(value='<b>1. Login with API keys</b>', layout=Layout(grid_area='login_lab…"
      ]
     },
     "metadata": {},
     "output_type": "display_data"
    }
   ],
   "source": [
    "# imports\n",
    "import importlib\n",
    "import sys\n",
    "import os\n",
    "import json\n",
    "\n",
    "# ipython imports\n",
    "import ipywidgets as widgets\n",
    "from IPython.core.display import display, HTML\n",
    "\n",
    "display(HTML(\"<style>.container {width:90% !important;}</style>\"))\n",
    "%matplotlib inline\n",
    "!jupyter nbextension enable --py --sys-prefix widgetsnbextension\n",
    "\n",
    "with open(os.getcwd() + \"/notebook_data.json\") as f:\n",
    "    notebook_data = json.load(f)\n",
    "\n",
    "from hhnk_threedi_tools.core.api.calculation_gui_class import StartCalculationGui\n",
    "\n",
    "self = StartCalculationGui(data=notebook_data)\n",
    "\n",
    "display(self.tab) "
   ]
  }
 ],
 "metadata": {
  "kernelspec": {
   "display_name": "Python 3.9.5 64-bit",
   "language": "python",
   "name": "python3"
  },
  "language_info": {
   "codemirror_mode": {
    "name": "ipython",
    "version": 3
   },
   "file_extension": ".py",
   "mimetype": "text/x-python",
   "name": "python",
   "nbconvert_exporter": "python",
   "pygments_lexer": "ipython3",
   "version": "3.9.5"
  },
  "vscode": {
   "interpreter": {
    "hash": "0fc58e98793cebe35780511f282c58e972a0a95ab91518e7c36af272d26f5fd0"
   }
  }
 },
 "nbformat": 4,
 "nbformat_minor": 4
}
