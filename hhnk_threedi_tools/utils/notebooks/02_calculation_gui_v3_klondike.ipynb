{
 "cells": [
  {
   "cell_type": "markdown",
   "metadata": {
    "ExecuteTime": {
     "end_time": "2021-09-09T15:04:32.766713Z",
     "start_time": "2021-09-09T15:04:32.628077Z"
    }
   },
   "source": [
    "# Steps:\n",
    "1. Laadt imports\n",
    "2. Vul variabelen in\n",
    "3. Draai start_calculation tab\n"
   ]
  },
  {
   "cell_type": "code",
   "execution_count": 5,
   "metadata": {
    "ExecuteTime": {
     "end_time": "2021-10-15T22:52:50.428346Z",
     "start_time": "2021-10-15T22:52:46.818054Z"
    },
    "scrolled": false
   },
   "outputs": [
    {
     "name": "stderr",
     "output_type": "stream",
     "text": [
      "C:\\Users\\jkaptein\\AppData\\Local\\Temp\\12\\ipykernel_9708\\1879447154.py:10: DeprecationWarning: Importing display from IPython.core.display is deprecated since IPython 7.14, please import from IPython display\n",
      "  from IPython.core.display import display, HTML\n"
     ]
    },
    {
     "data": {
      "text/html": [
       "<style>.container {width:90% !important;}</style>"
      ],
      "text/plain": [
       "<IPython.core.display.HTML object>"
      ]
     },
     "metadata": {},
     "output_type": "display_data"
    },
    {
     "name": "stderr",
     "output_type": "stream",
     "text": [
      "Enabling notebook extension jupyter-js-widgets/extension...\n",
      "Traceback (most recent call last):\n",
      "  File \"C:\\PROGRA~1\\3DIMOD~1.22\\apps\\Python39\\lib\\runpy.py\", line 197, in _run_module_as_main\n",
      "    return _run_code(code, main_globals, None,\n",
      "  File \"C:\\PROGRA~1\\3DIMOD~1.22\\apps\\Python39\\lib\\runpy.py\", line 87, in _run_code\n",
      "    exec(code, run_globals)\n",
      "  File \"C:\\Users\\jkaptein\\AppData\\Roaming\\Python\\Python39\\Scripts\\jupyter-nbextension.EXE\\__main__.py\", line 7, in <module>\n",
      "  File \"C:\\Users\\jkaptein\\AppData\\Roaming\\Python\\Python39\\site-packages\\jupyter_core\\application.py\", line 269, in launch_instance\n",
      "    return super().launch_instance(argv=argv, **kwargs)\n",
      "  File \"C:\\Users\\jkaptein\\AppData\\Roaming\\Python\\Python39\\site-packages\\traitlets\\config\\application.py\", line 976, in launch_instance\n",
      "    app.start()\n",
      "  File \"C:\\Users\\jkaptein\\AppData\\Roaming\\Python\\Python39\\site-packages\\notebook\\nbextensions.py\", line 972, in start\n",
      "    super().start()\n",
      "  File \"C:\\Users\\jkaptein\\AppData\\Roaming\\Python\\Python39\\site-packages\\jupyter_core\\application.py\", line 258, in start\n",
      "    self.subapp.start()\n",
      "  File \"C:\\Users\\jkaptein\\AppData\\Roaming\\Python\\Python39\\site-packages\\notebook\\nbextensions.py\", line 882, in start\n",
      "    self.toggle_nbextension_python(self.extra_args[0])\n",
      "  File \"C:\\Users\\jkaptein\\AppData\\Roaming\\Python\\Python39\\site-packages\\notebook\\nbextensions.py\", line 855, in toggle_nbextension_python\n",
      "    return toggle(module,\n",
      "  File \"C:\\Users\\jkaptein\\AppData\\Roaming\\Python\\Python39\\site-packages\\notebook\\nbextensions.py\", line 470, in enable_nbextension_python\n",
      "    return _set_nbextension_state_python(True, module, user, sys_prefix,\n",
      "  File \"C:\\Users\\jkaptein\\AppData\\Roaming\\Python\\Python39\\site-packages\\notebook\\nbextensions.py\", line 369, in _set_nbextension_state_python\n",
      "    return [_set_nbextension_state(section=nbext[\"section\"],\n",
      "  File \"C:\\Users\\jkaptein\\AppData\\Roaming\\Python\\Python39\\site-packages\\notebook\\nbextensions.py\", line 369, in <listcomp>\n",
      "    return [_set_nbextension_state(section=nbext[\"section\"],\n",
      "  File \"C:\\Users\\jkaptein\\AppData\\Roaming\\Python\\Python39\\site-packages\\notebook\\nbextensions.py\", line 339, in _set_nbextension_state\n",
      "    cm.update(section, {\"load_extensions\": {require: state}})\n",
      "  File \"C:\\Users\\jkaptein\\AppData\\Roaming\\Python\\Python39\\site-packages\\notebook\\config_manager.py\", line 130, in update\n",
      "    self.set(section_name, data)\n",
      "  File \"C:\\Users\\jkaptein\\AppData\\Roaming\\Python\\Python39\\site-packages\\notebook\\config_manager.py\", line 119, in set\n",
      "    f = open(filename, 'w', encoding='utf-8')\n",
      "PermissionError: [Errno 13] Permission denied: 'C:\\\\PROGRA~1\\\\3DIMOD~1.22\\\\apps\\\\Python39\\\\etc\\\\jupyter\\\\nbconfig\\\\notebook.json'\n"
     ]
    },
    {
     "ename": "TypeError",
     "evalue": "expected str, bytes or os.PathLike object, not NoneType",
     "output_type": "error",
     "traceback": [
      "\u001b[1;31m---------------------------------------------------------------------------\u001b[0m",
      "\u001b[1;31mTypeError\u001b[0m                                 Traceback (most recent call last)",
      "\u001b[1;32me:\\github\\jkaptein\\hhnk-threedi-tools\\hhnk_threedi_tools\\utils\\notebooks\\02_calculation_gui_v3_klondike.ipynb Cell 2\u001b[0m in \u001b[0;36m<cell line: 21>\u001b[1;34m()\u001b[0m\n\u001b[0;32m     <a href='vscode-notebook-cell:/e%3A/github/jkaptein/hhnk-threedi-tools/hhnk_threedi_tools/utils/notebooks/02_calculation_gui_v3_klondike.ipynb#W1sZmlsZQ%3D%3D?line=15'>16</a>\u001b[0m \u001b[39m# with open(os.getcwd() + \"/notebook_data.json\") as f:\u001b[39;00m\n\u001b[0;32m     <a href='vscode-notebook-cell:/e%3A/github/jkaptein/hhnk-threedi-tools/hhnk_threedi_tools/utils/notebooks/02_calculation_gui_v3_klondike.ipynb#W1sZmlsZQ%3D%3D?line=16'>17</a>\u001b[0m \u001b[39m#     notebook_data = json.load(f)\u001b[39;00m\n\u001b[0;32m     <a href='vscode-notebook-cell:/e%3A/github/jkaptein/hhnk-threedi-tools/hhnk_threedi_tools/utils/notebooks/02_calculation_gui_v3_klondike.ipynb#W1sZmlsZQ%3D%3D?line=18'>19</a>\u001b[0m \u001b[39mfrom\u001b[39;00m \u001b[39mhhnk_threedi_tools\u001b[39;00m\u001b[39m.\u001b[39;00m\u001b[39mcore\u001b[39;00m\u001b[39m.\u001b[39;00m\u001b[39mapi\u001b[39;00m\u001b[39m.\u001b[39;00m\u001b[39mcalculation_gui_class\u001b[39;00m \u001b[39mimport\u001b[39;00m StartCalculationGui, GuiVariables, StartCalculationWidgetsInteraction\n\u001b[1;32m---> <a href='vscode-notebook-cell:/e%3A/github/jkaptein/hhnk-threedi-tools/hhnk_threedi_tools/utils/notebooks/02_calculation_gui_v3_klondike.ipynb#W1sZmlsZQ%3D%3D?line=20'>21</a>\u001b[0m \u001b[39mself\u001b[39m \u001b[39m=\u001b[39m StartCalculationGui()\n\u001b[0;32m     <a href='vscode-notebook-cell:/e%3A/github/jkaptein/hhnk-threedi-tools/hhnk_threedi_tools/utils/notebooks/02_calculation_gui_v3_klondike.ipynb#W1sZmlsZQ%3D%3D?line=21'>22</a>\u001b[0m display(\u001b[39mself\u001b[39m\u001b[39m.\u001b[39mtab)\n",
      "File \u001b[1;32mE:\\github/jkaptein/hhnk-threedi-tools\\hhnk_threedi_tools\\core\\api\\calculation_gui_class.py:1496\u001b[0m, in \u001b[0;36mStartCalculationGui.__init__\u001b[1;34m(self, data, base_scenario_name, lizard_api_key, threedi_api_key, main_folder)\u001b[0m\n\u001b[0;32m   1494\u001b[0m     \u001b[39mself\u001b[39m\u001b[39m.\u001b[39mvars\u001b[39m.\u001b[39mapi_keys[\u001b[39m\"\u001b[39m\u001b[39mlizard\u001b[39m\u001b[39m\"\u001b[39m] \u001b[39m=\u001b[39m lizard_api_key\n\u001b[0;32m   1495\u001b[0m     \u001b[39mself\u001b[39m\u001b[39m.\u001b[39mvars\u001b[39m.\u001b[39mapi_keys[\u001b[39m\"\u001b[39m\u001b[39mthreedi\u001b[39m\u001b[39m\"\u001b[39m] \u001b[39m=\u001b[39m threedi_api_key\n\u001b[1;32m-> 1496\u001b[0m     \u001b[39mself\u001b[39;49m\u001b[39m.\u001b[39;49mvars\u001b[39m.\u001b[39;49mmain_folder \u001b[39m=\u001b[39m main_folder\n\u001b[0;32m   1498\u001b[0m \u001b[39mself\u001b[39m\u001b[39m.\u001b[39mwidgets\u001b[39m.\u001b[39mupdate_folder()\n\u001b[0;32m   1499\u001b[0m \u001b[39m# self.base_scenario_name = base_scenario_name\u001b[39;00m\n\u001b[0;32m   1500\u001b[0m    \n\u001b[0;32m   1501\u001b[0m \n\u001b[1;32m   (...)\u001b[0m\n\u001b[0;32m   1504\u001b[0m \u001b[39m# else:\u001b[39;00m\n\u001b[0;32m   1505\u001b[0m \u001b[39m#     self.base_scenario_name_str = f\"{self.base_scenario_name} \"\u001b[39;00m\n",
      "File \u001b[1;32mE:\\github/jkaptein/hhnk-threedi-tools\\hhnk_threedi_tools\\core\\api\\calculation_gui_class.py:1397\u001b[0m, in \u001b[0;36mGuiVariables.main_folder\u001b[1;34m(self, main_folder)\u001b[0m\n\u001b[0;32m   1395\u001b[0m \u001b[39m@folder\u001b[39m\u001b[39m.\u001b[39msetter\n\u001b[0;32m   1396\u001b[0m \u001b[39mdef\u001b[39;00m \u001b[39mmain_folder\u001b[39m(\u001b[39mself\u001b[39m, main_folder):\n\u001b[1;32m-> 1397\u001b[0m     \u001b[39mself\u001b[39m\u001b[39m.\u001b[39m_folder \u001b[39m=\u001b[39m Folders(main_folder, create\u001b[39m=\u001b[39;49m\u001b[39mFalse\u001b[39;49;00m)\n",
      "File \u001b[1;32mE:\\github/jkaptein/hhnk-threedi-tools\\hhnk_threedi_tools\\core\\folders.py:374\u001b[0m, in \u001b[0;36mFolders.__init__\u001b[1;34m(self, base, create)\u001b[0m\n\u001b[0;32m    373\u001b[0m \u001b[39mdef\u001b[39;00m \u001b[39m__init__\u001b[39m(\u001b[39mself\u001b[39m, base, create\u001b[39m=\u001b[39m\u001b[39mFalse\u001b[39;00m):\n\u001b[1;32m--> 374\u001b[0m     \u001b[39msuper\u001b[39;49m()\u001b[39m.\u001b[39;49m\u001b[39m__init__\u001b[39;49m(base)\n\u001b[0;32m    376\u001b[0m     \u001b[39mprint\u001b[39m(\u001b[39m\"\u001b[39m\u001b[39mv9\u001b[39m\u001b[39m\"\u001b[39m)\n\u001b[0;32m    378\u001b[0m     \u001b[39m# source\u001b[39;00m\n",
      "File \u001b[1;32mE:\\github/jkaptein/hhnk-threedi-tools\\hhnk_threedi_tools\\core\\folders.py:209\u001b[0m, in \u001b[0;36mFolder.__init__\u001b[1;34m(self, base)\u001b[0m\n\u001b[0;32m    207\u001b[0m \u001b[39mdef\u001b[39;00m \u001b[39m__init__\u001b[39m(\u001b[39mself\u001b[39m, base):\n\u001b[0;32m    208\u001b[0m     \u001b[39mself\u001b[39m\u001b[39m.\u001b[39mbase \u001b[39m=\u001b[39m base\n\u001b[1;32m--> 209\u001b[0m     \u001b[39mself\u001b[39m\u001b[39m.\u001b[39mpl \u001b[39m=\u001b[39m Path(base)  \u001b[39m# pathlib path\u001b[39;00m\n\u001b[0;32m    211\u001b[0m     \u001b[39mself\u001b[39m\u001b[39m.\u001b[39mfiles \u001b[39m=\u001b[39m {}\n\u001b[0;32m    212\u001b[0m     \u001b[39mself\u001b[39m\u001b[39m.\u001b[39molayers \u001b[39m=\u001b[39m {}\n",
      "File \u001b[1;32mC:\\PROGRA~1\\3DIMOD~1.22\\apps\\Python39\\lib\\pathlib.py:1072\u001b[0m, in \u001b[0;36mPath.__new__\u001b[1;34m(cls, *args, **kwargs)\u001b[0m\n\u001b[0;32m   1070\u001b[0m \u001b[39mif\u001b[39;00m \u001b[39mcls\u001b[39m \u001b[39mis\u001b[39;00m Path:\n\u001b[0;32m   1071\u001b[0m     \u001b[39mcls\u001b[39m \u001b[39m=\u001b[39m WindowsPath \u001b[39mif\u001b[39;00m os\u001b[39m.\u001b[39mname \u001b[39m==\u001b[39m \u001b[39m'\u001b[39m\u001b[39mnt\u001b[39m\u001b[39m'\u001b[39m \u001b[39melse\u001b[39;00m PosixPath\n\u001b[1;32m-> 1072\u001b[0m \u001b[39mself\u001b[39m \u001b[39m=\u001b[39m \u001b[39mcls\u001b[39;49m\u001b[39m.\u001b[39;49m_from_parts(args, init\u001b[39m=\u001b[39;49m\u001b[39mFalse\u001b[39;49;00m)\n\u001b[0;32m   1073\u001b[0m \u001b[39mif\u001b[39;00m \u001b[39mnot\u001b[39;00m \u001b[39mself\u001b[39m\u001b[39m.\u001b[39m_flavour\u001b[39m.\u001b[39mis_supported:\n\u001b[0;32m   1074\u001b[0m     \u001b[39mraise\u001b[39;00m \u001b[39mNotImplementedError\u001b[39;00m(\u001b[39m\"\u001b[39m\u001b[39mcannot instantiate \u001b[39m\u001b[39m%r\u001b[39;00m\u001b[39m on your system\u001b[39m\u001b[39m\"\u001b[39m\n\u001b[0;32m   1075\u001b[0m                               \u001b[39m%\u001b[39m (\u001b[39mcls\u001b[39m\u001b[39m.\u001b[39m\u001b[39m__name__\u001b[39m,))\n",
      "File \u001b[1;32mC:\\PROGRA~1\\3DIMOD~1.22\\apps\\Python39\\lib\\pathlib.py:697\u001b[0m, in \u001b[0;36mPurePath._from_parts\u001b[1;34m(cls, args, init)\u001b[0m\n\u001b[0;32m    692\u001b[0m \u001b[39m@classmethod\u001b[39m\n\u001b[0;32m    693\u001b[0m \u001b[39mdef\u001b[39;00m \u001b[39m_from_parts\u001b[39m(\u001b[39mcls\u001b[39m, args, init\u001b[39m=\u001b[39m\u001b[39mTrue\u001b[39;00m):\n\u001b[0;32m    694\u001b[0m     \u001b[39m# We need to call _parse_args on the instance, so as to get the\u001b[39;00m\n\u001b[0;32m    695\u001b[0m     \u001b[39m# right flavour.\u001b[39;00m\n\u001b[0;32m    696\u001b[0m     \u001b[39mself\u001b[39m \u001b[39m=\u001b[39m \u001b[39mobject\u001b[39m\u001b[39m.\u001b[39m\u001b[39m__new__\u001b[39m(\u001b[39mcls\u001b[39m)\n\u001b[1;32m--> 697\u001b[0m     drv, root, parts \u001b[39m=\u001b[39m \u001b[39mself\u001b[39;49m\u001b[39m.\u001b[39;49m_parse_args(args)\n\u001b[0;32m    698\u001b[0m     \u001b[39mself\u001b[39m\u001b[39m.\u001b[39m_drv \u001b[39m=\u001b[39m drv\n\u001b[0;32m    699\u001b[0m     \u001b[39mself\u001b[39m\u001b[39m.\u001b[39m_root \u001b[39m=\u001b[39m root\n",
      "File \u001b[1;32mC:\\PROGRA~1\\3DIMOD~1.22\\apps\\Python39\\lib\\pathlib.py:681\u001b[0m, in \u001b[0;36mPurePath._parse_args\u001b[1;34m(cls, args)\u001b[0m\n\u001b[0;32m    679\u001b[0m     parts \u001b[39m+\u001b[39m\u001b[39m=\u001b[39m a\u001b[39m.\u001b[39m_parts\n\u001b[0;32m    680\u001b[0m \u001b[39melse\u001b[39;00m:\n\u001b[1;32m--> 681\u001b[0m     a \u001b[39m=\u001b[39m os\u001b[39m.\u001b[39;49mfspath(a)\n\u001b[0;32m    682\u001b[0m     \u001b[39mif\u001b[39;00m \u001b[39misinstance\u001b[39m(a, \u001b[39mstr\u001b[39m):\n\u001b[0;32m    683\u001b[0m         \u001b[39m# Force-cast str subclasses to str (issue #21127)\u001b[39;00m\n\u001b[0;32m    684\u001b[0m         parts\u001b[39m.\u001b[39mappend(\u001b[39mstr\u001b[39m(a))\n",
      "\u001b[1;31mTypeError\u001b[0m: expected str, bytes or os.PathLike object, not NoneType"
     ]
    }
   ],
   "source": [
    "# imports\n",
    "import importlib\n",
    "import sys\n",
    "import os\n",
    "import json\n",
    "sys.path.insert(0, r\"C:\\Users\\chris.kerklaan\\Documents\\Github\\hhnk-threedi-tools\")\n",
    "\n",
    "# ipython imports\n",
    "import ipywidgets as widgets\n",
    "from IPython.core.display import display, HTML\n",
    "\n",
    "display(HTML(\"<style>.container {width:90% !important;}</style>\"))\n",
    "%matplotlib inline\n",
    "!jupyter nbextension enable --py --sys-prefix widgetsnbextension\n",
    "\n",
    "# with open(os.getcwd() + \"/notebook_data.json\") as f:\n",
    "#     notebook_data = json.load(f)\n",
    "\n",
    "from hhnk_threedi_tools.core.api.calculation_gui_class import StartCalculationGui, GuiVariables, StartCalculationWidgetsInteraction\n",
    "\n",
    "self = StartCalculationGui()\n",
    "display(self.tab) "
   ]
  }
 ],
 "metadata": {
  "kernelspec": {
   "display_name": "Python 3.9.5 64-bit",
   "language": "python",
   "name": "python3"
  },
  "language_info": {
   "codemirror_mode": {
    "name": "ipython",
    "version": 3
   },
   "file_extension": ".py",
   "mimetype": "text/x-python",
   "name": "python",
   "nbconvert_exporter": "python",
   "pygments_lexer": "ipython3",
   "version": "3.9.5"
  },
  "vscode": {
   "interpreter": {
    "hash": "0fc58e98793cebe35780511f282c58e972a0a95ab91518e7c36af272d26f5fd0"
   }
  }
 },
 "nbformat": 4,
 "nbformat_minor": 4
}
