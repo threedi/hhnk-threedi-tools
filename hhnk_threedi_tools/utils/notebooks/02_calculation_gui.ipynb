{
 "cells": [
  {
   "cell_type": "markdown",
   "metadata": {
    "ExecuteTime": {
     "end_time": "2021-09-09T15:04:32.766713Z",
     "start_time": "2021-09-09T15:04:32.628077Z"
    }
   },
   "source": [
    "# Steps:\n",
    "1. Laadt imports\n",
    "2. Vul variabelen in\n",
    "3. Draai start_calculation tab\n"
   ]
  },
  {
   "cell_type": "code",
   "execution_count": 1,
   "metadata": {
    "ExecuteTime": {
     "end_time": "2021-10-15T10:39:57.824414Z",
     "start_time": "2021-10-15T10:39:57.554412Z"
    }
   },
   "outputs": [
    {
     "name": "stderr",
     "output_type": "stream",
     "text": [
      "Traceback (most recent call last):\n",
      "  File \"C:\\OSGEO4~1\\apps\\Python37\\lib\\runpy.py\", line 193, in _run_module_as_main\n",
      "    \"__main__\", mod_spec)\n",
      "  File \"C:\\OSGEO4~1\\apps\\Python37\\lib\\runpy.py\", line 85, in _run_code\n",
      "    exec(code, run_globals)\n",
      "  File \"C:\\OSGEO4~1\\apps\\Python37\\Scripts\\jupyter.exe\\__main__.py\", line 9, in <module>\n",
      "  File \"C:\\Users\\chris.kerklaan\\AppData\\Roaming\\Python\\Python37\\site-packages\\jupyter_core\\command.py\", line 247, in main\n",
      "    command = _jupyter_abspath(subcommand)\n",
      "  File \"C:\\Users\\chris.kerklaan\\AppData\\Roaming\\Python\\Python37\\site-packages\\jupyter_core\\command.py\", line 134, in _jupyter_abspath\n",
      "    'Jupyter command `{}` not found.'.format(jupyter_subcommand)\n",
      "Exception: Jupyter command `jupyter-nbextension` not found.\n"
     ]
    }
   ],
   "source": [
    "!jupyter nbextension enable --py --sys-prefix widgetsnbextension"
   ]
  },
  {
   "cell_type": "code",
   "execution_count": 2,
   "metadata": {
    "ExecuteTime": {
     "end_time": "2021-10-15T22:52:50.428346Z",
     "start_time": "2021-10-15T22:52:46.818054Z"
    },
    "scrolled": false
   },
   "outputs": [
    {
     "data": {
      "text/html": [
       "<style>.container {width:90% !important;}</style>"
      ],
      "text/plain": [
       "<IPython.core.display.HTML object>"
      ]
     },
     "metadata": {},
     "output_type": "display_data"
    },
    {
     "data": {
      "application/vnd.jupyter.widget-view+json": {
       "model_id": "f9f8d728742940ccacf3804915892d51",
       "version_major": 2,
       "version_minor": 0
      },
      "text/plain": [
       "Tab(children=(GridBox(children=(HTML(value='<b>1. Login with 3Di account</b>', layout=Layout(grid_area='login_…"
      ]
     },
     "metadata": {},
     "output_type": "display_data"
    },
    {
     "name": "stdout",
     "output_type": "stream",
     "text": [
      "C:/Users/chris.kerklaan/Documents/Github/hhnk-threedi-tools/hhnk_threedi_tools/tests/data/multiple_polders\\t\\03_3di_resultaten\\batch_results not created, parent doesnt exist.\n",
      "C:/Users/chris.kerklaan/Documents/Github/hhnk-threedi-tools/hhnk_threedi_tools/tests/data/multiple_polders\\te\\03_3di_resultaten\\batch_results not created, parent doesnt exist.\n",
      "C:/Users/chris.kerklaan/Documents/Github/hhnk-threedi-tools/hhnk_threedi_tools/tests/data/multiple_polders\\tes\\03_3di_resultaten\\batch_results not created, parent doesnt exist.\n",
      "C:/Users/chris.kerklaan/Documents/Github/hhnk-threedi-tools/hhnk_threedi_tools/tests/data/multiple_polders\\test\\03_3di_resultaten\\batch_results not created, parent doesnt exist.\n",
      "C:/Users/chris.kerklaan/Documents/Github/hhnk-threedi-tools/hhnk_threedi_tools/tests/data/multiple_polders\\tes\\03_3di_resultaten\\batch_results not created, parent doesnt exist.\n",
      "C:/Users/chris.kerklaan/Documents/Github/hhnk-threedi-tools/hhnk_threedi_tools/tests/data/multiple_polders\\te\\03_3di_resultaten\\batch_results not created, parent doesnt exist.\n",
      "C:/Users/chris.kerklaan/Documents/Github/hhnk-threedi-tools/hhnk_threedi_tools/tests/data/multiple_polders\\t\\03_3di_resultaten\\batch_results not created, parent doesnt exist.\n",
      "C:/Users/chris.kerklaan/Documents/Github/hhnk-threedi-tools/hhnk_threedi_tools/tests/data/multiple_polders\\03_3di_resultaten\\batch_results not created, parent doesnt exist.\n",
      "C:/Users/chris.kerklaan/Documents/Github/hhnk-threedi-tools/hhnk_threedi_tools/tests/data/multiple_polders\\b\\03_3di_resultaten\\batch_results not created, parent doesnt exist.\n",
      "C:/Users/chris.kerklaan/Documents/Github/hhnk-threedi-tools/hhnk_threedi_tools/tests/data/multiple_polders\\be\\03_3di_resultaten\\batch_results not created, parent doesnt exist.\n",
      "C:/Users/chris.kerklaan/Documents/Github/hhnk-threedi-tools/hhnk_threedi_tools/tests/data/multiple_polders\\bew\\03_3di_resultaten\\batch_results not created, parent doesnt exist.\n",
      "C:/Users/chris.kerklaan/Documents/Github/hhnk-threedi-tools/hhnk_threedi_tools/tests/data/multiple_polders\\bewn\\03_3di_resultaten\\batch_results not created, parent doesnt exist.\n",
      "C:/Users/chris.kerklaan/Documents/Github/hhnk-threedi-tools/hhnk_threedi_tools/tests/data/multiple_polders\\bew\\03_3di_resultaten\\batch_results not created, parent doesnt exist.\n",
      "C:/Users/chris.kerklaan/Documents/Github/hhnk-threedi-tools/hhnk_threedi_tools/tests/data/multiple_polders\\be\\03_3di_resultaten\\batch_results not created, parent doesnt exist.\n",
      "C:/Users/chris.kerklaan/Documents/Github/hhnk-threedi-tools/hhnk_threedi_tools/tests/data/multiple_polders\\b\\03_3di_resultaten\\batch_results not created, parent doesnt exist.\n",
      "C:/Users/chris.kerklaan/Documents/Github/hhnk-threedi-tools/hhnk_threedi_tools/tests/data/multiple_polders\\bw\\03_3di_resultaten\\batch_results not created, parent doesnt exist.\n",
      "C:/Users/chris.kerklaan/Documents/Github/hhnk-threedi-tools/hhnk_threedi_tools/tests/data/multiple_polders\\bwn\\03_3di_resultaten\\batch_results not created, parent doesnt exist.\n",
      "C:/Users/chris.kerklaan/Documents/Github/hhnk-threedi-tools/hhnk_threedi_tools/tests/data/multiple_polders\\bwn_\\03_3di_resultaten\\batch_results not created, parent doesnt exist.\n",
      "C:/Users/chris.kerklaan/Documents/Github/hhnk-threedi-tools/hhnk_threedi_tools/tests/data/multiple_polders\\bwn_t\\03_3di_resultaten\\batch_results not created, parent doesnt exist.\n",
      "C:/Users/chris.kerklaan/Documents/Github/hhnk-threedi-tools/hhnk_threedi_tools/tests/data/multiple_polders\\bwn_te\\03_3di_resultaten\\batch_results not created, parent doesnt exist.\n",
      "C:/Users/chris.kerklaan/Documents/Github/hhnk-threedi-tools/hhnk_threedi_tools/tests/data/multiple_polders\\bwn_tes\\03_3di_resultaten\\batch_results not created, parent doesnt exist.\n",
      "C:/Users/chris.kerklaan/Documents/Github/hhnk-threedi-tools/hhnk_threedi_tools/tests/data/multiple_polders\\bwn_test\\03_3di_resultaten\\batch_results not created, parent doesnt exist.\n"
     ]
    }
   ],
   "source": [
    "# imports\n",
    "import importlib\n",
    "import sys\n",
    "\n",
    "#sys.path.append(\"C:/Users/chris.kerklaan/Downloads/wetransfer_functions-7z_2021-09-20_1112\")\n",
    "sys.path.append('C:/Users/chris.kerklaan/Documents/Github/hhnk-threedi-tools')\n",
    "\n",
    "sys.path.append('C:/Users/chris.kerklaan/Documents/Github/hhnk-research-tools')\n",
    "\n",
    "# ipython imports\n",
    "import ipywidgets as widgets\n",
    "from IPython.core.display import display, HTML; display(HTML(\"<style>.container {width:90% !important;}</style>\"))\n",
    "%matplotlib inline\n",
    "# !jupyter nbextension enable --py --sys-prefix widgetsnbextension\n",
    "\n",
    "# local imports\n",
    "from hhnk_threedi_tools.core.api.calculation_gui import start_calculation_gui\n",
    "\n",
    "polders_folder = \"C:/Users/chris.kerklaan/Documents/Github/hhnk-threedi-tools/hhnk_threedi_tools/tests/data/multiple_polders\"\n",
    "#polders_folder = \"C:/Users/wvangerwen/Github/hhnk-threedi-tools/hhnk_threedi_tools/tests/data/multiple_polders\"\n",
    "LIZARD_API_KEY = \"KmBOtiLM.heFnG6o7rd9wvFEi0zXRVS2vjStdGIHD\"\n",
    "\n",
    "# start gui\n",
    "start_calculation_tab = start_calculation_gui(polders_folder, base_scenario_name='', lizard_api_key=LIZARD_API_KEY); start_calculation_tab"
   ]
  },
  {
   "cell_type": "code",
   "execution_count": 3,
   "metadata": {
    "ExecuteTime": {
     "end_time": "2021-10-12T12:13:24.229214Z",
     "start_time": "2021-10-12T12:13:21.843554Z"
    },
    "scrolled": false
   },
   "outputs": [
    {
     "data": {
      "application/vnd.jupyter.widget-view+json": {
       "model_id": "4d628314943f4e4384befcd6d1401856",
       "version_major": 2,
       "version_minor": 0
      },
      "text/plain": [
       "Tab(children=(GridBox(children=(HTML(value='<b>1. Login with 3Di account</b>', layout=Layout(grid_area='login_…"
      ]
     },
     "metadata": {},
     "output_type": "display_data"
    }
   ],
   "source": []
  },
  {
   "cell_type": "code",
   "execution_count": null,
   "metadata": {},
   "outputs": [],
   "source": []
  },
  {
   "cell_type": "code",
   "execution_count": null,
   "metadata": {
    "ExecuteTime": {
     "end_time": "2021-09-09T15:11:21.766689Z",
     "start_time": "2021-09-09T15:11:21.751022Z"
    }
   },
   "outputs": [],
   "source": []
  },
  {
   "cell_type": "code",
   "execution_count": null,
   "metadata": {},
   "outputs": [],
   "source": []
  },
  {
   "cell_type": "code",
   "execution_count": null,
   "metadata": {},
   "outputs": [],
   "source": []
  },
  {
   "cell_type": "code",
   "execution_count": null,
   "metadata": {},
   "outputs": [],
   "source": []
  },
  {
   "cell_type": "code",
   "execution_count": null,
   "metadata": {},
   "outputs": [],
   "source": []
  },
  {
   "cell_type": "code",
   "execution_count": null,
   "metadata": {
    "ExecuteTime": {
     "start_time": "2021-08-09T07:36:43.058Z"
    }
   },
   "outputs": [],
   "source": []
  },
  {
   "cell_type": "code",
   "execution_count": null,
   "metadata": {
    "ExecuteTime": {
     "end_time": "2021-08-05T12:52:52.061820Z",
     "start_time": "2021-08-05T12:52:51.863080Z"
    }
   },
   "outputs": [],
   "source": []
  },
  {
   "cell_type": "code",
   "execution_count": null,
   "metadata": {
    "ExecuteTime": {
     "end_time": "2021-08-05T11:42:17.664264Z",
     "start_time": "2021-08-05T11:42:17.504049Z"
    }
   },
   "outputs": [],
   "source": []
  },
  {
   "cell_type": "code",
   "execution_count": null,
   "metadata": {
    "ExecuteTime": {
     "end_time": "2021-08-05T11:26:43.112146Z",
     "start_time": "2021-08-05T11:26:42.860728Z"
    }
   },
   "outputs": [],
   "source": []
  },
  {
   "cell_type": "code",
   "execution_count": null,
   "metadata": {
    "ExecuteTime": {
     "end_time": "2021-08-05T12:06:06.686969Z",
     "start_time": "2021-08-05T12:06:05.499625Z"
    }
   },
   "outputs": [],
   "source": []
  },
  {
   "cell_type": "code",
   "execution_count": null,
   "metadata": {
    "ExecuteTime": {
     "end_time": "2021-07-07T11:36:59.918378Z",
     "start_time": "2021-07-07T11:36:59.787326Z"
    },
    "scrolled": true
   },
   "outputs": [],
   "source": []
  },
  {
   "cell_type": "code",
   "execution_count": null,
   "metadata": {
    "ExecuteTime": {
     "end_time": "2021-07-06T14:14:22.780065Z",
     "start_time": "2021-07-06T14:11:30.115Z"
    }
   },
   "outputs": [],
   "source": []
  }
 ],
 "metadata": {
  "interpreter": {
   "hash": "eea3b0fa5359ec1c5e7f02969caa90c878a261929c8203f99e9ee0f1d9a24aeb"
  },
  "kernelspec": {
   "display_name": "Python 3",
   "language": "python",
   "name": "python3"
  },
  "language_info": {
   "codemirror_mode": {
    "name": "ipython",
    "version": 3
   },
   "file_extension": ".py",
   "mimetype": "text/x-python",
   "name": "python",
   "nbconvert_exporter": "python",
   "pygments_lexer": "ipython3",
   "version": "3.7.0"
  }
 },
 "nbformat": 4,
 "nbformat_minor": 4
}
