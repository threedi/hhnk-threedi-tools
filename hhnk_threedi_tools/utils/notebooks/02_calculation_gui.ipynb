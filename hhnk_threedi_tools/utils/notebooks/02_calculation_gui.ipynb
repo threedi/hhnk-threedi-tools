{
 "cells": [
  {
   "cell_type": "markdown",
   "metadata": {
    "ExecuteTime": {
     "end_time": "2021-09-09T15:04:32.766713Z",
     "start_time": "2021-09-09T15:04:32.628077Z"
    }
   },
   "source": [
    "# Steps:\n",
    "1. Laadt imports\n",
    "2. Vul variabelen in\n",
    "3. Draai start_calculation tab\n"
   ]
  },
  {
   "cell_type": "code",
   "execution_count": 2,
   "metadata": {
    "ExecuteTime": {
     "end_time": "2021-10-15T10:39:57.824414Z",
     "start_time": "2021-10-15T10:39:57.554412Z"
    }
   },
   "outputs": [
    {
     "name": "stderr",
     "output_type": "stream",
     "text": [
      "Enabling notebook extension jupyter-js-widgets/extension...\n",
      "      - Validating: ok\n"
     ]
    }
   ],
   "source": [
    "!jupyter nbextension enable --py --sys-prefix widgetsnbextension"
   ]
  },
  {
   "cell_type": "code",
   "execution_count": 1,
   "metadata": {
    "ExecuteTime": {
     "end_time": "2021-10-15T22:52:50.428346Z",
     "start_time": "2021-10-15T22:52:46.818054Z"
    },
    "scrolled": false
   },
   "outputs": [
    {
     "data": {
      "text/html": [
       "<style>.container {width:90% !important;}</style>"
      ],
      "text/plain": [
       "<IPython.core.display.HTML object>"
      ]
     },
     "metadata": {},
     "output_type": "display_data"
    },
    {
     "data": {
      "application/vnd.jupyter.widget-view+json": {
       "model_id": "4cbaf93e14d44665944c098d587f0575",
       "version_major": 2,
       "version_minor": 0
      },
      "text/plain": [
       "Tab(children=(GridBox(children=(HTML(value='<b>1. Login with 3Di account</b>', layout=Layout(grid_area='login_…"
      ]
     },
     "metadata": {},
     "output_type": "display_data"
    },
    {
     "name": "stdout",
     "output_type": "stream",
     "text": [
      "C:/Users/wvangerwen/Github/hhnk-threedi-tools/hhnk_threedi_tools/tests/data/multiple_polders\\e\\03_3di_resultaten\\batch_results not created, parent doesnt exist.\n",
      "C:/Users/wvangerwen/Github/hhnk-threedi-tools/hhnk_threedi_tools/tests/data/multiple_polders\\eg\\03_3di_resultaten\\batch_results not created, parent doesnt exist.\n",
      "C:/Users/wvangerwen/Github/hhnk-threedi-tools/hhnk_threedi_tools/tests/data/multiple_polders\\egm\\03_3di_resultaten\\batch_results not created, parent doesnt exist.\n",
      "C:/Users/wvangerwen/Github/hhnk-threedi-tools/hhnk_threedi_tools/tests/data/multiple_polders\\egmo\\03_3di_resultaten\\batch_results not created, parent doesnt exist.\n",
      "C:/Users/wvangerwen/Github/hhnk-threedi-tools/hhnk_threedi_tools/tests/data/multiple_polders\\egmon\\03_3di_resultaten\\batch_results not created, parent doesnt exist.\n",
      "C:/Users/wvangerwen/Github/hhnk-threedi-tools/hhnk_threedi_tools/tests/data/multiple_polders\\egmond_\\03_3di_resultaten\\batch_results not created, parent doesnt exist.\n",
      "C:/Users/wvangerwen/Github/hhnk-threedi-tools/hhnk_threedi_tools/tests/data/multiple_polders\\egmond_w\\03_3di_resultaten\\batch_results not created, parent doesnt exist.\n",
      "C:/Users/wvangerwen/Github/hhnk-threedi-tools/hhnk_threedi_tools/tests/data/multiple_polders\\egmond_wo\\03_3di_resultaten\\batch_results not created, parent doesnt exist.\n",
      "C:/Users/wvangerwen/Github/hhnk-threedi-tools/hhnk_threedi_tools/tests/data/multiple_polders\\egmond_wo_\\03_3di_resultaten\\batch_results not created, parent doesnt exist.\n",
      "C:/Users/wvangerwen/Github/hhnk-threedi-tools/hhnk_threedi_tools/tests/data/multiple_polders\\egmond_wo_j\\03_3di_resultaten\\batch_results not created, parent doesnt exist.\n",
      "C:/Users/wvangerwen/Github/hhnk-threedi-tools/hhnk_threedi_tools/tests/data/multiple_polders\\egmond_wo_ju\\03_3di_resultaten\\batch_results not created, parent doesnt exist.\n",
      "C:/Users/wvangerwen/Github/hhnk-threedi-tools/hhnk_threedi_tools/tests/data/multiple_polders\\egmond_wo_jun\\03_3di_resultaten\\batch_results not created, parent doesnt exist.\n",
      "C:/Users/wvangerwen/Github/hhnk-threedi-tools/hhnk_threedi_tools/tests/data/multiple_polders\\egmond_wo_juni\\03_3di_resultaten\\batch_results not created, parent doesnt exist.\n",
      "C:/Users/wvangerwen/Github/hhnk-threedi-tools/hhnk_threedi_tools/tests/data/multiple_polders\\egmond_wo_juni2\\03_3di_resultaten\\batch_results not created, parent doesnt exist.\n",
      "C:/Users/wvangerwen/Github/hhnk-threedi-tools/hhnk_threedi_tools/tests/data/multiple_polders\\egmond_wo_juni20\\03_3di_resultaten\\batch_results not created, parent doesnt exist.\n",
      "C:/Users/wvangerwen/Github/hhnk-threedi-tools/hhnk_threedi_tools/tests/data/multiple_polders\\egmond_wo_juni202\\03_3di_resultaten\\batch_results not created, parent doesnt exist.\n",
      "C:/Users/wvangerwen/Github/hhnk-threedi-tools/hhnk_threedi_tools/tests/data/multiple_polders\\egmond_wo_juni2021\\03_3di_resultaten\\batch_results not created, parent doesnt exist.\n",
      "Batch calculation started for egmond_wo_juni2021:\n",
      "Checking if a scenario with the following name already exists: egmond_wo_juni2021 #4 GLG piek T10 (1) sc3\n",
      "++ Creating simulation: egmond_wo_juni2021 #4 GLG piek T10 (1) sc3\n",
      "Created simulation with id: 43750\n",
      "Checking if a scenario with the following name already exists: egmond_wo_juni2021 #4 GLG piek T100 (2) sc3\n",
      "++ Creating simulation: egmond_wo_juni2021 #4 GLG piek T100 (2) sc3\n",
      "Created simulation with id: 43751\n",
      "Checking if a scenario with the following name already exists: egmond_wo_juni2021 #4 GLG piek T1000 (3) sc3\n",
      "++ Creating simulation: egmond_wo_juni2021 #4 GLG piek T1000 (3) sc3\n",
      "Created simulation with id: 43752\n",
      "Checking if a scenario with the following name already exists: egmond_wo_juni2021 #4 GGG piek T10 (4) sc3\n",
      "++ Creating simulation: egmond_wo_juni2021 #4 GGG piek T10 (4) sc3\n",
      "Created simulation with id: 43753\n",
      "Checking if a scenario with the following name already exists: egmond_wo_juni2021 #4 GGG piek T100 (5) sc3\n",
      "++ Creating simulation: egmond_wo_juni2021 #4 GGG piek T100 (5) sc3\n",
      "Created simulation with id: 43754\n",
      "Checking if a scenario with the following name already exists: egmond_wo_juni2021 #4 GGG piek T1000 (6) sc3\n",
      "++ Creating simulation: egmond_wo_juni2021 #4 GGG piek T1000 (6) sc3\n",
      "Created simulation with id: 43755\n",
      "Checking if a scenario with the following name already exists: egmond_wo_juni2021 #4 GHG piek T10 (7) sc3\n",
      "++ Creating simulation: egmond_wo_juni2021 #4 GHG piek T10 (7) sc3\n",
      "Created simulation with id: 43756\n",
      "Checking if a scenario with the following name already exists: egmond_wo_juni2021 #4 GHG piek T100 (8) sc3\n",
      "++ Creating simulation: egmond_wo_juni2021 #4 GHG piek T100 (8) sc3\n",
      "Created simulation with id: 43757\n",
      "Checking if a scenario with the following name already exists: egmond_wo_juni2021 #4 GHG piek T1000 (9) sc3\n",
      "++ Creating simulation: egmond_wo_juni2021 #4 GHG piek T1000 (9) sc3\n",
      "Created simulation with id: 43758\n",
      "Checking if a scenario with the following name already exists: egmond_wo_juni2021 #4 GLG blok T10 (10) sc3\n",
      "++ Creating simulation: egmond_wo_juni2021 #4 GLG blok T10 (10) sc3\n",
      "Created simulation with id: 43759\n",
      "Checking if a scenario with the following name already exists: egmond_wo_juni2021 #4 GLG blok T100 (11) sc3\n",
      "++ Creating simulation: egmond_wo_juni2021 #4 GLG blok T100 (11) sc3\n",
      "Created simulation with id: 43760\n",
      "Checking if a scenario with the following name already exists: egmond_wo_juni2021 #4 GLG blok T1000 (12) sc3\n",
      "++ Creating simulation: egmond_wo_juni2021 #4 GLG blok T1000 (12) sc3\n",
      "Created simulation with id: 43761\n",
      "Checking if a scenario with the following name already exists: egmond_wo_juni2021 #4 GGG blok T10 (13) sc3\n",
      "++ Creating simulation: egmond_wo_juni2021 #4 GGG blok T10 (13) sc3\n",
      "Created simulation with id: 43762\n",
      "Checking if a scenario with the following name already exists: egmond_wo_juni2021 #4 GGG blok T100 (14) sc3\n",
      "++ Creating simulation: egmond_wo_juni2021 #4 GGG blok T100 (14) sc3\n",
      "Created simulation with id: 43763\n",
      "Checking if a scenario with the following name already exists: egmond_wo_juni2021 #4 GGG blok T1000 (15) sc3\n",
      "++ Creating simulation: egmond_wo_juni2021 #4 GGG blok T1000 (15) sc3\n",
      "Created simulation with id: 43764\n"
     ]
    }
   ],
   "source": [
    "# imports\n",
    "import importlib\n",
    "import sys\n",
    "\n",
    "#sys.path.append(\"C:/Users/chris.kerklaan/Downloads/wetransfer_functions-7z_2021-09-20_1112\")\n",
    "# sys.path.append('C:/Users/chris.kerklaan/Documents/Github/hhnk-threedi-tools')\n",
    "sys.path.append('C:\\\\Users\\wvangerwen\\github\\hhnk-threedi-tools')\n",
    "\n",
    "# ipython imports\n",
    "import ipywidgets as widgets\n",
    "from IPython.core.display import display, HTML; display(HTML(\"<style>.container {width:90% !important;}</style>\"))\n",
    "%matplotlib inline\n",
    "# !jupyter nbextension enable --py --sys-prefix widgetsnbextension\n",
    "\n",
    "# local imports\n",
    "from hhnk_threedi_tools.core.api.calculation_gui import start_calculation_gui\n",
    "\n",
    "polders_folder = \"C:/Users/chris.kerklaan/Documents/Github/hhnk-threedi-tools/hhnk_threedi_tools/tests/data/multiple_polders\"\n",
    "polders_folder = \"C:/Users/wvangerwen/Github/hhnk-threedi-tools/hhnk_threedi_tools/tests/data/multiple_polders\"\n",
    "from hhnk_threedi_tools.variables.localsettings import LIZARD_API_KEY\n",
    "\n",
    "# start gui\n",
    "start_calculation_tab = start_calculation_gui(polders_folder, base_scenario_name='', lizard_api_key=LIZARD_API_KEY); start_calculation_tab"
   ]
  },
  {
   "cell_type": "code",
   "execution_count": 3,
   "metadata": {
    "ExecuteTime": {
     "end_time": "2021-10-12T12:13:24.229214Z",
     "start_time": "2021-10-12T12:13:21.843554Z"
    },
    "scrolled": false
   },
   "outputs": [
    {
     "data": {
      "application/vnd.jupyter.widget-view+json": {
       "model_id": "4d628314943f4e4384befcd6d1401856",
       "version_major": 2,
       "version_minor": 0
      },
      "text/plain": [
       "Tab(children=(GridBox(children=(HTML(value='<b>1. Login with 3Di account</b>', layout=Layout(grid_area='login_…"
      ]
     },
     "metadata": {},
     "output_type": "display_data"
    }
   ],
   "source": []
  },
  {
   "cell_type": "code",
   "execution_count": null,
   "metadata": {},
   "outputs": [],
   "source": []
  },
  {
   "cell_type": "code",
   "execution_count": null,
   "metadata": {
    "ExecuteTime": {
     "end_time": "2021-09-09T15:11:21.766689Z",
     "start_time": "2021-09-09T15:11:21.751022Z"
    }
   },
   "outputs": [],
   "source": []
  },
  {
   "cell_type": "code",
   "execution_count": null,
   "metadata": {},
   "outputs": [],
   "source": []
  },
  {
   "cell_type": "code",
   "execution_count": null,
   "metadata": {},
   "outputs": [],
   "source": []
  },
  {
   "cell_type": "code",
   "execution_count": null,
   "metadata": {},
   "outputs": [],
   "source": []
  },
  {
   "cell_type": "code",
   "execution_count": null,
   "metadata": {},
   "outputs": [],
   "source": []
  },
  {
   "cell_type": "code",
   "execution_count": null,
   "metadata": {
    "ExecuteTime": {
     "start_time": "2021-08-09T07:36:43.058Z"
    }
   },
   "outputs": [],
   "source": []
  },
  {
   "cell_type": "code",
   "execution_count": null,
   "metadata": {
    "ExecuteTime": {
     "end_time": "2021-08-05T12:52:52.061820Z",
     "start_time": "2021-08-05T12:52:51.863080Z"
    }
   },
   "outputs": [],
   "source": []
  },
  {
   "cell_type": "code",
   "execution_count": null,
   "metadata": {
    "ExecuteTime": {
     "end_time": "2021-08-05T11:42:17.664264Z",
     "start_time": "2021-08-05T11:42:17.504049Z"
    }
   },
   "outputs": [],
   "source": []
  },
  {
   "cell_type": "code",
   "execution_count": null,
   "metadata": {
    "ExecuteTime": {
     "end_time": "2021-08-05T11:26:43.112146Z",
     "start_time": "2021-08-05T11:26:42.860728Z"
    }
   },
   "outputs": [],
   "source": []
  },
  {
   "cell_type": "code",
   "execution_count": null,
   "metadata": {
    "ExecuteTime": {
     "end_time": "2021-08-05T12:06:06.686969Z",
     "start_time": "2021-08-05T12:06:05.499625Z"
    }
   },
   "outputs": [],
   "source": []
  },
  {
   "cell_type": "code",
   "execution_count": null,
   "metadata": {
    "ExecuteTime": {
     "end_time": "2021-07-07T11:36:59.918378Z",
     "start_time": "2021-07-07T11:36:59.787326Z"
    },
    "scrolled": true
   },
   "outputs": [],
   "source": []
  },
  {
   "cell_type": "code",
   "execution_count": null,
   "metadata": {
    "ExecuteTime": {
     "end_time": "2021-07-06T14:14:22.780065Z",
     "start_time": "2021-07-06T14:11:30.115Z"
    }
   },
   "outputs": [],
   "source": []
  }
 ],
 "metadata": {
  "interpreter": {
   "hash": "eea3b0fa5359ec1c5e7f02969caa90c878a261929c8203f99e9ee0f1d9a24aeb"
  },
  "kernelspec": {
   "display_name": "Python 3 (ipykernel)",
   "language": "python",
   "name": "python3"
  },
  "language_info": {
   "codemirror_mode": {
    "name": "ipython",
    "version": 3
   },
   "file_extension": ".py",
   "mimetype": "text/x-python",
   "name": "python",
   "nbconvert_exporter": "python",
   "pygments_lexer": "ipython3",
   "version": "3.7.10"
  }
 },
 "nbformat": 4,
 "nbformat_minor": 4
}
