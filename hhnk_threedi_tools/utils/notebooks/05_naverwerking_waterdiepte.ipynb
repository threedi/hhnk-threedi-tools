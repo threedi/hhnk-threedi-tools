{
 "cells": [
  {
   "cell_type": "markdown",
   "id": "a3ececb5",
   "metadata": {},
   "source": [
    "# Naverwerking waterdiepte\n",
    "\n",
    "De waterdiepte kaarten worden geinterpoleerd tussen verschillende waterstand punten. Bij HHNK worden echter watervlakken opgehoogd in het 2D om te voorkomen dat er dubbele berging ontstaat. Als dit vlak binnen een rekencel valt kan het zijn dat er water op dit vlak komt te staan. Dit willen we niet.\n",
    "\n",
    "Met dit script wordt de netcdf geinterpoleerd met de waterstanden om de watergang heen. Ook kan hier een waterdiepte kaart worden uitgedraaid."
   ]
  },
  {
   "cell_type": "code",
   "execution_count": 2,
   "id": "091d3215",
   "metadata": {},
   "outputs": [],
   "source": [
    "import threedi_raster_edits as tre\n",
    "from hhnk_threedi_tools.core.climate_scenarios.interpolate_threedi_results import edit_nodes_in_grid, calculate_depth"
   ]
  },
  {
   "cell_type": "code",
   "execution_count": null,
   "id": "0fc0e6a4",
   "metadata": {},
   "outputs": [],
   "source": [
    "folder_path = r\"C:\\Users\\chris.kerklaan\\Documents\\Projecten\\hhnk_detachering\\hhnk_scripting\\bwn_beemster\"  \n",
    "dem_path = r\"C:\\Users\\chris.kerklaan\\Documents\\Projecten\\hhnk_detachering\\hhnk_scripting\\bwn_beemster\\02_Model\\rasters/dem_beemster.tif\"\n",
    "threedi_results_folder = rf\"C:\\Users\\chris.kerklaan\\Documents\\Projecten\\hhnk_detachering\\hhnk_scripting\\bwn_beemster\\03_3di_resultaten/1d2d_results/nieuw\"\n",
    "output_folder = rf\"C:\\Users\\chris.kerklaan\\Documents\\Projecten\\hhnk_detachering\\hhnk_scripting\\bwn_beemster\\03_3di_resultaten/1d2d_results/interpolated\"\n",
    "damo_path = r\"C:\\Users\\chris.kerklaan\\Documents\\Projecten\\hhnk_detachering\\hhnk_scripting\\bwn_beemster\\01_Source_data/damo.gdb\"\n",
    "\n",
    "damo = tre.VectorGroup(damo_path)\n",
    "waterdeel  = damo['waterdeel']\n",
    "panden = waterdeel.copy()\n",
    "#panden = tre.Vector(panden_path)\n",
    "calculation_steps = [-1]\n",
    "dem_height=10"
   ]
  },
  {
   "cell_type": "code",
   "execution_count": null,
   "id": "414ca2f8",
   "metadata": {},
   "outputs": [],
   "source": [
    "# Edit al nodes in grid.\n",
    "levels = edit_nodes_in_grid(\n",
    "                    waterdeel,\n",
    "                    panden,\n",
    "                    threedi_results_folder,\n",
    "                    str(output_folder),\n",
    "                    calculation_steps,\n",
    "                    dem_height,\n",
    "                )\n",
    "\n",
    "# Calculate waterdepth.\n",
    "if os.path.exists(output_folder):\n",
    "    calculate_depth(\n",
    "        str(output_folder),\n",
    "        dem_path,\n",
    "        str(output_folder),\n",
    "        calculation_steps,\n",
    "    )"
   ]
  },
  {
   "cell_type": "code",
   "execution_count": null,
   "id": "093f419d",
   "metadata": {},
   "outputs": [],
   "source": []
  }
 ],
 "metadata": {
  "kernelspec": {
   "display_name": "Python 3 (ipykernel)",
   "language": "python",
   "name": "python3"
  },
  "language_info": {
   "codemirror_mode": {
    "name": "ipython",
    "version": 3
   },
   "file_extension": ".py",
   "mimetype": "text/x-python",
   "name": "python",
   "nbconvert_exporter": "python",
   "pygments_lexer": "ipython3",
   "version": "3.9.10"
  }
 },
 "nbformat": 4,
 "nbformat_minor": 5
}
