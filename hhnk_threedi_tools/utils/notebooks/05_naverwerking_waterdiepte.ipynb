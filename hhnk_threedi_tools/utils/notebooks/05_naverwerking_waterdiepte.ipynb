{
 "cells": [
  {
   "cell_type": "markdown",
   "id": "a3ececb5",
   "metadata": {},
   "source": [
    "# Naverwerking waterdiepte\n",
    "\n",
    "De waterdiepte kaarten worden geinterpoleerd tussen verschillende waterstand punten. Bij HHNK worden echter watervlakken opgehoogd in het 2D om te voorkomen dat er dubbele berging ontstaat. Als dit vlak binnen een rekencel valt kan het zijn dat er water op dit vlak komt te staan. Dit willen we niet.\n",
    "\n",
    "Er zijn hiervoor 2 opties gecreeërd:\n",
    "1. Vervang het betreffende punt door omliggende punten.\n",
    "2. interpoleer de omliggende punten. \n"
   ]
  },
  {
   "cell_type": "code",
   "execution_count": 1,
   "id": "c47088f2",
   "metadata": {},
   "outputs": [],
   "source": [
    "import sys\n",
    "del sys.path[0]\n",
    "del sys.path[0]\n",
    "sys.path.append(r\"C:\\Users\\chris.kerklaan\\Documents\\Github\\hhnk-research-tools\")\n",
    "sys.path.append(r\"C:\\Users\\chris.kerklaan\\Documents\\Github\\hhnk-threedi-tools\")"
   ]
  },
  {
   "cell_type": "code",
   "execution_count": 2,
   "id": "091d3215",
   "metadata": {},
   "outputs": [],
   "source": [
    "import xarray # extra dependency\n",
    "# local imports\n",
    "from hhnk_threedi_tools.core.climate_scenarios.interpolate_threedi_results import edit_nodes_in_grid\n",
    "\n"
   ]
  },
  {
   "cell_type": "code",
   "execution_count": null,
   "id": "0fc0e6a4",
   "metadata": {},
   "outputs": [],
   "source": []
  },
  {
   "cell_type": "code",
   "execution_count": null,
   "id": "69c15cfc",
   "metadata": {},
   "outputs": [],
   "source": [
    "# variables\n",
    "folder_path = r\"C:\\Users\\chris.kerklaan\\Documents\\Projecten\\hhnk_detachering\\hhnk_scripting\\bwn_beemster\"  \n",
    "old_scenario = \"nieuw\"\n",
    "nieuw_scenario = \"interpolated\"\n",
    "threedi_results_folder = rf\"C:\\Users\\chris.kerklaan\\Documents\\Projecten\\hhnk_detachering\\hhnk_scripting\\bwn_beemster\\03_3di_resultaten/1d2d_results/{nieuw_scenario}\"\n",
    "waterdeel = tre.Vector(waterdeel_path)\n",
    "panden = tre.Vector(panden_path)\n",
    "calculation_steps = [-1]\n",
    "dem_height=10\n",
    "\n",
    "\n"
   ]
  },
  {
   "cell_type": "code",
   "execution_count": null,
   "id": "414ca2f8",
   "metadata": {},
   "outputs": [],
   "source": [
    "\n",
    "\n",
    "levels = edit_nodes_in_grid(\n",
    "                    waterdeel,\n",
    "                    panden,\n",
    "                    threedi_results_folder,\n",
    "                    str(output_folder),\n",
    "                    calculation_steps,\n",
    "                    dem_height,\n",
    "                )\n",
    "\n",
    "            if os.path.exists(interpolated_results):\n",
    "                calculate_depth(\n",
    "                    str(interpolated_folder),\n",
    "                    dem_path,\n",
    "                    str(output_folder),\n",
    "                    calculation_steps,\n",
    "                )"
   ]
  },
  {
   "cell_type": "code",
   "execution_count": null,
   "id": "093f419d",
   "metadata": {},
   "outputs": [],
   "source": [
    "# Recalculate the associated depth with:\n",
    "timestep = 576\n",
    "calculate_depth(folder_path, \"1d2d_results\", nieuw_scenario, 576)"
   ]
  }
 ],
 "metadata": {
  "kernelspec": {
   "display_name": "Python 3 (ipykernel)",
   "language": "python",
   "name": "python3"
  },
  "language_info": {
   "codemirror_mode": {
    "name": "ipython",
    "version": 3
   },
   "file_extension": ".py",
   "mimetype": "text/x-python",
   "name": "python",
   "nbconvert_exporter": "python",
   "pygments_lexer": "ipython3",
   "version": "3.9.10"
  }
 },
 "nbformat": 4,
 "nbformat_minor": 5
}
