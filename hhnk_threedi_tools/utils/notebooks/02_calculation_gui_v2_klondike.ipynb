{
 "cells": [
  {
   "cell_type": "markdown",
   "metadata": {
    "ExecuteTime": {
     "end_time": "2021-09-09T15:04:32.766713Z",
     "start_time": "2021-09-09T15:04:32.628077Z"
    }
   },
   "source": [
    "# Steps:\n",
    "1. Laadt imports\n",
    "2. Vul variabelen in\n",
    "3. Draai start_calculation tab\n"
   ]
  },
  {
   "cell_type": "code",
   "execution_count": 5,
   "metadata": {
    "ExecuteTime": {
     "end_time": "2021-10-15T22:52:50.428346Z",
     "start_time": "2021-10-15T22:52:46.818054Z"
    },
    "scrolled": false
   },
   "outputs": [
    {
     "data": {
      "text/html": [
       "<style>.container {width:90% !important;}</style>"
      ],
      "text/plain": [
       "<IPython.core.display.HTML object>"
      ]
     },
     "metadata": {},
     "output_type": "display_data"
    },
    {
     "name": "stderr",
     "output_type": "stream",
     "text": [
      "Enabling notebook extension jupyter-js-widgets/extension...\n",
      "      - Validating: ok\n",
      "C:\\Users\\chris.kerklaan\\Anaconda3\\envs\\hhnk\\lib\\site-packages\\openapi_client\\__init__.py:22: UserWarning: openapi_client is pending deprecation. Please use the new threedi_api_client.ThreediApi and the models in threedi_api_client.openapi.\n",
      "  warnings.warn(\n"
     ]
    },
    {
     "data": {
      "application/vnd.jupyter.widget-view+json": {
       "model_id": "c21a2d379ace47879292d66e6e7b6d58",
       "version_major": 2,
       "version_minor": 0
      },
      "text/plain": [
       "Tab(children=(GridBox(children=(HTML(value='<b>1. Login with 3Di account</b>', layout=Layout(grid_area='login_…"
      ]
     },
     "metadata": {},
     "output_type": "display_data"
    }
   ],
   "source": [
    "# imports\n",
    "import importlib\n",
    "import sys\n",
    "import os\n",
    "import json\n",
    "\n",
    "# ipython imports\n",
    "import ipywidgets as widgets\n",
    "from IPython.core.display import display, HTML\n",
    "\n",
    "display(HTML(\"<style>.container {width:90% !important;}</style>\"))\n",
    "%matplotlib inline\n",
    "!jupyter nbextension enable --py --sys-prefix widgetsnbextension\n",
    "\n",
    "with open(os.getcwd() + \"/notebook_data.json\") as f:\n",
    "    notebook_data = json.load(f)\n",
    "\n",
    "from hhnk_threedi_tools.core.api.calculation_gui_klondike import start_calculation_gui\n",
    "\n",
    "\n",
    "start_calculation_tab = start_calculation_gui(data=notebook_data)\n",
    "start_calculation_tab"
   ]
  },
  {
   "cell_type": "code",
   "execution_count": 1,
   "metadata": {},
   "outputs": [],
   "source": []
  },
  {
   "cell_type": "code",
   "execution_count": 3,
   "metadata": {
    "ExecuteTime": {
     "end_time": "2021-10-12T12:13:24.229214Z",
     "start_time": "2021-10-12T12:13:21.843554Z"
    },
    "scrolled": false
   },
   "outputs": [],
   "source": []
  },
  {
   "cell_type": "code",
   "execution_count": 4,
   "metadata": {},
   "outputs": [
    {
     "data": {
      "text/plain": [
       "['C:\\\\Users\\\\chris.kerklaan\\\\Documents\\\\Github\\\\hhnk-threedi-tools\\\\hhnk_threedi_tools\\\\utils\\\\notebooks',\n",
       " 'C:\\\\Users\\\\chris.kerklaan\\\\Anaconda3\\\\envs\\\\hhnk\\\\python39.zip',\n",
       " 'C:\\\\Users\\\\chris.kerklaan\\\\Anaconda3\\\\envs\\\\hhnk\\\\DLLs',\n",
       " 'C:\\\\Users\\\\chris.kerklaan\\\\Anaconda3\\\\envs\\\\hhnk\\\\lib',\n",
       " 'C:\\\\Users\\\\chris.kerklaan\\\\Anaconda3\\\\envs\\\\hhnk',\n",
       " '',\n",
       " 'C:\\\\Users\\\\chris.kerklaan\\\\Anaconda3\\\\envs\\\\hhnk\\\\lib\\\\site-packages',\n",
       " 'C:\\\\Users\\\\chris.kerklaan\\\\Anaconda3\\\\envs\\\\hhnk\\\\lib\\\\site-packages\\\\win32',\n",
       " 'C:\\\\Users\\\\chris.kerklaan\\\\Anaconda3\\\\envs\\\\hhnk\\\\lib\\\\site-packages\\\\win32\\\\lib',\n",
       " 'C:\\\\Users\\\\chris.kerklaan\\\\Anaconda3\\\\envs\\\\hhnk\\\\lib\\\\site-packages\\\\Pythonwin',\n",
       " 'C:\\\\Users\\\\chris.kerklaan\\\\Anaconda3\\\\envs\\\\hhnk\\\\lib\\\\site-packages\\\\IPython\\\\extensions',\n",
       " 'C:\\\\Users\\\\chris.kerklaan\\\\.ipython',\n",
       " 'C:\\\\Users\\\\chris.kerklaan\\\\Documents\\\\Github\\\\hhnk-threedi-tools']"
      ]
     },
     "execution_count": 4,
     "metadata": {},
     "output_type": "execute_result"
    }
   ],
   "source": []
  }
 ],
 "metadata": {
  "interpreter": {
   "hash": "eea3b0fa5359ec1c5e7f02969caa90c878a261929c8203f99e9ee0f1d9a24aeb"
  },
  "kernelspec": {
   "display_name": "Python 3 (ipykernel)",
   "language": "python",
   "name": "python3"
  },
  "language_info": {
   "codemirror_mode": {
    "name": "ipython",
    "version": 3
   },
   "file_extension": ".py",
   "mimetype": "text/x-python",
   "name": "python",
   "nbconvert_exporter": "python",
   "pygments_lexer": "ipython3",
   "version": "3.9.10"
  }
 },
 "nbformat": 4,
 "nbformat_minor": 4
}
