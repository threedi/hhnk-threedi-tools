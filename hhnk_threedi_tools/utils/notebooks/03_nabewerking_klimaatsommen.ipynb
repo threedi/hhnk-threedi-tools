{
 "cells": [
  {
   "attachments": {},
   "cell_type": "markdown",
   "id": "c1107963",
   "metadata": {},
   "source": [
    "# Nabewerking Klimaatsommen\n",
    "\n",
    "### Draai eerst 03_nabewerking_klimaatsommen_prep.ipynb\n",
    "\n",
    "Zorg dat in de poldermap onder 01. DAMO en HDB een mapje staat met de naam 'peilgebieden'.\n",
    "In dit mapje mapje moet de shape van de peilgebieden. Deze shape moet 'peilgebieden_Polderclusternaam.shp' heten,\n",
    "dus bijvoorbeeld 'peilgebieden_Eijerland.shp'. In de kolom 'name' moet de naam van de polder staan.\n",
    "Dit laatste is van belang wanneer meerdere polders in één poldercluster gezamelijk zijn doorgerekend.\n",
    "Maak een kopie van je datachecker output: fixeddrainagelevelarea. Dat werkt.\n"
   ]
  },
  {
   "cell_type": "code",
   "execution_count": null,
   "id": "166eb613",
   "metadata": {},
   "outputs": [],
   "source": [
    "from notebook_setup import setup_notebook\n",
    "notebook_data = setup_notebook()\n",
    "\n",
    "import os\n",
    "import geopandas as gpd\n",
    "import pandas as pd\n",
    "import matplotlib.pyplot as plt\n",
    "import numpy as np\n",
    "from pathlib import Path\n",
    "import sys\n",
    "import importlib.resources as pkg_resources  # Load resource from package\n",
    "import ipywidgets as widgets\n",
    "\n",
    "from hhnk_threedi_tools import Folders\n",
    "import hhnk_threedi_tools as htt\n",
    "import hhnk_research_tools as hrt\n",
    "\n",
    "# import hhnk_threedi_tools.core.climate_scenarios as hrt_climate\n",
    "import hhnk_threedi_tools.core.climate_scenarios.maskerkaart as maskerkaart\n",
    "import hhnk_threedi_tools.core.climate_scenarios.ruimtekaart as ruimtekaart\n",
    "from hhnk_threedi_tools.core.climate_scenarios.interpolate_rasters import (\n",
    "    main_interpolate_rasters,\n",
    ")\n",
    "import hhnk_threedi_tools.core.climate_scenarios.schadekaart as schadekaart\n",
    "import hhnk_threedi_tools.core.climate_scenarios.peilgebieden as peilgebieden\n",
    "from hhnk_threedi_tools.core.climate_scenarios.schadekaart_peilgebieden import maak_schade_polygon\n",
    "from hhnk_threedi_tools.core.climate_scenarios.maskerkaart_raster import rasterize_maskerkaart\n",
    "from hhnk_threedi_tools.core.climate_scenarios.klimaatsommen_prep import KlimaatsommenPrep\n",
    "\n",
    "# Folders inladen\n",
    "folder = Folders(notebook_data['polder_folder'])\n",
    "\n",
    "# Of handmatig;\n",
    "# folder=Folders(r\"E:\\02.modellen\\model_test_v2\")\n"
   ]
  },
  {
   "attachments": {},
   "cell_type": "markdown",
   "id": "8ec3f357",
   "metadata": {},
   "source": [
    "## Selectie neerslagzone en dem"
   ]
  },
  {
   "cell_type": "code",
   "execution_count": null,
   "id": "ee884ade",
   "metadata": {},
   "outputs": [],
   "source": [
    "def item_layout(width=\"95%\", grid_area=\"\", **kwargs):\n",
    "    return widgets.Layout(\n",
    "        width=width, grid_area=grid_area, **kwargs\n",
    "    )  # override the default width of the button to 'auto' to let the button grow\n",
    "\n",
    "\n",
    "output_folder_options = [\"\"] + folder.threedi_results.batch.content\n",
    "\n",
    "# output_folder_label = widgets.Label('Selecteer output folder:', layout=item_layout(grid_area='output_folder_label'))\n",
    "output_folder_box = widgets.Select(\n",
    "    options=output_folder_options,\n",
    "    rows=len(output_folder_options),\n",
    "    disabled=False,\n",
    "    layout=item_layout(grid_area=\"output_folder_box\"),\n",
    ")\n",
    "\n",
    "\n",
    "# Set dem path\n",
    "folder.model.set_modelsplitter_paths()\n",
    "dem = hrt.Raster(folder.model.schema_1d2d_ggg.rasters.dem.path)\n",
    "\n",
    "# Set Dem path if its not found\n",
    "# dem_path_dropdown = widgets.Dropdown(\n",
    "#     options=\"\",\n",
    "#     disabled=False,\n",
    "#     layout=item_layout(grid_area=\"dem_path_dropdown\"),\n",
    "# )\n",
    "\n",
    "\n",
    "# if folder.model.schema_base.rasters.find_dem() == \"\":\n",
    "#     dem_path_dropdown.options = [\n",
    "#         i.split(os.sep)[-1] for i in folder.model.schema_base.rasters.find_ext(\"tif\")\n",
    "#     ]\n",
    "# else:\n",
    "#     dem_path_dropdown.options = [folder.model.schema_base.rasters.dem.name]\n",
    "# # Batch folder selection\n",
    "\n",
    "\n",
    "# Display precipitation zones\n",
    "polder_shape = gpd.read_file(folder.source_data.polder_polygon.path)\n",
    "with pkg_resources.path(htt.resources, \"precipitation_zones_hhnk.tif\") as p:\n",
    "    precip_zones_raster = hrt.Raster(p.absolute().as_posix())\n",
    "    neerslag_array = precip_zones_raster.get_array(band_count=3)\n",
    "\n",
    "with pkg_resources.path(htt.resources, \"precipitation_frequency.xlsx\") as p:\n",
    "    freqs = pd.read_excel(p.absolute().as_posix(), engine=\"openpyxl\")\n",
    "\n",
    "fig, ax = plt.subplots(figsize=(8, 8))\n",
    "ax.imshow(neerslag_array, extent=precip_zones_raster.metadata.bounds)\n",
    "polder_shape.plot(ax=ax, color='red')\n",
    "\n",
    "\n",
    "precipitation_zone_box = widgets.Select(\n",
    "    options=[\"hevig\", \"debilt\"],\n",
    "    rows=2,\n",
    "    disabled=False,\n",
    "    value=None,\n",
    "    layout=item_layout(grid_area=\"precipitation_zone_box\"),\n",
    ")\n",
    "\n",
    "print(\"Selecteer map met batch resultaten\")\n",
    "display(output_folder_box)\n",
    "\n",
    "print(\"Selecteer neerslagzone\")\n",
    "display(precipitation_zone_box)\n",
    "print(\"Geselecteerd DEM bestand\")\n",
    "print(dem)\n",
    "# display(dem_path_dropdown)"
   ]
  },
  {
   "attachments": {},
   "cell_type": "markdown",
   "id": "8793cbcd",
   "metadata": {},
   "source": [
    "## Lokaliseren polder folder"
   ]
  },
  {
   "cell_type": "code",
   "execution_count": null,
   "id": "89ffcd4c",
   "metadata": {},
   "outputs": [],
   "source": [
    "if output_folder_box.value == \"\":\n",
    "    raise Exception(\"Select batch folder\")\n",
    "\n",
    "batch_fd = folder.threedi_results.batch[output_folder_box.value]\n",
    "\n",
    "\n",
    "if dem.metadata.pixel_width != 0.5:\n",
    "    new_dem_path = batch_fd.downloads.pl/f\"{dem.pl.stem}_05m.tif\"\n",
    "    dem = hrt.Raster(new_dem_path)\n",
    "\n",
    "\n",
    "df = pd.DataFrame(batch_fd.downloads.names, columns=[\"dl_name\"])\n",
    "for dl_name in batch_fd.downloads.names:\n",
    "    df.loc[df[\"dl_name\"] == dl_name, \"depth_max\"] = getattr(\n",
    "        batch_fd.downloads, dl_name\n",
    "    ).depth_max.path\n",
    "    df.loc[df[\"dl_name\"] == dl_name, \"damage_total\"] = getattr(\n",
    "        batch_fd.downloads, dl_name\n",
    "    ).damage_total.path\n",
    "\n",
    "\n",
    "## %%\n",
    "\n",
    "freqs = freqs[[\"dl_name\", \"freq_{}_jaar\".format(precipitation_zone_box.value)]]\n",
    "freqs.rename(\n",
    "    {\"freq_{}_jaar\".format(precipitation_zone_box.value): \"freq_jaar\"},\n",
    "    axis=1,\n",
    "    inplace=True,\n",
    ")\n",
    "\n",
    "df_freqs = df.merge(freqs, on=\"dl_name\")\n",
    "\n",
    "## %% Aanmaken of laden peilgebieden polygon\n",
    "if not folder.source_data.peilgebieden.peilgebieden.exists:\n",
    "    fixeddrainage = folder.source_data.datachecker.load(\"fixeddrainagelevelarea\")\n",
    "    fixeddrainage.to_file(folder.source_data.peilgebieden.peilgebieden.path)\n",
    "    print(\n",
    "        f\"Peilgebieden shapefile aangemaakt: {folder.source_data.peilgebieden.peilgebieden.name}.shp\"\n",
    "    )\n",
    "else:\n",
    "    print(\n",
    "        f\"Peilgebieden shapefile gevonden: {folder.source_data.peilgebieden.peilgebieden.name}.shp\"\n",
    "    )"
   ]
  },
  {
   "attachments": {},
   "cell_type": "markdown",
   "id": "27929cd1",
   "metadata": {},
   "source": [
    "## Input klaarzetten"
   ]
  },
  {
   "cell_type": "code",
   "execution_count": null,
   "id": "c5740d69",
   "metadata": {},
   "outputs": [],
   "source": [
    "klimaatsommenrep = KlimaatsommenPrep(folder=folder,\n",
    "    batch_name=batch_fd.name,\n",
    "    cfg_file = 'cfg_lizard.cfg',\n",
    "    landuse_file = r\"\\\\corp.hhnk.nl\\data\\Hydrologen_data\\Data\\01.basisgegevens\\rasters\\landgebruik\\landuse2019_tiles\\combined_rasters.vrt\",\n",
    "    verify=True\n",
    ")\n",
    "\n",
    "klimaatsommenrep.run(gridgpkg=True, \n",
    "                    depth=True, \n",
    "                    dmg=True, \n",
    "                    wlvl=False, \n",
    "                    overwrite=False)"
   ]
  },
  {
   "attachments": {},
   "cell_type": "markdown",
   "id": "08fb3fe5",
   "metadata": {},
   "source": [
    "## Maskerkaart aanmaken"
   ]
  },
  {
   "cell_type": "code",
   "execution_count": null,
   "id": "5d50654c",
   "metadata": {},
   "outputs": [],
   "source": [
    "# Aanmaken polygon van maskerkaart\n",
    "maskerkaart.command(\n",
    "    path_piek=batch_fd.downloads.piek_ghg_T1000.netcdf.path,\n",
    "    path_blok=batch_fd.downloads.blok_ghg_T1000.netcdf.path,\n",
    "    path_out=batch_fd.output.maskerkaart.path,\n",
    ")\n",
    "\n",
    "# Omzetten polygon in raster voor diepteraster\n",
    "mask_depth = rasterize_maskerkaart(\n",
    "    input_file=batch_fd.output.maskerkaart.path,\n",
    "    mask_plas_path=batch_fd.output.mask_diepte_plas.path,\n",
    "    mask_overlast_path=batch_fd.output.mask_diepte_overlast.path,\n",
    "    meta=hrt.Raster(batch_fd.downloads.piek_glg_T10.depth_max.path).metadata,\n",
    ")\n",
    "\n",
    "# Omzetten polygon in raster voor schaderaster (kan verschillen van diepte met andere resolutie)\n",
    "mask_damage = rasterize_maskerkaart(\n",
    "    input_file=batch_fd.output.maskerkaart.path,\n",
    "    mask_plas_path=batch_fd.output.mask_schade_plas.path,\n",
    "    mask_overlast_path=batch_fd.output.mask_schade_overlast.path,\n",
    "    meta=hrt.Raster(batch_fd.downloads.piek_glg_T10.damage_total.path).metadata,\n",
    ")"
   ]
  },
  {
   "attachments": {},
   "cell_type": "markdown",
   "id": "fcc377d3",
   "metadata": {},
   "source": [
    "## Peilgebieden rasterizeren"
   ]
  },
  {
   "cell_type": "code",
   "execution_count": null,
   "id": "10233872",
   "metadata": {},
   "outputs": [],
   "source": [
    "for raster_type, raster_name in zip(\n",
    "    [\"depth_max\", \"damage_total\"], [\"diepte\", \"schade\"]\n",
    "):\n",
    "    peilgebieden.rasterize_peilgebieden(\n",
    "        input_raster=hrt.Raster(df.iloc[0][raster_type]),\n",
    "        output_file=getattr(batch_fd.output.temp, f\"peilgebieden_{raster_name}\"),\n",
    "        input_peilgebieden=folder.source_data.peilgebieden.peilgebieden,\n",
    "        output_peilgebieden=batch_fd.output.temp.peilgebieden,\n",
    "        mask_path=batch_fd.output.maskerkaart.path,\n",
    "        overwrite=False,\n",
    "    )"
   ]
  },
  {
   "attachments": {},
   "cell_type": "markdown",
   "id": "08fb2264",
   "metadata": {},
   "source": [
    "## Ruimtekaart aanmaken"
   ]
  },
  {
   "cell_type": "code",
   "execution_count": null,
   "id": "745af41d",
   "metadata": {},
   "outputs": [],
   "source": [
    "if not batch_fd.output.ruimtekaart.exists:\n",
    "    # if True:\n",
    "    ruimtekaart.create_ruimtekaart(\n",
    "        pgb_path=batch_fd.output.temp.peilgebieden.path,\n",
    "        output_path=batch_fd.output.ruimtekaart.path,\n",
    "        batch_fd=batch_fd,\n",
    "    )\n",
    "    print(\"Ruimtekaart created\")"
   ]
  },
  {
   "attachments": {},
   "cell_type": "markdown",
   "id": "5758e58d",
   "metadata": {},
   "source": [
    "## Interpoleren van diepterasters"
   ]
  },
  {
   "cell_type": "code",
   "execution_count": null,
   "id": "8653177b",
   "metadata": {},
   "outputs": [],
   "source": [
    "diepte_rasters = df_freqs[\"depth_max\"].values\n",
    "frequenties = df_freqs[\"freq_jaar\"].values\n",
    "\n",
    "\n",
    "for T in [10, 100, 1000]:\n",
    "\n",
    "    output_file = getattr(batch_fd.output, f\"depth_T{T}_totaal\")\n",
    "\n",
    "    # Voor de gegeven herhalingstijd, interpoleer de rasters.\n",
    "    main_interpolate_rasters(\n",
    "        T=T,\n",
    "        output_file=output_file,\n",
    "        rasters=diepte_rasters,\n",
    "        frequenties=frequenties,\n",
    "        output_nodata=-9999.00,\n",
    "        dem_path=dem.source_path,\n",
    "        extra_nodata_value=0,\n",
    "    )"
   ]
  },
  {
   "attachments": {},
   "cell_type": "markdown",
   "id": "8d6a7565",
   "metadata": {},
   "source": [
    "#### Plas en overlast kaarten maken"
   ]
  },
  {
   "cell_type": "code",
   "execution_count": null,
   "id": "e3f786d0",
   "metadata": {},
   "outputs": [],
   "source": [
    "for T in [10, 100, 1000]:\n",
    "    input_raster = hrt.Raster(getattr(batch_fd.output, f\"depth_T{T}_totaal\").path)\n",
    "\n",
    "    # Creeer masker voor plas en overlast\n",
    "    for mask_type in [\"plas\", \"overlast\"]:\n",
    "        mask = hrt.Raster(getattr(batch_fd.output, f\"mask_diepte_{mask_type}\").path)\n",
    "\n",
    "        output_raster = getattr(batch_fd.output, f\"depth_T{T}_{mask_type}\")\n",
    "\n",
    "        if not output_raster.exists:\n",
    "            raster_array = input_raster._read_array()\n",
    "            mask_array = mask._read_array()\n",
    "\n",
    "            raster_array[~(mask_array == 1)] = input_raster.nodata  # Maskeer\n",
    "            hrt.save_raster_array_to_tiff(\n",
    "                output_file=output_raster.path,\n",
    "                raster_array=raster_array,\n",
    "                nodata=input_raster.nodata,\n",
    "                metadata=input_raster.metadata,\n",
    "            )\n",
    "            print(f\"{output_raster.name} created\")\n",
    "\n",
    "        else:\n",
    "            print(f\"{output_raster.name} already exists\")\n",
    "raster_array = None\n",
    "mask_array = None"
   ]
  },
  {
   "attachments": {},
   "cell_type": "markdown",
   "id": "c851d900",
   "metadata": {},
   "source": [
    "## Schadekaart maken"
   ]
  },
  {
   "cell_type": "code",
   "execution_count": null,
   "id": "0726bfe7",
   "metadata": {},
   "outputs": [],
   "source": [
    "dv = 0.04  # discontovoet [%]\n",
    "n = 50  # investeringstermijn [jaren]\n",
    "schade_rasters = df_freqs[\"damage_total\"].values\n",
    "frequencies = df_freqs[\"freq_jaar\"].values\n",
    "output_raster = batch_fd.output.cw_schade_totaal\n",
    "\n",
    "if not output_raster.exists:\n",
    "    schadekaart.main_maak_schadekaart(\n",
    "        output_raster=output_raster,\n",
    "        schade_rasters=schade_rasters,\n",
    "        frequencies=frequencies,\n",
    "        output_nodata=0,\n",
    "        dv=dv,\n",
    "        n=n,\n",
    "    )\n",
    "\n",
    "    print(f\"{output_raster.name} created\")\n",
    "else:\n",
    "    print(f\"{output_raster.name} already exists\")"
   ]
  },
  {
   "attachments": {},
   "cell_type": "markdown",
   "id": "3bd1283f",
   "metadata": {},
   "source": [
    "#### Maak masker voor plas en overlast"
   ]
  },
  {
   "cell_type": "code",
   "execution_count": null,
   "id": "fa43dee6",
   "metadata": {},
   "outputs": [],
   "source": [
    "input_raster = hrt.Raster(batch_fd.output.cw_schade_totaal.path)\n",
    "\n",
    "# Creeer masker voor plas en overlast\n",
    "for mask_type in [\"plas\", \"overlast\"]:\n",
    "    mask = hrt.Raster(getattr(batch_fd.output, f\"mask_schade_{mask_type}\").path)\n",
    "\n",
    "    output_raster = getattr(batch_fd.output, f\"cw_schade_{mask_type}\")\n",
    "\n",
    "    if not output_raster.exists:\n",
    "        raster_array = input_raster._read_array()\n",
    "        mask_array = mask._read_array()\n",
    "\n",
    "        raster_array[~(mask_array == 1)] = input_raster.nodata\n",
    "        hrt.save_raster_array_to_tiff(\n",
    "            output_file=output_raster.path,\n",
    "            raster_array=raster_array,\n",
    "            nodata=input_raster.nodata,\n",
    "            metadata=input_raster.metadata,\n",
    "        )\n",
    "        print(f\"{output_raster.name} created\")\n",
    "\n",
    "    else:\n",
    "        print(f\"{output_raster.name} already exists\")\n",
    "raster_array = None\n",
    "mask_array = None"
   ]
  },
  {
   "attachments": {},
   "cell_type": "markdown",
   "id": "7e9bdddf",
   "metadata": {},
   "source": [
    "## Bereken schade per gebied"
   ]
  },
  {
   "cell_type": "code",
   "execution_count": null,
   "id": "cec78544",
   "metadata": {},
   "outputs": [],
   "source": [
    "schade_gdf = gpd.read_file(batch_fd.output.temp.peilgebieden.path)\n",
    "labels_raster = hrt.Raster(batch_fd.output.temp.peilgebieden_schade.path)\n",
    "labels_index = schade_gdf[\"index\"].values\n",
    "\n",
    "output_file = batch_fd.output.schade_peilgebied.path\n",
    "\n",
    "\n",
    "# Bereken totale schade per peilgebied voor de twee gemaskerde schaderasters.\n",
    "for mask_type, mask_name in zip([\"plas\", \"overlast\"], [\"mv\", \"ws\"]):\n",
    "    schade_raster = hrt.Raster(getattr(batch_fd.output, f\"cw_schade_{mask_type}\").path)\n",
    "\n",
    "    # Calculate sum per region\n",
    "    accum = schade_raster.sum_labels(\n",
    "        labels_raster=labels_raster, labels_index=labels_index\n",
    "    )\n",
    "\n",
    "    schade_gdf[f\"cw_{mask_name}\"] = accum\n",
    "\n",
    "schade_gdf[\"cw_tot\"] = schade_gdf[\"cw_ws\"] + schade_gdf[\"cw_mv\"]\n",
    "\n",
    "# schade_gdf = schade_gdf.loc[schade_gdf['cw_tot'] > 0.0]\n",
    "\n",
    "\n",
    "schade_per_polder = (\n",
    "    schade_gdf[[\"name\", \"cw_tot\", \"cw_ws\", \"cw_mv\"]]\n",
    "    .groupby(\"name\")\n",
    "    .sum()\n",
    "    .sort_values(by=\"cw_ws\", ascending=False)\n",
    ")\n",
    "\n",
    "# Opslaan naar shapefile en csv\n",
    "schade_gdf.to_file(output_file)\n",
    "schade_per_polder.to_csv(batch_fd.output.schade_polder.path)"
   ]
  },
  {
   "cell_type": "code",
   "execution_count": null,
   "id": "911eaffa",
   "metadata": {},
   "outputs": [],
   "source": [
    "schade_gdf"
   ]
  },
  {
   "attachments": {},
   "cell_type": "markdown",
   "id": "c688cb2d",
   "metadata": {},
   "source": [
    "# Schade corrigeren\n",
    "Als er schade op treedt op plekken waar dit niet logisch is, kan je een shapefile aanmaken die we vervolgens uit het raster zullen knippen. Maak hiervoor het volgende bestand aan:\n",
    ".\\01. DAMO HDB en Datachecker\\peilgebieden\\geen_schade.shp"
   ]
  },
  {
   "cell_type": "code",
   "execution_count": null,
   "id": "967b561e",
   "metadata": {},
   "outputs": [],
   "source": [
    "raster = hrt.Raster(str(batch_fd.output.cw_schade_plas))\n",
    "\n",
    "dv = 0.04 #discontovoet [%]\n",
    "n = 50 #investeringstermijn [jaren]\n",
    "cw_factor = (1 - (1 - dv) ** n) / dv\n",
    "pixel_factor = raster.metadata['pixel_width']**2/0.25 #niet nodig als resolutie goed staat\n"
   ]
  },
  {
   "attachments": {},
   "cell_type": "markdown",
   "id": "686564bc",
   "metadata": {},
   "source": [
    "## Verwijder onrealistische schades\n"
   ]
  },
  {
   "cell_type": "code",
   "execution_count": null,
   "id": "eeadf8f1",
   "metadata": {},
   "outputs": [],
   "source": [
    "maskerkaart2 = gpd.read_file(str(folder.source_data.peilgebieden.geen_schade)) #load maskerkaart (geen_schade.shp)\n",
    "\n",
    "maskerkaart_union = maskerkaart2.buffer(0.1).unary_union.buffer(-0.1) #make one geometry from gdf.\n",
    "    \n",
    "#Rasterize polygon\n",
    "maskerkaart_union = gpd.GeoDataFrame(geometry=[maskerkaart_union])\n",
    "#Voeg kolom toe aan gdf, deze waarden worden in het raster gezet.\n",
    "maskerkaart_union['val']=1\n",
    "\n",
    "mask = hrt.gdf_to_raster(maskerkaart_union, value_field='val', raster_out='', nodata=0, metadata=damage_meta, epsg=28992, driver='MEM')\n",
    "mask = mask > 0"
   ]
  },
  {
   "cell_type": "code",
   "execution_count": null,
   "id": "25547551",
   "metadata": {},
   "outputs": [],
   "source": [
    "for mask_type, mask_name in zip([\"plas\", \"overlast\"], [\"mv\", \"ws\"]):\n",
    "    schade_raster = hrt.Raster(getattr(batch_fd.output, f\"cw_schade_{mask_type}\").path)\n",
    "    output = str(batch_fd.output) +  f\"/cw_schade_{mask_type}_correctie.tif\"\n",
    "    array = schade_raster.get_array()\n",
    "    array[mask] = raster.nodata\n",
    "    hrt.save_raster_array_to_tiff(output, array, raster.nodata, raster.metadata)"
   ]
  },
  {
   "cell_type": "code",
   "execution_count": null,
   "id": "118b227a",
   "metadata": {},
   "outputs": [],
   "source": [
    "schade_raster_corr_file={\"plas\": str(batch_fd.output.cw_schade_plas_corr),\n",
    "                        \"overlast\": str(batch_fd.output.cw_schade_overlast_corr)}\n",
    "schades, schade_per_polder = maak_schade_polygon(peilgebiedenbestand=str(folder.source_data.peilgebieden.peilgebieden), \n",
    "                                                 schade_raster_file=schade_raster_corr_file, \n",
    "                                                 pixel_factor=pixel_factor, \n",
    "                                                 output_schade_file=str(batch_fd.output.schade_peilgebied_corr), \n",
    "                                                 output_polder_file=str(batch_fd.output.schade_polder_corr))\n",
    "\n"
   ]
  },
  {
   "cell_type": "code",
   "execution_count": null,
   "id": "e7e7bea5",
   "metadata": {},
   "outputs": [],
   "source": [
    "dir(htt.core.climate_scenarios)"
   ]
  },
  {
   "cell_type": "code",
   "execution_count": null,
   "id": "38131411",
   "metadata": {},
   "outputs": [],
   "source": [
    "import importlib\n",
    "importlib.reload(maak_schade_polygon)"
   ]
  }
 ],
 "metadata": {
  "kernelspec": {
   "display_name": "Python 3.9.5 64-bit",
   "language": "python",
   "name": "python3"
  },
  "language_info": {
   "codemirror_mode": {
    "name": "ipython",
    "version": 3
   },
   "file_extension": ".py",
   "mimetype": "text/x-python",
   "name": "python",
   "nbconvert_exporter": "python",
   "pygments_lexer": "ipython3",
   "version": "3.9.5"
  },
  "vscode": {
   "interpreter": {
    "hash": "0fc58e98793cebe35780511f282c58e972a0a95ab91518e7c36af272d26f5fd0"
   }
  }
 },
 "nbformat": 4,
 "nbformat_minor": 5
}
