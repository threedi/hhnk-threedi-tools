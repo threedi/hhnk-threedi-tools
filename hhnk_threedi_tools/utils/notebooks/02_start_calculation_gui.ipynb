{
 "cells": [
  {
   "cell_type": "markdown",
   "metadata": {
    "ExecuteTime": {
     "end_time": "2021-09-09T15:04:32.766713Z",
     "start_time": "2021-09-09T15:04:32.628077Z"
    }
   },
   "source": [
    "# Steps:\n",
    "1. Laadt imports\n",
    "2. Vul variabelen in\n",
    "3. Draai start_calculation tab\n"
   ]
  },
  {
   "cell_type": "code",
   "execution_count": 2,
   "metadata": {},
   "outputs": [
    {
     "data": {
      "text/html": [
       "<style>.container {width:90% !important;}</style>"
      ],
      "text/plain": [
       "<IPython.core.display.HTML object>"
      ]
     },
     "metadata": {},
     "output_type": "display_data"
    }
   ],
   "source": [
    "# imports\n",
    "import importlib\n",
    "import sys\n",
    "\n",
    "#sys.path.append(\"C:/Users/chris.kerklaan/Downloads/wetransfer_functions-7z_2021-09-20_1112\")\n",
    "sys.path.append('C:/Users/chris.kerklaan/Documents/Github/hhnk-threedi-tools')\n",
    "\n",
    "# ipython imports\n",
    "import ipywidgets as widgets\n",
    "from IPython.core.display import display, HTML; display(HTML(\"<style>.container {width:90% !important;}</style>\"))\n",
    "%matplotlib inline\n",
    "\n",
    "# local imports\n",
    "from hhnk_threedi_tools.core.api.calculation_gui import start_calculation_gui"
   ]
  },
  {
   "cell_type": "code",
   "execution_count": 3,
   "metadata": {
    "ExecuteTime": {
     "end_time": "2021-09-14T10:13:59.371556Z",
     "start_time": "2021-09-14T10:13:57.508898Z"
    },
    "scrolled": true
   },
   "outputs": [],
   "source": [
    "# variabelen\n",
    "polders_folder = \"C:/Users/chris.kerklaan/Documents/Github/hhnk-threedi-tools/hhnk_threedi_tools/tests/data/multiple_polders\"\n",
    "lizard_api_key = \"DFR4pMJq.LBnAENjQZEpgLbzLD2x4Ybsm4w4QjJYU\""
   ]
  },
  {
   "cell_type": "code",
   "execution_count": 4,
   "metadata": {
    "ExecuteTime": {
     "end_time": "2021-09-09T15:12:50.222364Z",
     "start_time": "2021-09-09T15:12:48.298122Z"
    }
   },
   "outputs": [
    {
     "data": {
      "application/vnd.jupyter.widget-view+json": {
       "model_id": "f5e805a92ff642c8a63df392be588215",
       "version_major": 2,
       "version_minor": 0
      },
      "text/plain": [
       "Tab(children=(GridBox(children=(HTML(value='<b>1. Login with 3Di account</b>', layout=Layout(grid_area='login_…"
      ]
     },
     "metadata": {},
     "output_type": "display_data"
    }
   ],
   "source": [
    "# start gui\n",
    "start_calculation_tab = start_calculation_gui(polders_folder, lizard_api_key=lizard_api_key); start_calculation_tab"
   ]
  },
  {
   "cell_type": "code",
   "execution_count": null,
   "metadata": {
    "ExecuteTime": {
     "end_time": "2021-09-09T15:08:13.506945Z",
     "start_time": "2021-09-09T15:08:13.500877Z"
    }
   },
   "outputs": [],
   "source": []
  },
  {
   "cell_type": "code",
   "execution_count": null,
   "metadata": {
    "ExecuteTime": {
     "end_time": "2021-09-09T15:12:53.290210Z",
     "start_time": "2021-09-09T15:12:52.849091Z"
    }
   },
   "outputs": [],
   "source": []
  },
  {
   "cell_type": "code",
   "execution_count": null,
   "metadata": {},
   "outputs": [],
   "source": []
  },
  {
   "cell_type": "code",
   "execution_count": null,
   "metadata": {
    "ExecuteTime": {
     "end_time": "2021-09-09T15:11:21.766689Z",
     "start_time": "2021-09-09T15:11:21.751022Z"
    }
   },
   "outputs": [],
   "source": []
  },
  {
   "cell_type": "code",
   "execution_count": null,
   "metadata": {},
   "outputs": [],
   "source": []
  },
  {
   "cell_type": "code",
   "execution_count": null,
   "metadata": {},
   "outputs": [],
   "source": []
  },
  {
   "cell_type": "code",
   "execution_count": null,
   "metadata": {},
   "outputs": [],
   "source": []
  },
  {
   "cell_type": "code",
   "execution_count": null,
   "metadata": {},
   "outputs": [],
   "source": []
  },
  {
   "cell_type": "code",
   "execution_count": null,
   "metadata": {
    "ExecuteTime": {
     "start_time": "2021-08-09T07:36:43.058Z"
    }
   },
   "outputs": [],
   "source": []
  },
  {
   "cell_type": "code",
   "execution_count": null,
   "metadata": {
    "ExecuteTime": {
     "end_time": "2021-08-05T12:52:52.061820Z",
     "start_time": "2021-08-05T12:52:51.863080Z"
    }
   },
   "outputs": [],
   "source": []
  },
  {
   "cell_type": "code",
   "execution_count": null,
   "metadata": {
    "ExecuteTime": {
     "end_time": "2021-08-05T11:42:17.664264Z",
     "start_time": "2021-08-05T11:42:17.504049Z"
    }
   },
   "outputs": [],
   "source": []
  },
  {
   "cell_type": "code",
   "execution_count": null,
   "metadata": {
    "ExecuteTime": {
     "end_time": "2021-08-05T11:26:43.112146Z",
     "start_time": "2021-08-05T11:26:42.860728Z"
    }
   },
   "outputs": [],
   "source": []
  },
  {
   "cell_type": "code",
   "execution_count": null,
   "metadata": {
    "ExecuteTime": {
     "end_time": "2021-08-05T12:06:06.686969Z",
     "start_time": "2021-08-05T12:06:05.499625Z"
    }
   },
   "outputs": [],
   "source": []
  },
  {
   "cell_type": "code",
   "execution_count": null,
   "metadata": {
    "ExecuteTime": {
     "end_time": "2021-07-07T11:36:59.918378Z",
     "start_time": "2021-07-07T11:36:59.787326Z"
    },
    "scrolled": true
   },
   "outputs": [],
   "source": []
  },
  {
   "cell_type": "code",
   "execution_count": null,
   "metadata": {
    "ExecuteTime": {
     "end_time": "2021-07-06T14:14:22.780065Z",
     "start_time": "2021-07-06T14:11:30.115Z"
    }
   },
   "outputs": [],
   "source": []
  }
 ],
 "metadata": {
  "kernelspec": {
   "display_name": "Python 3 (ipykernel)",
   "language": "python",
   "name": "python3"
  },
  "language_info": {
   "codemirror_mode": {
    "name": "ipython",
    "version": 3
   },
   "file_extension": ".py",
   "mimetype": "text/x-python",
   "name": "python",
   "nbconvert_exporter": "python",
   "pygments_lexer": "ipython3",
   "version": "3.7.10"
  }
 },
 "nbformat": 4,
 "nbformat_minor": 4
}
