{
 "cells": [
  {
   "cell_type": "markdown",
   "metadata": {
    "ExecuteTime": {
     "end_time": "2021-09-09T15:04:32.766713Z",
     "start_time": "2021-09-09T15:04:32.628077Z"
    }
   },
   "source": [
    "# Steps:\n",
    "1. Laadt imports\n",
    "2. Vul variabelen in\n",
    "3. Draai start_calculation tab\n"
   ]
  },
  {
   "cell_type": "code",
   "execution_count": null,
   "metadata": {
    "ExecuteTime": {
     "end_time": "2021-10-15T22:52:50.428346Z",
     "start_time": "2021-10-15T22:52:46.818054Z"
    },
    "scrolled": false
   },
   "outputs": [],
   "source": [
    "# imports\n",
    "import importlib\n",
    "import sys\n",
    "import os\n",
    "import json\n",
    "\n",
    "# ipython imports\n",
    "import ipywidgets as widgets\n",
    "from IPython.core.display import display, HTML\n",
    "\n",
    "display(HTML(\"<style>.container {width:90% !important;}</style>\"))\n",
    "%matplotlib inline\n",
    "!jupyter nbextension enable --py --sys-prefix widgetsnbextension\n",
    "\n",
    "with open(os.getcwd() + \"/notebook_data.json\") as f:\n",
    "    notebook_data = json.load(f)\n",
    "\n",
    "from hhnk_threedi_tools.core.api.calculation_gui_class import StartCalculationGui\n",
    "\n",
    "self = StartCalculationGui(data=notebook_data)\n",
    "\n",
    "display(self.tab) "
   ]
  }
 ],
 "metadata": {
  "kernelspec": {
   "display_name": "Python 3.9.5 64-bit",
   "language": "python",
   "name": "python3"
  },
  "language_info": {
   "codemirror_mode": {
    "name": "ipython",
    "version": 3
   },
   "file_extension": ".py",
   "mimetype": "text/x-python",
   "name": "python",
   "nbconvert_exporter": "python",
   "pygments_lexer": "ipython3",
   "version": "3.9.5"
  },
  "vscode": {
   "interpreter": {
    "hash": "0fc58e98793cebe35780511f282c58e972a0a95ab91518e7c36af272d26f5fd0"
   }
  }
 },
 "nbformat": 4,
 "nbformat_minor": 4
}
