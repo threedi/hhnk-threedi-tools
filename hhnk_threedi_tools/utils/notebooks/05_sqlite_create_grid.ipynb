{
 "cells": [
  {
   "cell_type": "markdown",
   "metadata": {},
   "source": [
    "## Create grid nodes and lines from sqlite"
   ]
  },
  {
   "cell_type": "code",
   "execution_count": 16,
   "metadata": {},
   "outputs": [],
   "source": [
    "import os\n",
    "import geopandas as gpd\n",
    "import pandas as pd\n",
    "import matplotlib.pyplot as plt\n",
    "import numpy as np\n",
    "from osgeo import gdal\n",
    "import sys\n",
    "import importlib.resources as pkg_resources  # Load resource from package\n",
    "import ipywidgets as widgets\n",
    "import json\n",
    "\n",
    "\n",
    "\n",
    "# for path in notebook_data[\"syspaths\"]:\n",
    "#     sys.path.insert(0, path)\n",
    "path=r'C:\\Users\\wvangerwen\\AppData\\Roaming\\QGIS\\QGIS3\\profiles\\default\\python\\plugins'\n",
    "sys.path.insert(0, path)\n",
    "\n",
    "import hhnk_threedi_plugin.local_settings as local_settings\n",
    "if local_settings.DEBUG:\n",
    "    sys.path.insert(0, local_settings.hhnk_threedi_tools_path)\n",
    "    import importlib, hhnk_threedi_tools\n",
    "    hhnk_threedi_tools=importlib.reload(hhnk_threedi_tools)\n",
    "    importlib.reload(hhnk_threedi_tools.core.folders)\n",
    "    \n",
    "from hhnk_threedi_tools import Folders, SqliteTest"
   ]
  },
  {
   "cell_type": "code",
   "execution_count": 22,
   "metadata": {},
   "outputs": [
    {
     "name": "stdout",
     "output_type": "stream",
     "text": [
      "v6\n"
     ]
    }
   ],
   "source": [
    "with open(os.getcwd() + \"/notebook_data.json\") as f:\n",
    "    notebook_data = json.load(f)\n",
    "folder_dir = notebook_data['polder_folder']\n",
    "\n",
    "folder = Folders(folder_dir)\n",
    "sqlite_test = SqliteTest(folder)\n",
    "\n",
    "sqlite_test.create_grid_from_sqlite(sqlite_path=folder.model.sqlite_paths[0], \n",
    "                                                        dem_path=folder.model.rasters.dem.path, \n",
    "                                                        output_folder=folder.output.sqlite_tests.path)"
   ]
  }
 ],
 "metadata": {
  "interpreter": {
   "hash": "94c6aa8cb1590a4bf439ad4caa1e2f163d9d3e4fe08b1d1690c123d2377a1e7c"
  },
  "kernelspec": {
   "display_name": "Python 3 (ipykernel)",
   "language": "python",
   "name": "python3"
  },
  "language_info": {
   "codemirror_mode": {
    "name": "ipython",
    "version": 3
   },
   "file_extension": ".py",
   "mimetype": "text/x-python",
   "name": "python",
   "nbconvert_exporter": "python",
   "pygments_lexer": "ipython3",
   "version": "3.9.10"
  }
 },
 "nbformat": 4,
 "nbformat_minor": 2
}
