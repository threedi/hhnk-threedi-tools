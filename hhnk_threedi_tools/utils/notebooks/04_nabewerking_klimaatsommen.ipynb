{
 "cells": [
  {
   "cell_type": "markdown",
   "id": "c1107963",
   "metadata": {},
   "source": []
  },
  {
   "cell_type": "markdown",
   "id": "d300fda9",
   "metadata": {},
   "source": [
    "Todo:\n",
    "\n",
    "- batenkaart\n",
    "- kwetsbaarheden"
   ]
  },
  {
   "cell_type": "code",
   "execution_count": 1,
   "id": "c39de6de",
   "metadata": {
    "ExecuteTime": {
     "start_time": "2021-09-29T14:57:51.332Z"
    }
   },
   "outputs": [],
   "source": [
    "#Import all packages. GDAL should be installed including BIGTIFF option\n",
    "# import getpass\n",
    "# import pandas as pd\n",
    "# import os\n",
    "# from threedi_scenario_downloader import downloader as dl\n",
    "# from IPython.display import display, HTML\n",
    "# import shutil\n",
    "# import logging\n",
    "# import geopandas as gpd\n",
    "# import numpy as np\n",
    "# from ipywidgets import FloatProgress\n",
    "# import matplotlib.pyplot as plt\n",
    "# import shapely.geometry\n",
    "# import gc #garbage collection -> free memory\n",
    "\n",
    "\n",
    "\n",
    "\n",
    "# import functions_nabewerking.maskerkaart as maskerkaart    #script should be in the same folder as the Python file/notebook\n",
    "# import functions_nabewerking.ruimtekaart as ruimtekaart  #script should be in the same folder as the Python file/notebook\n",
    "# from functions_nabewerking.create_batch_folders_dict import create_batch_folders_dict\n",
    "# from functions_nabewerking.interpoleer_rasters import main_interpolate_rasters_parallel, interpoleer_raster_parallel, main_interpolate_rasters, interpoleer_raster, interpoleer_deel, lees_waterdieptes, bepaal_delen\n",
    "# from functions_nabewerking.masker_filtering_rasters import rasterize_maskerkaart, apply_mask_to_raster, remove_mask_from_raster\n",
    "# from functions_nabewerking.schadekaart import maak_schadekaart, maak_schade_polygon, bereken_schade_per_peilgebied_parallel, maak_schade_polygon_parallel\n",
    "# import functions.wsa_tools as wsa #general tools used across all scripts\n",
    "# from functions.select_polder_revision import select_polder_revision\n",
    "# # from functions.API_start_calculation_gui_settings import * #ugly way of importing settings.\n",
    "#Local imports\n",
    "import sys\n",
    "# sys.path.append(r'C:/Users/chris.kerklaan/Documents/Github/hhnk-threedi-tools')\n",
    "sys.path.append('C:\\\\Users\\wvangerwen\\github\\hhnk-threedi-tools')\n",
    "\n",
    "from hhnk_threedi_tools import Folders\n",
    "import hhnk_research_tools as hrt\n",
    "\n",
    "import os\n",
    "import geopandas as gpd\n",
    "import pandas as pd\n",
    "import matplotlib.pyplot as plt\n",
    "%matplotlib inline\n",
    "\n",
    "\n",
    "\n",
    "\n",
    "\n"
   ]
  },
  {
   "cell_type": "code",
   "execution_count": 2,
   "id": "2d23a639",
   "metadata": {
    "ExecuteTime": {
     "end_time": "2021-09-29T13:57:15.415210Z",
     "start_time": "2021-09-29T13:57:15.401213Z"
    }
   },
   "outputs": [
    {
     "name": "stdout",
     "output_type": "stream",
     "text": [
      "Selecteer map met batch resultaten\n"
     ]
    },
    {
     "data": {
      "application/vnd.jupyter.widget-view+json": {
       "model_id": "cdaeefdf7d6d4caaa4764c79d88c1046",
       "version_major": 2,
       "version_minor": 0
      },
      "text/plain": [
       "Select(layout=Layout(grid_area='output_folder_box', width='95%'), options=('bwn_test #5 (1) klimaatsommen',), …"
      ]
     },
     "metadata": {},
     "output_type": "display_data"
    }
   ],
   "source": [
    "#Purmerend\n",
    "# --------------------------------------------------\n",
    "polders_folder = \"C:/Users/wvangerwen/Github/hhnk-threedi-tools/hhnk_threedi_tools/tests/data/multiple_polders\"\n",
    "polder = 'poldera' #Leeg laten voor handmatige invoer\n",
    "# --------------------------------------------------\n",
    "# BATCH_FOLDER_NAME = 'batch_Egmond_WO_juni21#4_sc2'\n",
    "\n",
    "\n",
    "folder = Folders(os.path.join(polders_folder, polder))\n",
    "\n",
    "import ipywidgets as widgets\n",
    "\n",
    "def item_layout(width=\"95%\", grid_area=\"\", **kwargs):\n",
    "    return widgets.Layout(\n",
    "        width=width, grid_area=grid_area, **kwargs\n",
    "    )  # override the default width of the button to 'auto' to let the button grow\n",
    "    \n",
    "output_folder_options = folder.threedi_results.batch.content\n",
    "# output_folder_label = widgets.Label('Selecteer output folder:', layout=item_layout(grid_area='output_folder_label'))\n",
    "output_folder_box = widgets.Select(\n",
    "    options=output_folder_options,\n",
    "    rows=3,\n",
    "    disabled=False,\n",
    "    layout=item_layout(grid_area=\"output_folder_box\"),\n",
    ")\n",
    "\n",
    "print(\"Selecteer map met batch resultaten\")\n",
    "output_folder_box\n",
    "\n",
    "\n",
    "# inladen mappenstructuur\n",
    "# polder, revision, revision_nr, output_folder, folders_dict = select_polder_revision(polder, 'placeholder#01')\n",
    "# batch_folder = os.path.join(folders_dict['05_extreme_data']['folder'], BATCH_FOLDER_NAME)\n",
    "# batch_fd = create_batch_folders_dict(batch_folder)\n",
    "\n",
    "\n",
    "# polder_shape = gpd.read_file(folders_dict['01_data']['polygon'])\n",
    "\n",
    "# df = pd.DataFrame(batch_fd['01_downloads']['names'], columns=['dl_name'])\n",
    "# for dl_name in batch_fd['01_downloads']['names']:\n",
    "#     df.loc[df['dl_name']==dl_name, 'max_depth'] = batch_fd['01_downloads'][dl_name]['totaal']['max_depth']\n",
    "#     df.loc[df['dl_name']==dl_name, 'max_depth_plas'] = batch_fd['01_downloads'][dl_name]['plas']['max_depth']\n",
    "#     df.loc[df['dl_name']==dl_name, 'max_depth_overlast'] = batch_fd['01_downloads'][dl_name]['overlast']['max_depth']\n",
    "#     df.loc[df['dl_name']==dl_name, 'total_damage'] = batch_fd['01_downloads'][dl_name]['totaal']['total_damage']\n",
    "#     df.loc[df['dl_name']==dl_name, 'total_damage_plas'] = batch_fd['01_downloads'][dl_name]['plas']['total_damage']\n",
    "#     df.loc[df['dl_name']==dl_name, 'total_damage_overlast'] = batch_fd['01_downloads'][dl_name]['overlast']['total_damage']\n",
    "    \n",
    "# if not os.path.exists(batch_fd['02_output_rasters']['folder']): os.mkdir(batch_fd['02_output_rasters']['folder'])"
   ]
  },
  {
   "cell_type": "code",
   "execution_count": null,
   "id": "5f01abdf",
   "metadata": {
    "ExecuteTime": {
     "end_time": "2021-09-29T13:56:37.990244Z",
     "start_time": "2021-09-29T13:56:37.984244Z"
    }
   },
   "outputs": [],
   "source": [
    "batch_fd = folder.threedi_results.batch[output_folder_box.value]\n",
    "\n",
    "polder_shape = gpd.read_file(folder.source_data.polder_polygon.path)\n",
    "\n"
   ]
  },
  {
   "cell_type": "code",
   "execution_count": null,
   "id": "6ea5c010",
   "metadata": {
    "ExecuteTime": {
     "end_time": "2021-09-29T14:07:00.134680Z",
     "start_time": "2021-09-29T14:07:00.129681Z"
    }
   },
   "outputs": [],
   "source": [
    "dir(hrt)"
   ]
  },
  {
   "cell_type": "code",
   "execution_count": null,
   "id": "42dedc90",
   "metadata": {
    "ExecuteTime": {
     "end_time": "2021-09-29T14:07:12.658073Z",
     "start_time": "2021-09-29T14:07:12.649071Z"
    }
   },
   "outputs": [],
   "source": [
    "neerslag_list, neerslag_nodata, neerslag_meta = hrt.load_gdal_raster(folders_dict['polder']['scripts']['neerslagsterkte'], bands=3)\n",
    "fig, ax = plt.subplots(figsize=(15, 15))\n",
    "ax.imshow(neerslag_list, extent=neerslag_meta['bounds'])\n",
    "polder_shape.plot(ax=ax, color='red')"
   ]
  },
  {
   "cell_type": "code",
   "execution_count": null,
   "id": "157d44d6",
   "metadata": {},
   "outputs": [],
   "source": []
  },
  {
   "cell_type": "code",
   "execution_count": null,
   "id": "d80173ec",
   "metadata": {},
   "outputs": [],
   "source": []
  },
  {
   "cell_type": "code",
   "execution_count": null,
   "id": "aa167425",
   "metadata": {},
   "outputs": [],
   "source": []
  },
  {
   "cell_type": "code",
   "execution_count": null,
   "id": "26a0faaf",
   "metadata": {},
   "outputs": [],
   "source": []
  },
  {
   "cell_type": "code",
   "execution_count": null,
   "id": "ee884ade",
   "metadata": {},
   "outputs": [],
   "source": []
  },
  {
   "cell_type": "code",
   "execution_count": null,
   "id": "89ffcd4c",
   "metadata": {},
   "outputs": [],
   "source": []
  },
  {
   "cell_type": "code",
   "execution_count": null,
   "id": "5d50654c",
   "metadata": {},
   "outputs": [],
   "source": []
  }
 ],
 "metadata": {
  "interpreter": {
   "hash": "eea3b0fa5359ec1c5e7f02969caa90c878a261929c8203f99e9ee0f1d9a24aeb"
  },
  "kernelspec": {
   "display_name": "Python 3.7.10 64-bit ('threedipy': conda)",
   "name": "python3"
  },
  "language_info": {
   "codemirror_mode": {
    "name": "ipython",
    "version": 3
   },
   "file_extension": ".py",
   "mimetype": "text/x-python",
   "name": "python",
   "nbconvert_exporter": "python",
   "pygments_lexer": "ipython3",
   "version": "3.7.10"
  }
 },
 "nbformat": 4,
 "nbformat_minor": 5
}
