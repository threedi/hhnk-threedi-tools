{
 "cells": [
  {
   "attachments": {},
   "cell_type": "markdown",
   "metadata": {},
   "source": [
    "# 03. Downloaden modelresultaten\n",
    "- modelnaam in rasters toevoegen\n",
    "- HTTPError: 504 Server Error: Gateway Time-out oplossen\n",
    "- HTTPError: 503 Server Error: Service Unavailable for url: https://hhnk.lizard.net/api/v3/tasks/92c6b2b8-b841-4fec-b931-87a746892555/"
   ]
  },
  {
   "cell_type": "code",
   "execution_count": null,
   "metadata": {
    "ExecuteTime": {
     "end_time": "2021-10-18T07:27:41.321541Z",
     "start_time": "2021-10-18T07:27:41.025441Z"
    }
   },
   "outputs": [],
   "source": [
    "#Add qgis plugin deps to syspath and load notebook_data\n",
    "from notebook_setup import setup_notebook\n",
    "notebook_data = setup_notebook()\n",
    "\n",
    "from IPython.display import display, HTML\n",
    "\n",
    "display(HTML(\"<style>.container {width:90% !important;}</style>\"))\n",
    "%matplotlib inline\n",
    "\n",
    "# local imports\n",
    "from hhnk_threedi_tools.core.api.download_gui_class import DownloadGui\n",
    "\n",
    "download_tab = DownloadGui(data=notebook_data)\n",
    "download_tab.tab"
   ]
  },
  {
   "cell_type": "code",
   "execution_count": null,
   "metadata": {
    "ExecuteTime": {
     "end_time": "2021-09-29T09:14:40.447706Z",
     "start_time": "2021-09-29T09:13:36.370555Z"
    }
   },
   "outputs": [],
   "source": [
    "# Resume downloads\n",
    "# api_key = input('API key: ')\n",
    "api_key = download_tab.children[1].value\n",
    "# batch_csv_file = '../../07. Poldermodellen/10.tHoekje/03. Model resultaten Hydraulische Toets/2021-08-02 08h34_download_raster_batch.csv'\n",
    "batch_csv_file = r\"C:\\Users\\wvangerwen\\github\\hhnk-threedi-tools\\hhnk_threedi_tools\\tests\\data\\multiple_polders\\poldera\\03_3di_resultaten\\batch_results\\bwn_test #5 (1) klimaatsommen\\2021-09-24 13h48_download_raster_batch.csv\"\n",
    "\n",
    "from threedi_scenario_downloader import downloader as dl\n",
    "\n",
    "dl.set_api_key(api_key)\n",
    "dl.resume_download_tasks(batch_csv_file, overwrite=False)"
   ]
  },
  {
   "attachments": {},
   "cell_type": "markdown",
   "metadata": {},
   "source": [
    "## Downloaden van rasters voor hetzelfde model op alle tijdstappen"
   ]
  },
  {
   "cell_type": "code",
   "execution_count": null,
   "metadata": {},
   "outputs": [],
   "source": [
    "import os\n",
    "from threedi_scenario_downloader import downloader as dl\n",
    "import getpass\n",
    "\n",
    "# Change three discenario downloader\n",
    "# def new_get_headers():\n",
    "#     \"\"\"Setting the headers in the original toolbox is not easy when using this GUI.\n",
    "#     Therefore we change this function in the toolbox so everything else works.\"\"\"\n",
    "#     headers_results = {\n",
    "#     \"username\": '{}'.format('w.vanesse'),\n",
    "#     \"password\": '{}'.format(''),\n",
    "#     \"Content-Type\": \"application/json\"}\n",
    "#     return headers_results\n",
    "# setattr(dl,'get_headers', new_get_headers)\n",
    "\n",
    "output_folder = \"../../07. Poldermodellen/102. Schermerboezem\"\n",
    "uuid = \"555aaeca-ec9b-40e5-ae0b-ebb9f41505cf\"\n",
    "resolution = 5\n",
    "\n",
    "a = []\n",
    "for h in range(4, 24):\n",
    "    a.append(\"2016-01-05T{}:14:16\".format(str(h).zfill(2)))\n",
    "\n",
    "for h in range(0, 24):\n",
    "    a.append(\"2016-01-06T{}:14:16\".format(str(h).zfill(2)))\n",
    "\n",
    "for h in range(0, 4):\n",
    "    a.append(\"2016-01-07T{}:14:16\".format(str(h).zfill(2)))\n",
    "\n",
    "\n",
    "wdepth_path = []\n",
    "for index, time in enumerate(a):\n",
    "    time_path = time.replace(\"-\", \"_\")\n",
    "    time_path = time_path.replace(\":\", \"_\")\n",
    "\n",
    "    wdepth_path += [os.path.join(output_folder, \"wdepth_\" + time_path + \".tif\")]\n",
    "    wdepth_path[index]\n",
    "    if not os.path.exists(wdepth_path[index]):\n",
    "        print(\"Preparing download: {}\".format(time_path))\n",
    "        dl.download_waterdepth_raster(\n",
    "            uuid, \"EPSG:28992\", resolution, time, pathname=wdepth_path[index]\n",
    "        )"
   ]
  }
 ],
 "metadata": {
  "kernelspec": {
   "display_name": "Python 3 (ipykernel)",
   "language": "python",
   "name": "python3"
  },
  "language_info": {
   "codemirror_mode": {
    "name": "ipython",
    "version": 3
   },
   "file_extension": ".py",
   "mimetype": "text/x-python",
   "name": "python",
   "nbconvert_exporter": "python",
   "pygments_lexer": "ipython3",
   "version": "3.9.5"
  },
  "vscode": {
   "interpreter": {
    "hash": "0fc58e98793cebe35780511f282c58e972a0a95ab91518e7c36af272d26f5fd0"
   }
  }
 },
 "nbformat": 4,
 "nbformat_minor": 4
}
