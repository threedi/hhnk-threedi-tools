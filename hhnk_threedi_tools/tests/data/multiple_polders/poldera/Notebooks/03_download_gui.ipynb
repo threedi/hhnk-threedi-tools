{
 "cells": [
  {
   "cell_type": "markdown",
   "metadata": {},
   "source": [
    "# 03. Downloaden modelresultaten\n",
    "- modelnaam in rasters toevoegen\n",
    "- HTTPError: 504 Server Error: Gateway Time-out oplossen\n",
    "- HTTPError: 503 Server Error: Service Unavailable for url: https://hhnk.lizard.net/api/v3/tasks/92c6b2b8-b841-4fec-b931-87a746892555/"
   ]
  },
  {
   "cell_type": "code",
   "execution_count": 2,
   "metadata": {
    "ExecuteTime": {
     "end_time": "2021-10-18T07:27:41.321541Z",
     "start_time": "2021-10-18T07:27:41.025441Z"
    },
    "scrolled": false
   },
   "outputs": [
    {
     "data": {
      "text/html": [
       "<style>.container {width:90% !important;}</style>"
      ],
      "text/plain": [
       "<IPython.core.display.HTML object>"
      ]
     },
     "metadata": {},
     "output_type": "display_data"
    },
    {
     "name": "stderr",
     "output_type": "stream",
     "text": [
      "Enabling notebook extension jupyter-js-widgets/extension...\n",
      "      - Validating: ok\n"
     ]
    },
    {
     "data": {
      "application/vnd.jupyter.widget-view+json": {
       "model_id": "5ef47b897c524151b83be8ced4ca6237",
       "version_major": 2,
       "version_minor": 0
      },
      "text/plain": [
       "GridBox(children=(HTML(value='<b>1. Login with 3Di account</b>', layout=Layout(grid_area='login_label', width=…"
      ]
     },
     "metadata": {},
     "output_type": "display_data"
    },
    {
     "name": "stdout",
     "output_type": "stream",
     "text": [
      "Kan opgegeven naam niet koppelen aan een output folder\n",
      "C:\\Users\\chris.kerklaan\\Documents\\Github\\hhnk-threedi-tools\\hhnk_threedi_tools\\tests\\data\\multiple_polders\\poldera\\03_3di_resultaten\\batch_results\\test_downloads/02_output_rasters\\temp not created, parent doesnt exist.\n",
      "C:/Users/chris.kerklaan/Documents/Github/hhnk-threedi-tools/hhnk_threedi_tools/tests/data/multiple_polders/poldera\n",
      "C:\\Users\\chris.kerklaan\\Documents\\Github\\hhnk-threedi-tools\\hhnk_threedi_tools\\tests\\data\\multiple_polders\\poldera\\02_Model\\rasters\\dem_hoekje\n",
      "\n",
      "\u001b[1m\u001b[31mDownloading files for bwn_test #5 GLG blok T100 (11) klimaatsommen (uuid=eff1d7e5-a8d1-4af0-9434-03c132e268ba):\u001b[0m\n",
      "Preparing download of max waterdepth raster\n",
      "Preparing download of total damage raster\n",
      "\n",
      "\u001b[1m\u001b[31mDownloading files for bwn_test #5 GGG blok T100 (14) klimaatsommen (uuid=5ada111e-c220-4f31-b907-0e2a66ff5d0a):\u001b[0m\n",
      "Preparing download of max waterdepth raster\n",
      "Preparing download of total damage raster\n",
      "\n",
      "\u001b[1m\u001b[31mDownloading files for bwn_test #5 GHG piek T1000 (9) klimaatsommen (uuid=2a6988b6-e070-4069-8e22-a2983111ae7c):\u001b[0m\n",
      "\n",
      "\u001b[1mStarting the download \u001b[0m\n",
      "1. Downloading to C:\\Users\\chris.kerklaan\\Documents\\Github\\hhnk-threedi-tools\\hhnk_threedi_tools\\tests\\data\\multiple_polders\\poldera\\03_3di_resultaten\\batch_results\\test_downloads\\01_downloads\\piek_GHG_T1000\\results_3di.nc\n"
     ]
    },
    {
     "name": "stderr",
     "output_type": "stream",
     "text": [
      "100%|███████████████████████████████████████████████████████████████████████████████████████████████████████████████████████████████████████████████████| 9.62M/9.62M [00:01<00:00, 6.93MB/s, file=results_3di.nc]\n"
     ]
    },
    {
     "name": "stdout",
     "output_type": "stream",
     "text": [
      "2. Downloading to C:\\Users\\chris.kerklaan\\Documents\\Github\\hhnk-threedi-tools\\hhnk_threedi_tools\\tests\\data\\multiple_polders\\poldera\\03_3di_resultaten\\batch_results\\test_downloads\\01_downloads\\piek_GHG_T1000\\gridadmin.h5\n"
     ]
    },
    {
     "name": "stderr",
     "output_type": "stream",
     "text": [
      "100%|████████████████████████████████████████████████████████████████████████████████████████████████████████████████████████████████████████████████████████| 710k/710k [00:00<00:00, 948kB/s, file=gridadmin.h5]\n"
     ]
    },
    {
     "name": "stdout",
     "output_type": "stream",
     "text": [
      "All downloads finished!\n",
      "Preparing download of max waterdepth raster\n",
      "Preparing download of total damage raster\n",
      "\n",
      "\u001b[1m\u001b[31mDownloading files for bwn_test #5 GHG blok T1000 (18) klimaatsommen (uuid=1dcc1095-6092-482f-8e78-31bfe248f645):\u001b[0m\n",
      "\n",
      "\u001b[1mStarting the download \u001b[0m\n",
      "1. Downloading to C:\\Users\\chris.kerklaan\\Documents\\Github\\hhnk-threedi-tools\\hhnk_threedi_tools\\tests\\data\\multiple_polders\\poldera\\03_3di_resultaten\\batch_results\\test_downloads\\01_downloads\\blok_GHG_T1000\\results_3di.nc\n"
     ]
    },
    {
     "name": "stderr",
     "output_type": "stream",
     "text": [
      "100%|███████████████████████████████████████████████████████████████████████████████████████████████████████████████████████████████████████████████████| 9.60M/9.60M [00:01<00:00, 6.44MB/s, file=results_3di.nc]\n"
     ]
    },
    {
     "name": "stdout",
     "output_type": "stream",
     "text": [
      "2. Downloading to C:\\Users\\chris.kerklaan\\Documents\\Github\\hhnk-threedi-tools\\hhnk_threedi_tools\\tests\\data\\multiple_polders\\poldera\\03_3di_resultaten\\batch_results\\test_downloads\\01_downloads\\blok_GHG_T1000\\gridadmin.h5\n"
     ]
    },
    {
     "name": "stderr",
     "output_type": "stream",
     "text": [
      "100%|███████████████████████████████████████████████████████████████████████████████████████████████████████████████████████████████████████████████████████| 710k/710k [00:00<00:00, 3.95MB/s, file=gridadmin.h5]\n"
     ]
    },
    {
     "name": "stdout",
     "output_type": "stream",
     "text": [
      "All downloads finished!\n",
      "Preparing download of max waterdepth raster\n",
      "Preparing download of total damage raster\n",
      "\n",
      "\u001b[1m\u001b[31mDownloading files for bwn_test #5 GGG piek T100 (5) klimaatsommen (uuid=9712d870-c4f2-4814-99db-b14070e4a640):\u001b[0m\n",
      "Preparing download of max waterdepth raster\n",
      "Preparing download of total damage raster\n",
      "\n",
      "\u001b[1m\u001b[31mDownloading files for bwn_test #5 GGG blok T1000 (15) klimaatsommen (uuid=a7617cd2-96cf-4bdb-b4fe-8c7f564631d1):\u001b[0m\n",
      "Preparing download of max waterdepth raster\n",
      "Preparing download of total damage raster\n",
      "\n",
      "\u001b[1m\u001b[31mDownloading files for bwn_test #5 GHG piek T10 (7) klimaatsommen (uuid=76bf33e2-fe11-4fc3-ae05-38f6711456a5):\u001b[0m\n",
      "Preparing download of max waterdepth raster\n",
      "Preparing download of total damage raster\n",
      "\n",
      "\u001b[1m\u001b[31mDownloading files for bwn_test #5 GLG blok T10 (10) klimaatsommen (uuid=c289bd82-cf59-4264-989a-c5b19d52be2d):\u001b[0m\n",
      "Preparing download of max waterdepth raster\n",
      "Preparing download of total damage raster\n",
      "\n",
      "\u001b[1m\u001b[31mDownloading files for bwn_test #5 GLG blok T1000 (12) klimaatsommen (uuid=0d26aca9-ba0b-4b9b-acab-1146ca26f64b):\u001b[0m\n",
      "Preparing download of max waterdepth raster\n",
      "Preparing download of total damage raster\n",
      "\n",
      "\u001b[1m\u001b[31mDownloading files for bwn_test #5 GLG piek T1000 (3) klimaatsommen (uuid=88eb7ed8-b522-4fbf-9223-3acce0889db2):\u001b[0m\n",
      "Preparing download of max waterdepth raster\n",
      "Preparing download of total damage raster\n",
      "\n",
      "\u001b[1m\u001b[31mDownloading files for bwn_test #5 GGG piek T1000 (6) klimaatsommen (uuid=f49927ef-bb00-461f-b57c-507fbb96a77d):\u001b[0m\n",
      "Preparing download of max waterdepth raster\n",
      "Preparing download of total damage raster\n",
      "\n",
      "\u001b[1m\u001b[31mDownloading files for bwn_test #5 GGG blok T10 (13) klimaatsommen (uuid=4ea2fcc2-ec4b-4a90-a456-e616c4d03f46):\u001b[0m\n",
      "Preparing download of max waterdepth raster\n",
      "Preparing download of total damage raster\n",
      "\n",
      "\u001b[1m\u001b[31mDownloading files for bwn_test #5 GHG blok T100 (17) klimaatsommen (uuid=6d23bb73-f6ab-4c53-b305-82ef89d429cd):\u001b[0m\n",
      "Preparing download of max waterdepth raster\n",
      "Preparing download of total damage raster\n",
      "\n",
      "\u001b[1m\u001b[31mDownloading files for bwn_test #5 GHG blok T10 (16) klimaatsommen (uuid=a2ddb8aa-e1cb-44f8-aee8-10d5cb0eca56):\u001b[0m\n",
      "Preparing download of max waterdepth raster\n",
      "Preparing download of total damage raster\n",
      "\n",
      "\u001b[1m\u001b[31mDownloading files for bwn_test #5 GHG piek T100 (8) klimaatsommen (uuid=6170da0e-b922-4d63-a2cc-894300a486d3):\u001b[0m\n",
      "Preparing download of max waterdepth raster\n",
      "Preparing download of total damage raster\n",
      "\n",
      "\u001b[1m\u001b[31mDownloading files for bwn_test #5 GGG piek T10 (4) klimaatsommen (uuid=46a2cd04-4277-4f67-ba13-308d61ee9adf):\u001b[0m\n",
      "Preparing download of max waterdepth raster\n",
      "Preparing download of total damage raster\n",
      "\n",
      "\u001b[1m\u001b[31mDownloading files for bwn_test #5 GLG piek T100 (2) klimaatsommen (uuid=115082f8-519d-42ad-b1bb-75ee4c921f63):\u001b[0m\n",
      "Preparing download of max waterdepth raster\n",
      "Preparing download of total damage raster\n",
      "\n",
      "\u001b[1m\u001b[31mDownloading files for bwn_test #5 GLG piek T10 (1) klimaatsommen (uuid=9b578323-de06-4e56-bc50-aae4b423a478):\u001b[0m\n",
      "Preparing download of max waterdepth raster\n",
      "Preparing download of total damage raster\n",
      "uuid_list: ['eff1d7e5-a8d1-4af0-9434-03c132e268ba', 'eff1d7e5-a8d1-4af0-9434-03c132e268ba', '5ada111e-c220-4f31-b907-0e2a66ff5d0a', '5ada111e-c220-4f31-b907-0e2a66ff5d0a', '2a6988b6-e070-4069-8e22-a2983111ae7c', '2a6988b6-e070-4069-8e22-a2983111ae7c', '1dcc1095-6092-482f-8e78-31bfe248f645', '1dcc1095-6092-482f-8e78-31bfe248f645', '9712d870-c4f2-4814-99db-b14070e4a640', '9712d870-c4f2-4814-99db-b14070e4a640', 'a7617cd2-96cf-4bdb-b4fe-8c7f564631d1', 'a7617cd2-96cf-4bdb-b4fe-8c7f564631d1', '76bf33e2-fe11-4fc3-ae05-38f6711456a5', '76bf33e2-fe11-4fc3-ae05-38f6711456a5', 'c289bd82-cf59-4264-989a-c5b19d52be2d', 'c289bd82-cf59-4264-989a-c5b19d52be2d', '0d26aca9-ba0b-4b9b-acab-1146ca26f64b', '0d26aca9-ba0b-4b9b-acab-1146ca26f64b', '88eb7ed8-b522-4fbf-9223-3acce0889db2', '88eb7ed8-b522-4fbf-9223-3acce0889db2', 'f49927ef-bb00-461f-b57c-507fbb96a77d', 'f49927ef-bb00-461f-b57c-507fbb96a77d', '4ea2fcc2-ec4b-4a90-a456-e616c4d03f46', '4ea2fcc2-ec4b-4a90-a456-e616c4d03f46', '6d23bb73-f6ab-4c53-b305-82ef89d429cd', '6d23bb73-f6ab-4c53-b305-82ef89d429cd', 'a2ddb8aa-e1cb-44f8-aee8-10d5cb0eca56', 'a2ddb8aa-e1cb-44f8-aee8-10d5cb0eca56', '6170da0e-b922-4d63-a2cc-894300a486d3', '6170da0e-b922-4d63-a2cc-894300a486d3', '46a2cd04-4277-4f67-ba13-308d61ee9adf', '46a2cd04-4277-4f67-ba13-308d61ee9adf', '115082f8-519d-42ad-b1bb-75ee4c921f63', '115082f8-519d-42ad-b1bb-75ee4c921f63', '9b578323-de06-4e56-bc50-aae4b423a478', '9b578323-de06-4e56-bc50-aae4b423a478']\n",
      "code_list: ['depth-max-dtri', 'total-damage', 'depth-max-dtri', 'total-damage', 'depth-max-dtri', 'total-damage', 'depth-max-dtri', 'total-damage', 'depth-max-dtri', 'total-damage', 'depth-max-dtri', 'total-damage', 'depth-max-dtri', 'total-damage', 'depth-max-dtri', 'total-damage', 'depth-max-dtri', 'total-damage', 'depth-max-dtri', 'total-damage', 'depth-max-dtri', 'total-damage', 'depth-max-dtri', 'total-damage', 'depth-max-dtri', 'total-damage', 'depth-max-dtri', 'total-damage', 'depth-max-dtri', 'total-damage', 'depth-max-dtri', 'total-damage', 'depth-max-dtri', 'total-damage', 'depth-max-dtri', 'total-damage']\n",
      "target_srs_list: ['EPSG:28992', 'EPSG:28992', 'EPSG:28992', 'EPSG:28992', 'EPSG:28992', 'EPSG:28992', 'EPSG:28992', 'EPSG:28992', 'EPSG:28992', 'EPSG:28992', 'EPSG:28992', 'EPSG:28992', 'EPSG:28992', 'EPSG:28992', 'EPSG:28992', 'EPSG:28992', 'EPSG:28992', 'EPSG:28992', 'EPSG:28992', 'EPSG:28992', 'EPSG:28992', 'EPSG:28992', 'EPSG:28992', 'EPSG:28992', 'EPSG:28992', 'EPSG:28992', 'EPSG:28992', 'EPSG:28992', 'EPSG:28992', 'EPSG:28992', 'EPSG:28992', 'EPSG:28992', 'EPSG:28992', 'EPSG:28992', 'EPSG:28992', 'EPSG:28992']\n",
      "resolution_list: [2.0, 0.5, 2.0, 0.5, 2.0, 0.5, 2.0, 0.5, 2.0, 0.5, 2.0, 0.5, 2.0, 0.5, 2.0, 0.5, 2.0, 0.5, 2.0, 0.5, 2.0, 0.5, 2.0, 0.5, 2.0, 0.5, 2.0, 0.5, 2.0, 0.5, 2.0, 0.5, 2.0, 0.5, 2.0, 0.5]\n",
      "Kan opgegeven naam niet koppelen aan een output folder\n",
      "\n",
      "\u001b[1m\u001b[31mDownloading files for hoorn #24 0d1d_test (uuid=aa067e75-8def-45b8-88d6-c42a5d22c9bd):\u001b[0m\n",
      "1: https://hhnk.lizard.net/api/v3/scenario-results/247949/results_3di.nc\n",
      "2: https://hhnk.lizard.net/api/v3/scenario-results/247948/gridadmin.h5\n",
      "3: https://hhnk.lizard.net/api/v3/scenario-results/247950/log_files.zip\n",
      "path not found, create with '.create()'\n",
      "\n",
      "They will be placed in:\n",
      "C:\\Users\\chris.kerklaan\\Documents\\Github\\hhnk-threedi-tools\\hhnk_threedi_tools\\tests\\data\\multiple_polders\\poldera\\03_3di_resultaten\\0d1d_results\\hoorn #24 0d1d_test\n",
      "\n",
      "\n",
      "\u001b[1mStarting the download \u001b[0m\n",
      "1. Downloading to C:\\Users\\chris.kerklaan\\Documents\\Github\\hhnk-threedi-tools\\hhnk_threedi_tools\\tests\\data\\multiple_polders\\poldera\\03_3di_resultaten\\0d1d_results\\hoorn #24 0d1d_test\\results_3di.nc\n"
     ]
    },
    {
     "name": "stderr",
     "output_type": "stream",
     "text": [
      "100%|█████████████████████████████████████████████████████████████████████████████████████████████████████████████████████████████████████████████████████| 106M/106M [00:21<00:00, 5.21MB/s, file=results_3di.nc]\n"
     ]
    },
    {
     "name": "stdout",
     "output_type": "stream",
     "text": [
      "2. Downloading to C:\\Users\\chris.kerklaan\\Documents\\Github\\hhnk-threedi-tools\\hhnk_threedi_tools\\tests\\data\\multiple_polders\\poldera\\03_3di_resultaten\\0d1d_results\\hoorn #24 0d1d_test\\gridadmin.h5\n"
     ]
    },
    {
     "name": "stderr",
     "output_type": "stream",
     "text": [
      "100%|█████████████████████████████████████████████████████████████████████████████████████████████████████████████████████████████████████████████████████| 9.42M/9.42M [00:01<00:00, 5.38MB/s, file=gridadmin.h5]\n"
     ]
    },
    {
     "name": "stdout",
     "output_type": "stream",
     "text": [
      "3. Downloading to C:\\Users\\chris.kerklaan\\Documents\\Github\\hhnk-threedi-tools\\hhnk_threedi_tools\\tests\\data\\multiple_polders\\poldera\\03_3di_resultaten\\0d1d_results\\hoorn #24 0d1d_test\\log_files.zip\n"
     ]
    },
    {
     "name": "stderr",
     "output_type": "stream",
     "text": [
      "100%|████████████████████████████████████████████████████████████████████████████████████████████████████████████████████████████████████████████████████| 39.8k/39.8k [00:00<00:00, 2.20MB/s, file=log_files.zip]"
     ]
    },
    {
     "name": "stdout",
     "output_type": "stream",
     "text": [
      "All downloads finished!\n",
      "uuid_list: []\n",
      "code_list: []\n",
      "target_srs_list: []\n",
      "resolution_list: []\n",
      "time_list: []\n",
      "pathname_list: []\n"
     ]
    },
    {
     "name": "stderr",
     "output_type": "stream",
     "text": [
      "\n"
     ]
    }
   ],
   "source": [
    "from threedi_scenario_downloader import downloader as dl\n",
    "import os\n",
    "import logging\n",
    "import sys\n",
    "import importlib\n",
    "\n",
    "# pakketjes niet geinstalleerd? Kopieer van github en link met de onderstaande links:\n",
    "# sys.path.append('C:/Users/chris.kerklaan/Documents/Github/hhnk-threedi-tools')\n",
    "# sys.path.append('C:/Users/chris.kerklaan/Documents/Github/hhnk-research-tools')\n",
    "\n",
    "\n",
    "import ipywidgets as widgets\n",
    "from IPython.core.display import display, HTML; display(HTML(\"<style>.container {width:90% !important;}</style>\"))\n",
    "%matplotlib inline\n",
    "!jupyter nbextension enable --py --sys-prefix widgetsnbextension\n",
    "\n",
    "# local imports\n",
    "from hhnk_threedi_tools.core.api.download_gui import download_gui\n",
    "from hhnk_threedi_tools import read_notebook_json\n",
    "\n",
    "download_tab = download_gui(data=read_notebook_json(os.getcwd())); download_tab"
   ]
  },
  {
   "cell_type": "code",
   "execution_count": null,
   "metadata": {
    "ExecuteTime": {
     "end_time": "2021-09-29T12:22:07.503017Z",
     "start_time": "2021-09-29T12:22:07.486015Z"
    },
    "scrolled": true
   },
   "outputs": [],
   "source": [
    "import hhnk_threedi_tools as htt\n",
    "import os\n",
    "\n",
    "from hhnk_threedi_tools.core.folders import *\n",
    "\n",
    "folder = htt.Folders(os.path.join(polders_folder, 'poldera'))\n",
    "batch_fd = folder.threedi_results.batch['bwn_test #5 (1) klimaatsommen']\n",
    "\n",
    "\n",
    "# self = batch_fd.downloads\n",
    "# a=ThreediResult(self.full_path('test'))"
   ]
  },
  {
   "cell_type": "code",
   "execution_count": null,
   "metadata": {
    "ExecuteTime": {
     "end_time": "2021-09-29T09:14:40.447706Z",
     "start_time": "2021-09-29T09:13:36.370555Z"
    }
   },
   "outputs": [],
   "source": [
    "#Resume downloads\n",
    "# api_key = input('API key: ')\n",
    "api_key = download_tab.children[1].value\n",
    "# batch_csv_file = '../../07. Poldermodellen/10.tHoekje/03. Model resultaten Hydraulische Toets/2021-08-02 08h34_download_raster_batch.csv'\n",
    "batch_csv_file = r\"C:\\Users\\wvangerwen\\github\\hhnk-threedi-tools\\hhnk_threedi_tools\\tests\\data\\multiple_polders\\poldera\\03_3di_resultaten\\batch_results\\bwn_test #5 (1) klimaatsommen\\2021-09-24 13h48_download_raster_batch.csv\"\n",
    "\n",
    "from threedi_scenario_downloader import downloader as dl\n",
    "\n",
    "dl.set_api_key(api_key)\n",
    "dl.resume_download_tasks(batch_csv_file,overwrite=False)"
   ]
  },
  {
   "cell_type": "markdown",
   "metadata": {},
   "source": [
    "## Downloaden van rasters voor hetzelfde model op alle tijdstappen"
   ]
  },
  {
   "cell_type": "code",
   "execution_count": null,
   "metadata": {
    "ExecuteTime": {
     "end_time": "2021-03-24T13:51:01.238511Z",
     "start_time": "2021-03-24T11:56:26.877Z"
    }
   },
   "outputs": [],
   "source": [
    "dl.set_headers(input('username:'), getpass.getpass())"
   ]
  },
  {
   "cell_type": "code",
   "execution_count": null,
   "metadata": {},
   "outputs": [],
   "source": [
    "import os\n",
    "from threedi_scenario_downloader import downloader as dl\n",
    "import getpass\n",
    "#Change three discenario downloader\n",
    "# def new_get_headers():\n",
    "#     \"\"\"Setting the headers in the original toolbox is not easy when using this GUI. \n",
    "#     Therefore we change this function in the toolbox so everything else works.\"\"\"\n",
    "#     headers_results = {\n",
    "#     \"username\": '{}'.format('w.vanesse'),\n",
    "#     \"password\": '{}'.format(''),\n",
    "#     \"Content-Type\": \"application/json\"}\n",
    "#     return headers_results\n",
    "# setattr(dl,'get_headers', new_get_headers)\n",
    "\n",
    "output_folder = '../../07. Poldermodellen/102. Schermerboezem'\n",
    "uuid='555aaeca-ec9b-40e5-ae0b-ebb9f41505cf'\n",
    "resolution=5\n",
    "\n",
    "a=[]\n",
    "for h in range(4,24):\n",
    "    a.append('2016-01-05T{}:14:16'.format(str(h).zfill(2)))\n",
    "    \n",
    "for h in range(0,24):\n",
    "    a.append('2016-01-06T{}:14:16'.format(str(h).zfill(2)))\n",
    "    \n",
    "for h in range(0,4):\n",
    "    a.append('2016-01-07T{}:14:16'.format(str(h).zfill(2)))\n",
    "\n",
    "\n",
    "wdepth_path=[]\n",
    "for index, time in enumerate(a):\n",
    "    time_path = time.replace('-','_')\n",
    "    time_path = time_path.replace(':','_')\n",
    "    \n",
    "    wdepth_path += [os.path.join(output_folder, 'wdepth_'+ time_path +'.tif')]\n",
    "    wdepth_path[index]\n",
    "    if not os.path.exists(wdepth_path[index]):\n",
    "        print('Preparing download: {}'.format(time_path))\n",
    "        dl.download_waterdepth_raster(uuid,\"EPSG:28992\",resolution, time, pathname=wdepth_path[index])"
   ]
  }
 ],
 "metadata": {
  "interpreter": {
   "hash": "eea3b0fa5359ec1c5e7f02969caa90c878a261929c8203f99e9ee0f1d9a24aeb"
  },
  "kernelspec": {
   "display_name": "Python 3 (ipykernel)",
   "language": "python",
   "name": "python3"
  },
  "language_info": {
   "codemirror_mode": {
    "name": "ipython",
    "version": 3
   },
   "file_extension": ".py",
   "mimetype": "text/x-python",
   "name": "python",
   "nbconvert_exporter": "python",
   "pygments_lexer": "ipython3",
   "version": "3.7.10"
  }
 },
 "nbformat": 4,
 "nbformat_minor": 2
}
