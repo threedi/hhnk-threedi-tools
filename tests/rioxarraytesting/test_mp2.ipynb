{
 "cells": [
  {
   "cell_type": "markdown",
   "metadata": {},
   "source": [
    "# Xarray with Dask Arrays\n",
    "\n",
    "<img src=\"images/dataset-diagram-logo.png\" \n",
    "     align=\"right\"\n",
    "     width=\"66%\"\n",
    "     alt=\"Xarray Dataset\">\n",
    "     \n",
    "**[Xarray](http://xarray.pydata.org/en/stable/)** is an open source project and Python package that extends the labeled data functionality of [Pandas](https://pandas.pydata.org/) to N-dimensional array-like datasets. It shares a similar API to [NumPy](http://www.numpy.org/) and [Pandas](https://pandas.pydata.org/) and supports both [Dask](https://dask.org/) and [NumPy](http://www.numpy.org/) arrays under the hood."
   ]
  },
  {
   "cell_type": "code",
   "execution_count": null,
   "metadata": {
    "execution": {
     "iopub.execute_input": "2022-07-27T19:14:14.990388Z",
     "iopub.status.busy": "2022-07-27T19:14:14.990139Z",
     "iopub.status.idle": "2022-07-27T19:14:16.610557Z",
     "shell.execute_reply": "2022-07-27T19:14:16.609763Z"
    }
   },
   "outputs": [],
   "source": [
    "%matplotlib inline\n",
    "\n",
    "from dask.distributed import Client\n",
    "import xarray as xr"
   ]
  },
  {
   "cell_type": "markdown",
   "metadata": {},
   "source": [
    "## Start Dask Client for Dashboard\n",
    "\n",
    "Starting the Dask Client is optional.  It will provide a dashboard which \n",
    "is useful to gain insight on the computation.  \n",
    "\n",
    "The link to the dashboard will become visible when you create the client below.  We recommend having it open on one side of your screen while using your notebook on the other side.  This can take some effort to arrange your windows, but seeing them both at the same is very useful when learning."
   ]
  },
  {
   "cell_type": "code",
   "execution_count": null,
   "metadata": {
    "execution": {
     "iopub.execute_input": "2022-07-27T19:14:16.615961Z",
     "iopub.status.busy": "2022-07-27T19:14:16.615121Z",
     "iopub.status.idle": "2022-07-27T19:14:18.159546Z",
     "shell.execute_reply": "2022-07-27T19:14:18.159000Z"
    }
   },
   "outputs": [],
   "source": [
    "client = Client(n_workers=2, threads_per_worker=2, memory_limit=\"1GB\")\n",
    "client"
   ]
  },
  {
   "cell_type": "markdown",
   "metadata": {},
   "source": [
    "## Open a sample dataset\n",
    "\n",
    "We will use some of xarray's tutorial data for this example. By specifying the chunk shape, xarray will automatically create Dask arrays for each data variable in the `Dataset`. In xarray, `Datasets` are dict-like container of labeled arrays, analogous to the `pandas.DataFrame`. Note that we're taking advantage of xarray's dimension labels when specifying chunk shapes."
   ]
  },
  {
   "cell_type": "code",
   "execution_count": null,
   "metadata": {
    "execution": {
     "iopub.execute_input": "2022-07-27T19:14:18.162948Z",
     "iopub.status.busy": "2022-07-27T19:14:18.162479Z",
     "iopub.status.idle": "2022-07-27T19:14:18.703131Z",
     "shell.execute_reply": "2022-07-27T19:14:18.701890Z"
    }
   },
   "outputs": [],
   "source": [
    "ds = xr.tutorial.open_dataset(\"air_temperature\", chunks={\"lat\": 25, \"lon\": 25, \"time\": -1})\n",
    "ds"
   ]
  },
  {
   "cell_type": "markdown",
   "metadata": {},
   "source": [
    "Quickly inspecting the `Dataset` above, we'll note that this `Dataset` has three _dimensions_ akin to axes in NumPy (`lat`, `lon`, and `time`), three _coordinate variables_ akin to `pandas.Index` objects (also named `lat`, `lon`, and `time`), and one data variable (`air`). Xarray also holds Dataset specific metadata as _attributes_."
   ]
  },
  {
   "cell_type": "code",
   "execution_count": null,
   "metadata": {
    "execution": {
     "iopub.execute_input": "2022-07-27T19:14:18.706930Z",
     "iopub.status.busy": "2022-07-27T19:14:18.706390Z",
     "iopub.status.idle": "2022-07-27T19:14:18.729049Z",
     "shell.execute_reply": "2022-07-27T19:14:18.728535Z"
    }
   },
   "outputs": [],
   "source": [
    "da = ds[\"air\"]\n",
    "da"
   ]
  },
  {
   "cell_type": "markdown",
   "metadata": {},
   "source": [
    "Each data variable in xarray is called a `DataArray`. These are the fundamental labeled array objects in xarray. Much like the `Dataset`, `DataArrays` also have _dimensions_ and _coordinates_ that support many of its label-based opperations."
   ]
  },
  {
   "cell_type": "code",
   "execution_count": null,
   "metadata": {
    "execution": {
     "iopub.execute_input": "2022-07-27T19:14:18.732054Z",
     "iopub.status.busy": "2022-07-27T19:14:18.731747Z",
     "iopub.status.idle": "2022-07-27T19:14:18.742093Z",
     "shell.execute_reply": "2022-07-27T19:14:18.741568Z"
    }
   },
   "outputs": [],
   "source": [
    "da.data"
   ]
  },
  {
   "cell_type": "markdown",
   "metadata": {},
   "source": [
    "Accessing the underlying array of data is done via the `data` property. Here we can see that we have a Dask array. If this array were to be backed by a NumPy array, this property would point to the actual values in the array."
   ]
  },
  {
   "cell_type": "markdown",
   "metadata": {},
   "source": [
    "## Use Standard Xarray Operations\n",
    "\n",
    "In almost all cases, operations using xarray objects are identical, regardless if the underlying data is stored as a Dask array or a NumPy array."
   ]
  },
  {
   "cell_type": "code",
   "execution_count": null,
   "metadata": {
    "execution": {
     "iopub.execute_input": "2022-07-27T19:14:18.744907Z",
     "iopub.status.busy": "2022-07-27T19:14:18.744498Z",
     "iopub.status.idle": "2022-07-27T19:14:18.810650Z",
     "shell.execute_reply": "2022-07-27T19:14:18.809976Z"
    }
   },
   "outputs": [],
   "source": [
    "da2 = da.groupby(\"time.month\").mean(\"time\")\n",
    "da3 = da - da2\n",
    "da3"
   ]
  },
  {
   "cell_type": "markdown",
   "metadata": {},
   "source": [
    "Call `.compute()` or `.load()` when you want your result as a `xarray.DataArray` with data stored as NumPy arrays.\n",
    "\n",
    "If you started `Client()` above then you may want to watch the status page during computation."
   ]
  },
  {
   "cell_type": "code",
   "execution_count": null,
   "metadata": {
    "execution": {
     "iopub.execute_input": "2022-07-27T19:14:18.813740Z",
     "iopub.status.busy": "2022-07-27T19:14:18.813301Z",
     "iopub.status.idle": "2022-07-27T19:14:20.374122Z",
     "shell.execute_reply": "2022-07-27T19:14:20.373492Z"
    }
   },
   "outputs": [],
   "source": [
    "computed_da = da3.load()\n",
    "type(computed_da.data)"
   ]
  },
  {
   "cell_type": "code",
   "execution_count": null,
   "metadata": {
    "execution": {
     "iopub.execute_input": "2022-07-27T19:14:20.377674Z",
     "iopub.status.busy": "2022-07-27T19:14:20.377307Z",
     "iopub.status.idle": "2022-07-27T19:14:20.429522Z",
     "shell.execute_reply": "2022-07-27T19:14:20.428835Z"
    }
   },
   "outputs": [],
   "source": [
    "computed_da"
   ]
  },
  {
   "cell_type": "markdown",
   "metadata": {},
   "source": [
    "## Persist data in memory\n",
    "\n",
    "If you have the available RAM for your dataset then you can persist data in memory.  \n",
    "\n",
    "This allows future computations to be much faster."
   ]
  },
  {
   "cell_type": "code",
   "execution_count": null,
   "metadata": {
    "execution": {
     "iopub.execute_input": "2022-07-27T19:14:20.432764Z",
     "iopub.status.busy": "2022-07-27T19:14:20.432251Z",
     "iopub.status.idle": "2022-07-27T19:14:20.449806Z",
     "shell.execute_reply": "2022-07-27T19:14:20.444113Z"
    }
   },
   "outputs": [],
   "source": [
    "da = da.persist()"
   ]
  },
  {
   "cell_type": "markdown",
   "metadata": {},
   "source": [
    "## Time Series Operations\n",
    "\n",
    "Because we have a datetime index time-series operations work efficiently. Here we demo the use of xarray's resample method:"
   ]
  },
  {
   "cell_type": "code",
   "execution_count": null,
   "metadata": {
    "execution": {
     "iopub.execute_input": "2022-07-27T19:14:20.452861Z",
     "iopub.status.busy": "2022-07-27T19:14:20.452409Z",
     "iopub.status.idle": "2022-07-27T19:14:20.707216Z",
     "shell.execute_reply": "2022-07-27T19:14:20.706694Z"
    }
   },
   "outputs": [],
   "source": [
    "da.resample(time=\"1w\").mean(\"time\").std(\"time\")"
   ]
  },
  {
   "cell_type": "code",
   "execution_count": null,
   "metadata": {
    "execution": {
     "iopub.execute_input": "2022-07-27T19:14:20.718149Z",
     "iopub.status.busy": "2022-07-27T19:14:20.710650Z",
     "iopub.status.idle": "2022-07-27T19:14:22.778848Z",
     "shell.execute_reply": "2022-07-27T19:14:22.777972Z"
    }
   },
   "outputs": [],
   "source": [
    "da.resample(time=\"1w\").mean(\"time\").std(\"time\").load().plot(figsize=(12, 8))"
   ]
  },
  {
   "cell_type": "markdown",
   "metadata": {},
   "source": [
    "and rolling window operations:"
   ]
  },
  {
   "cell_type": "code",
   "execution_count": null,
   "metadata": {
    "execution": {
     "iopub.execute_input": "2022-07-27T19:14:22.782427Z",
     "iopub.status.busy": "2022-07-27T19:14:22.781914Z",
     "iopub.status.idle": "2022-07-27T19:14:22.887586Z",
     "shell.execute_reply": "2022-07-27T19:14:22.885001Z"
    }
   },
   "outputs": [],
   "source": [
    "da_smooth = da.rolling(time=30).mean().persist()\n",
    "da_smooth"
   ]
  },
  {
   "cell_type": "markdown",
   "metadata": {},
   "source": [
    "Since xarray stores each of its coordinate variables in memory, slicing by label is trivial and entirely lazy."
   ]
  },
  {
   "cell_type": "code",
   "execution_count": null,
   "metadata": {
    "execution": {
     "iopub.execute_input": "2022-07-27T19:14:22.897318Z",
     "iopub.status.busy": "2022-07-27T19:14:22.895132Z",
     "iopub.status.idle": "2022-07-27T19:14:22.941105Z",
     "shell.execute_reply": "2022-07-27T19:14:22.940345Z"
    }
   },
   "outputs": [],
   "source": [
    "%time da.sel(time='2013-01-01T18:00:00')"
   ]
  },
  {
   "cell_type": "code",
   "execution_count": null,
   "metadata": {
    "execution": {
     "iopub.execute_input": "2022-07-27T19:14:22.947428Z",
     "iopub.status.busy": "2022-07-27T19:14:22.946356Z",
     "iopub.status.idle": "2022-07-27T19:14:23.075228Z",
     "shell.execute_reply": "2022-07-27T19:14:23.074353Z"
    }
   },
   "outputs": [],
   "source": [
    "%time da.sel(time='2013-01-01T18:00:00').load()"
   ]
  },
  {
   "cell_type": "markdown",
   "metadata": {},
   "source": [
    "## Custom workflows and automatic parallelization"
   ]
  },
  {
   "cell_type": "markdown",
   "metadata": {},
   "source": [
    "Almost all of xarray’s built-in operations work on Dask arrays. If you want to use a function that isn’t wrapped by xarray, one option is to extract Dask arrays from xarray objects (.data) and use Dask directly.\n",
    "\n",
    "Another option is to use xarray’s `apply_ufunc()` function, which can automate embarrassingly parallel “map” type operations where a function written for processing NumPy arrays should be repeatedly applied to xarray objects containing Dask arrays. It works similarly to `dask.array.map_blocks()` and `dask.array.blockwise()`, but without requiring an intermediate layer of abstraction.\n",
    "\n",
    "Here we show an example using NumPy operations and a fast function from `bottleneck`, which we use to calculate Spearman’s rank-correlation coefficient:"
   ]
  },
  {
   "cell_type": "code",
   "execution_count": null,
   "metadata": {
    "execution": {
     "iopub.execute_input": "2022-07-27T19:14:23.081037Z",
     "iopub.status.busy": "2022-07-27T19:14:23.078773Z",
     "iopub.status.idle": "2022-07-27T19:14:23.095483Z",
     "shell.execute_reply": "2022-07-27T19:14:23.093372Z"
    }
   },
   "outputs": [],
   "source": [
    "import numpy as np\n",
    "import xarray as xr\n",
    "import bottleneck\n",
    "\n",
    "\n",
    "def covariance_gufunc(x, y):\n",
    "    return ((x - x.mean(axis=-1, keepdims=True)) * (y - y.mean(axis=-1, keepdims=True))).mean(axis=-1)\n",
    "\n",
    "\n",
    "def pearson_correlation_gufunc(x, y):\n",
    "    return covariance_gufunc(x, y) / (x.std(axis=-1) * y.std(axis=-1))\n",
    "\n",
    "\n",
    "def spearman_correlation_gufunc(x, y):\n",
    "    x_ranks = bottleneck.rankdata(x, axis=-1)\n",
    "    y_ranks = bottleneck.rankdata(y, axis=-1)\n",
    "    return pearson_correlation_gufunc(x_ranks, y_ranks)\n",
    "\n",
    "\n",
    "def spearman_correlation(x, y, dim):\n",
    "    return xr.apply_ufunc(\n",
    "        spearman_correlation_gufunc, x, y, input_core_dims=[[dim], [dim]], dask=\"parallelized\", output_dtypes=[float]\n",
    "    )"
   ]
  },
  {
   "cell_type": "markdown",
   "metadata": {},
   "source": [
    "In the examples above, we were working with an some air temperature data. For this example, we'll calculate the spearman correlation using the raw air temperature data with the smoothed version that we also created (`da_smooth`). For this, we'll also have to rechunk the data ahead of time."
   ]
  },
  {
   "cell_type": "code",
   "execution_count": null,
   "metadata": {
    "execution": {
     "iopub.execute_input": "2022-07-27T19:14:23.103207Z",
     "iopub.status.busy": "2022-07-27T19:14:23.101006Z",
     "iopub.status.idle": "2022-07-27T19:14:23.163083Z",
     "shell.execute_reply": "2022-07-27T19:14:23.162556Z"
    }
   },
   "outputs": [],
   "source": [
    "corr = spearman_correlation(da.chunk({\"time\": -1}), da_smooth.chunk({\"time\": -1}), \"time\")\n",
    "corr"
   ]
  },
  {
   "cell_type": "code",
   "execution_count": null,
   "metadata": {
    "execution": {
     "iopub.execute_input": "2022-07-27T19:14:23.167769Z",
     "iopub.status.busy": "2022-07-27T19:14:23.166590Z",
     "iopub.status.idle": "2022-07-27T19:14:23.849126Z",
     "shell.execute_reply": "2022-07-27T19:14:23.848425Z"
    }
   },
   "outputs": [],
   "source": [
    "corr.plot(figsize=(12, 8))"
   ]
  }
 ],
 "metadata": {
  "kernelspec": {
   "display_name": "Python 3 (ipykernel)",
   "language": "python",
   "name": "python3"
  },
  "language_info": {
   "codemirror_mode": {
    "name": "ipython",
    "version": 3
   },
   "file_extension": ".py",
   "mimetype": "text/x-python",
   "name": "python",
   "nbconvert_exporter": "python",
   "pygments_lexer": "ipython3",
   "version": "3.9.18"
  }
 },
 "nbformat": 4,
 "nbformat_minor": 4
}
